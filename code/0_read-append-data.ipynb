{
 "cells": [
  {
   "cell_type": "markdown",
   "metadata": {},
   "source": [
    "Setup"
   ]
  },
  {
   "cell_type": "code",
   "execution_count": null,
   "metadata": {},
   "outputs": [],
   "source": [
    "# install packages\n",
    "import Pkg;\n",
    "Pkg.add(\"CSV\");\n",
    "Pkg.add(\"DataFrames\");"
   ]
  },
  {
   "cell_type": "code",
   "execution_count": 1,
   "metadata": {},
   "outputs": [],
   "source": [
    "# load packages\n",
    "using CSV;\n",
    "using DataFrames;"
   ]
  },
  {
   "cell_type": "code",
   "execution_count": 2,
   "metadata": {},
   "outputs": [],
   "source": [
    "# setup filepaths\n",
    "path_source = string(@__DIR__,\"\\\\..\\\\source\");\n",
    "path_dev = string(@__DIR__,\"\\\\..\\\\dev\");"
   ]
  },
  {
   "cell_type": "markdown",
   "metadata": {},
   "source": [
    "Read files"
   ]
  },
  {
   "cell_type": "code",
   "execution_count": 3,
   "metadata": {},
   "outputs": [
    {
     "data": {
      "text/html": [
       "<table class=\"data-frame\"><thead><tr><th></th><th>VAERS_ID</th><th>YEAR</th><th>RECVDATE</th><th>STATE</th><th>AGE_YRS</th><th>CAGE_YR</th><th>CAGE_MO</th><th>SEX</th><th>RPT_DATE</th></tr><tr><th></th><th>Int64</th><th>String</th><th>String</th><th>String?</th><th>Float64?</th><th>Int64?</th><th>Float64?</th><th>String</th><th>String?</th></tr></thead><tbody><p>5 rows × 36 columns (omitted printing of 27 columns)</p><tr><th>1</th><td>794156</td><td>2019</td><td>01/01/2019</td><td><em>missing</em></td><td>69.0</td><td>69</td><td><em>missing</em></td><td>F</td><td><em>missing</em></td></tr><tr><th>2</th><td>794157</td><td>2019</td><td>01/01/2019</td><td>IL</td><td>68.0</td><td>68</td><td><em>missing</em></td><td>F</td><td><em>missing</em></td></tr><tr><th>3</th><td>794158</td><td>2019</td><td>01/01/2019</td><td>MA</td><td>62.0</td><td>62</td><td><em>missing</em></td><td>F</td><td><em>missing</em></td></tr><tr><th>4</th><td>794159</td><td>2019</td><td>01/01/2019</td><td>UT</td><td>5.0</td><td>5</td><td><em>missing</em></td><td>M</td><td><em>missing</em></td></tr><tr><th>5</th><td>794160</td><td>2019</td><td>01/01/2019</td><td>TX</td><td>79.0</td><td>79</td><td><em>missing</em></td><td>F</td><td><em>missing</em></td></tr></tbody></table>"
      ],
      "text/latex": [
       "\\begin{tabular}{r|cccccccccc}\n",
       "\t& VAERS\\_ID & YEAR & RECVDATE & STATE & AGE\\_YRS & CAGE\\_YR & CAGE\\_MO & SEX & RPT\\_DATE & \\\\\n",
       "\t\\hline\n",
       "\t& Int64 & String & String & String? & Float64? & Int64? & Float64? & String & String? & \\\\\n",
       "\t\\hline\n",
       "\t1 & 794156 & 2019 & 01/01/2019 & \\emph{missing} & 69.0 & 69 & \\emph{missing} & F & \\emph{missing} & $\\dots$ \\\\\n",
       "\t2 & 794157 & 2019 & 01/01/2019 & IL & 68.0 & 68 & \\emph{missing} & F & \\emph{missing} & $\\dots$ \\\\\n",
       "\t3 & 794158 & 2019 & 01/01/2019 & MA & 62.0 & 62 & \\emph{missing} & F & \\emph{missing} & $\\dots$ \\\\\n",
       "\t4 & 794159 & 2019 & 01/01/2019 & UT & 5.0 & 5 & \\emph{missing} & M & \\emph{missing} & $\\dots$ \\\\\n",
       "\t5 & 794160 & 2019 & 01/01/2019 & TX & 79.0 & 79 & \\emph{missing} & F & \\emph{missing} & $\\dots$ \\\\\n",
       "\\end{tabular}\n"
      ],
      "text/plain": [
       "\u001b[1m5×36 DataFrame\u001b[0m\n",
       "\u001b[1m Row \u001b[0m│\u001b[1m VAERS_ID \u001b[0m\u001b[1m YEAR   \u001b[0m\u001b[1m RECVDATE   \u001b[0m\u001b[1m STATE   \u001b[0m\u001b[1m AGE_YRS  \u001b[0m\u001b[1m CAGE_YR \u001b[0m\u001b[1m CAGE_MO  \u001b[0m\u001b[1m SEX\u001b[0m ⋯\n",
       "\u001b[1m     \u001b[0m│\u001b[90m Int64    \u001b[0m\u001b[90m String \u001b[0m\u001b[90m String     \u001b[0m\u001b[90m String? \u001b[0m\u001b[90m Float64? \u001b[0m\u001b[90m Int64?  \u001b[0m\u001b[90m Float64? \u001b[0m\u001b[90m Str\u001b[0m ⋯\n",
       "─────┼──────────────────────────────────────────────────────────────────────────\n",
       "   1 │   794156  2019    01/01/2019 \u001b[90m missing \u001b[0m     69.0       69 \u001b[90m missing  \u001b[0m F   ⋯\n",
       "   2 │   794157  2019    01/01/2019  IL           68.0       68 \u001b[90m missing  \u001b[0m F\n",
       "   3 │   794158  2019    01/01/2019  MA           62.0       62 \u001b[90m missing  \u001b[0m F\n",
       "   4 │   794159  2019    01/01/2019  UT            5.0        5 \u001b[90m missing  \u001b[0m M\n",
       "   5 │   794160  2019    01/01/2019  TX           79.0       79 \u001b[90m missing  \u001b[0m F   ⋯\n",
       "\u001b[36m                                                              29 columns omitted\u001b[0m"
      ]
     },
     "execution_count": 3,
     "metadata": {},
     "output_type": "execute_result"
    }
   ],
   "source": [
    "# read in VAERS files for 2019\n",
    "df_data19 = CSV.read(joinpath(path_source,\"2019VAERSDATA.csv\"), DataFrame);\n",
    "df_symp19 = CSV.read(joinpath(path_source,\"2019VAERSSYMPTOMS.csv\"), DataFrame);\n",
    "df_vax19 = CSV.read(joinpath(path_source,\"2019VAERSVAX.csv\"), DataFrame);\n",
    "insertcols!(df_data19, 2, :YEAR => \"2019\");\n",
    "first(df_data19, 5)"
   ]
  },
  {
   "cell_type": "code",
   "execution_count": 4,
   "metadata": {},
   "outputs": [
    {
     "data": {
      "text/html": [
       "<table class=\"data-frame\"><thead><tr><th></th><th>VAERS_ID</th><th>YEAR</th><th>RECVDATE</th><th>STATE</th><th>AGE_YRS</th><th>CAGE_YR</th><th>CAGE_MO</th><th>SEX</th><th>RPT_DATE</th></tr><tr><th></th><th>Int64</th><th>String</th><th>String</th><th>String?</th><th>Float64?</th><th>Int64?</th><th>Float64?</th><th>String</th><th>String?</th></tr></thead><tbody><p>5 rows × 36 columns (omitted printing of 27 columns)</p><tr><th>1</th><td>855017</td><td>2020</td><td>01/01/2020</td><td>HI</td><td>55.0</td><td>55</td><td><em>missing</em></td><td>F</td><td><em>missing</em></td></tr><tr><th>2</th><td>855018</td><td>2020</td><td>01/01/2020</td><td>WI</td><td>68.0</td><td>68</td><td><em>missing</em></td><td>F</td><td><em>missing</em></td></tr><tr><th>3</th><td>855019</td><td>2020</td><td>01/01/2020</td><td><em>missing</em></td><td>50.0</td><td>50</td><td><em>missing</em></td><td>F</td><td><em>missing</em></td></tr><tr><th>4</th><td>855020</td><td>2020</td><td>01/01/2020</td><td>TX</td><td>67.0</td><td>67</td><td><em>missing</em></td><td>F</td><td><em>missing</em></td></tr><tr><th>5</th><td>855021</td><td>2020</td><td>01/01/2020</td><td><em>missing</em></td><td>73.0</td><td>73</td><td><em>missing</em></td><td>F</td><td><em>missing</em></td></tr></tbody></table>"
      ],
      "text/latex": [
       "\\begin{tabular}{r|cccccccccc}\n",
       "\t& VAERS\\_ID & YEAR & RECVDATE & STATE & AGE\\_YRS & CAGE\\_YR & CAGE\\_MO & SEX & RPT\\_DATE & \\\\\n",
       "\t\\hline\n",
       "\t& Int64 & String & String & String? & Float64? & Int64? & Float64? & String & String? & \\\\\n",
       "\t\\hline\n",
       "\t1 & 855017 & 2020 & 01/01/2020 & HI & 55.0 & 55 & \\emph{missing} & F & \\emph{missing} & $\\dots$ \\\\\n",
       "\t2 & 855018 & 2020 & 01/01/2020 & WI & 68.0 & 68 & \\emph{missing} & F & \\emph{missing} & $\\dots$ \\\\\n",
       "\t3 & 855019 & 2020 & 01/01/2020 & \\emph{missing} & 50.0 & 50 & \\emph{missing} & F & \\emph{missing} & $\\dots$ \\\\\n",
       "\t4 & 855020 & 2020 & 01/01/2020 & TX & 67.0 & 67 & \\emph{missing} & F & \\emph{missing} & $\\dots$ \\\\\n",
       "\t5 & 855021 & 2020 & 01/01/2020 & \\emph{missing} & 73.0 & 73 & \\emph{missing} & F & \\emph{missing} & $\\dots$ \\\\\n",
       "\\end{tabular}\n"
      ],
      "text/plain": [
       "\u001b[1m5×36 DataFrame\u001b[0m\n",
       "\u001b[1m Row \u001b[0m│\u001b[1m VAERS_ID \u001b[0m\u001b[1m YEAR   \u001b[0m\u001b[1m RECVDATE   \u001b[0m\u001b[1m STATE   \u001b[0m\u001b[1m AGE_YRS  \u001b[0m\u001b[1m CAGE_YR \u001b[0m\u001b[1m CAGE_MO  \u001b[0m\u001b[1m SEX\u001b[0m ⋯\n",
       "\u001b[1m     \u001b[0m│\u001b[90m Int64    \u001b[0m\u001b[90m String \u001b[0m\u001b[90m String     \u001b[0m\u001b[90m String? \u001b[0m\u001b[90m Float64? \u001b[0m\u001b[90m Int64?  \u001b[0m\u001b[90m Float64? \u001b[0m\u001b[90m Str\u001b[0m ⋯\n",
       "─────┼──────────────────────────────────────────────────────────────────────────\n",
       "   1 │   855017  2020    01/01/2020  HI           55.0       55 \u001b[90m missing  \u001b[0m F   ⋯\n",
       "   2 │   855018  2020    01/01/2020  WI           68.0       68 \u001b[90m missing  \u001b[0m F\n",
       "   3 │   855019  2020    01/01/2020 \u001b[90m missing \u001b[0m     50.0       50 \u001b[90m missing  \u001b[0m F\n",
       "   4 │   855020  2020    01/01/2020  TX           67.0       67 \u001b[90m missing  \u001b[0m F\n",
       "   5 │   855021  2020    01/01/2020 \u001b[90m missing \u001b[0m     73.0       73 \u001b[90m missing  \u001b[0m F   ⋯\n",
       "\u001b[36m                                                              29 columns omitted\u001b[0m"
      ]
     },
     "execution_count": 4,
     "metadata": {},
     "output_type": "execute_result"
    }
   ],
   "source": [
    "# read in VAERS files for 2020\n",
    "df_data20 = CSV.read(joinpath(path_source,\"2020VAERSDATA.csv\"), DataFrame);\n",
    "df_symp20 = CSV.read(joinpath(path_source,\"2020VAERSSYMPTOMS.csv\"), DataFrame);\n",
    "df_vax20 = CSV.read(joinpath(path_source,\"2020VAERSVAX.csv\"), DataFrame);\n",
    "insertcols!(df_data20, 2, :YEAR => \"2020\");\n",
    "first(df_data20, 5)"
   ]
  },
  {
   "cell_type": "code",
   "execution_count": 5,
   "metadata": {},
   "outputs": [
    {
     "data": {
      "text/html": [
       "<table class=\"data-frame\"><thead><tr><th></th><th>VAERS_ID</th><th>YEAR</th><th>RECVDATE</th><th>STATE</th><th>AGE_YRS</th><th>CAGE_YR</th><th>CAGE_MO</th><th>SEX</th><th>RPT_DATE</th></tr><tr><th></th><th>Int64</th><th>String</th><th>String</th><th>String?</th><th>Float64?</th><th>Int64?</th><th>Float64?</th><th>String</th><th>String?</th></tr></thead><tbody><p>5 rows × 36 columns (omitted printing of 27 columns)</p><tr><th>1</th><td>916600</td><td>2021</td><td>01/01/2021</td><td>TX</td><td>33.0</td><td>33</td><td><em>missing</em></td><td>F</td><td><em>missing</em></td></tr><tr><th>2</th><td>916601</td><td>2021</td><td>01/01/2021</td><td>CA</td><td>73.0</td><td>73</td><td><em>missing</em></td><td>F</td><td><em>missing</em></td></tr><tr><th>3</th><td>916602</td><td>2021</td><td>01/01/2021</td><td>WA</td><td>23.0</td><td>23</td><td><em>missing</em></td><td>F</td><td><em>missing</em></td></tr><tr><th>4</th><td>916603</td><td>2021</td><td>01/01/2021</td><td>WA</td><td>58.0</td><td>58</td><td><em>missing</em></td><td>F</td><td><em>missing</em></td></tr><tr><th>5</th><td>916604</td><td>2021</td><td>01/01/2021</td><td>TX</td><td>47.0</td><td>47</td><td><em>missing</em></td><td>F</td><td><em>missing</em></td></tr></tbody></table>"
      ],
      "text/latex": [
       "\\begin{tabular}{r|cccccccccc}\n",
       "\t& VAERS\\_ID & YEAR & RECVDATE & STATE & AGE\\_YRS & CAGE\\_YR & CAGE\\_MO & SEX & RPT\\_DATE & \\\\\n",
       "\t\\hline\n",
       "\t& Int64 & String & String & String? & Float64? & Int64? & Float64? & String & String? & \\\\\n",
       "\t\\hline\n",
       "\t1 & 916600 & 2021 & 01/01/2021 & TX & 33.0 & 33 & \\emph{missing} & F & \\emph{missing} & $\\dots$ \\\\\n",
       "\t2 & 916601 & 2021 & 01/01/2021 & CA & 73.0 & 73 & \\emph{missing} & F & \\emph{missing} & $\\dots$ \\\\\n",
       "\t3 & 916602 & 2021 & 01/01/2021 & WA & 23.0 & 23 & \\emph{missing} & F & \\emph{missing} & $\\dots$ \\\\\n",
       "\t4 & 916603 & 2021 & 01/01/2021 & WA & 58.0 & 58 & \\emph{missing} & F & \\emph{missing} & $\\dots$ \\\\\n",
       "\t5 & 916604 & 2021 & 01/01/2021 & TX & 47.0 & 47 & \\emph{missing} & F & \\emph{missing} & $\\dots$ \\\\\n",
       "\\end{tabular}\n"
      ],
      "text/plain": [
       "\u001b[1m5×36 DataFrame\u001b[0m\n",
       "\u001b[1m Row \u001b[0m│\u001b[1m VAERS_ID \u001b[0m\u001b[1m YEAR   \u001b[0m\u001b[1m RECVDATE   \u001b[0m\u001b[1m STATE   \u001b[0m\u001b[1m AGE_YRS  \u001b[0m\u001b[1m CAGE_YR \u001b[0m\u001b[1m CAGE_MO  \u001b[0m\u001b[1m SEX\u001b[0m ⋯\n",
       "\u001b[1m     \u001b[0m│\u001b[90m Int64    \u001b[0m\u001b[90m String \u001b[0m\u001b[90m String     \u001b[0m\u001b[90m String? \u001b[0m\u001b[90m Float64? \u001b[0m\u001b[90m Int64?  \u001b[0m\u001b[90m Float64? \u001b[0m\u001b[90m Str\u001b[0m ⋯\n",
       "─────┼──────────────────────────────────────────────────────────────────────────\n",
       "   1 │   916600  2021    01/01/2021  TX           33.0       33 \u001b[90m missing  \u001b[0m F   ⋯\n",
       "   2 │   916601  2021    01/01/2021  CA           73.0       73 \u001b[90m missing  \u001b[0m F\n",
       "   3 │   916602  2021    01/01/2021  WA           23.0       23 \u001b[90m missing  \u001b[0m F\n",
       "   4 │   916603  2021    01/01/2021  WA           58.0       58 \u001b[90m missing  \u001b[0m F\n",
       "   5 │   916604  2021    01/01/2021  TX           47.0       47 \u001b[90m missing  \u001b[0m F   ⋯\n",
       "\u001b[36m                                                              29 columns omitted\u001b[0m"
      ]
     },
     "execution_count": 5,
     "metadata": {},
     "output_type": "execute_result"
    }
   ],
   "source": [
    "# read in VAERS files for 2021\n",
    "df_data21 = CSV.read(joinpath(path_source,\"2021VAERSDATA.csv\"), DataFrame);\n",
    "df_symp21 = CSV.read(joinpath(path_source,\"2021VAERSSYMPTOMS.csv\"), DataFrame);\n",
    "df_vax21 = CSV.read(joinpath(path_source,\"2021VAERSVAX.csv\"), DataFrame);\n",
    "insertcols!(df_data21, 2, :YEAR => \"2021\");\n",
    "first(df_data21, 5)"
   ]
  },
  {
   "cell_type": "markdown",
   "metadata": {},
   "source": [
    "Append files"
   ]
  },
  {
   "cell_type": "code",
   "execution_count": 8,
   "metadata": {},
   "outputs": [
    {
     "name": "stdout",
     "output_type": "stream",
     "text": [
      "(48444, 36)(46263, 36)(40348, 36)(135055, 36)"
     ]
    }
   ],
   "source": [
    "# append VAERS data files from 2019-2021\n",
    "print(size(df_data19));\n",
    "print(size(df_data20));\n",
    "print(size(df_data21));\n",
    "df_data_appended = reduce(vcat, [df_data19, df_data20, df_data21]);\n",
    "print(size(df_data_appended));\n",
    "\n",
    "# write to dev\n",
    "CSV.write(joinpath(path_dev,\"19-21VAERSDATA.csv\"), df_data_appended);"
   ]
  },
  {
   "cell_type": "code",
   "execution_count": 9,
   "metadata": {},
   "outputs": [
    {
     "name": "stdout",
     "output_type": "stream",
     "text": [
      "(60214, 11)(56954, 11)(56533, 11)(173701, 11)"
     ]
    }
   ],
   "source": [
    "# append VAERS symptoms files from 2019-2021\n",
    "print(size(df_symp19));\n",
    "print(size(df_symp20));\n",
    "print(size(df_symp21));\n",
    "df_symp_appended = reduce(vcat, [df_symp19, df_symp20, df_symp21]);\n",
    "print(size(df_symp_appended));\n",
    "\n",
    "# write to dev\n",
    "CSV.write(joinpath(path_dev,\"19-21VAERSSYMPTOMS.csv\"), df_symp_appended);"
   ]
  },
  {
   "cell_type": "code",
   "execution_count": 10,
   "metadata": {},
   "outputs": [
    {
     "name": "stdout",
     "output_type": "stream",
     "text": [
      "(61204, 8)(55640, 8)(40937, 8)(157781, 8)"
     ]
    }
   ],
   "source": [
    "# append VAERS vaccine files from 2019-2021\n",
    "print(size(df_vax19));\n",
    "print(size(df_vax20));\n",
    "print(size(df_vax21));\n",
    "df_vax_appended = reduce(vcat, [df_vax19, df_vax20, df_vax21]);\n",
    "print(size(df_vax_appended));\n",
    "\n",
    "# write to dev\n",
    "CSV.write(joinpath(path_dev,\"19-21VAERSVAX.csv\"), df_vax_appended);"
   ]
  }
 ],
 "metadata": {
  "kernelspec": {
   "display_name": "Julia 1.6.0",
   "language": "julia",
   "name": "julia-1.6"
  },
  "language_info": {
   "file_extension": ".jl",
   "mimetype": "application/julia",
   "name": "julia",
   "version": "1.6.0"
  }
 },
 "nbformat": 4,
 "nbformat_minor": 4
}
