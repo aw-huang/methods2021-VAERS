{
 "cells": [
  {
   "cell_type": "markdown",
   "metadata": {},
   "source": [
    "Setup"
   ]
  },
  {
   "cell_type": "code",
   "execution_count": null,
   "metadata": {},
   "outputs": [],
   "source": [
    "# install packages\n",
    "import Pkg;\n",
    "Pkg.add(\"CSV\");\n",
    "Pkg.add(\"DataFrames\");\n",
    "Pkg.add(\"Pandas\")"
   ]
  },
  {
   "cell_type": "code",
   "execution_count": 1,
   "metadata": {},
   "outputs": [],
   "source": [
    "# load packages\n",
    "using CSV;\n",
    "using DataFrames;"
   ]
  },
  {
   "cell_type": "code",
   "execution_count": 2,
   "metadata": {},
   "outputs": [],
   "source": [
    "# setup filepaths\n",
    "path_source = string(@__DIR__,\"\\\\..\\\\source\");\n",
    "path_dev = string(@__DIR__,\"\\\\..\\\\dev\");"
   ]
  },
  {
   "cell_type": "markdown",
   "metadata": {},
   "source": [
    "Process VAERS symptoms file"
   ]
  },
  {
   "cell_type": "code",
   "execution_count": 3,
   "metadata": {},
   "outputs": [],
   "source": [
    "df_symp_appended = CSV.read(joinpath(path_dev,\"19-21VAERSSYMPTOMS.csv\"), DataFrame);"
   ]
  },
  {
   "cell_type": "code",
   "execution_count": null,
   "metadata": {},
   "outputs": [],
   "source": [
    "# Each symptom has an MedDRA Term and MedDRA dictionary version number\n",
    "# Concatenate the term and version number into a single column\n",
    "#=\n",
    "insertcols!(test, 2, :SYMP1 =>[string(test[!,:SYMPTOM1][i])*\"_\"*string(test[!,:SYMPTOMVERSION1][i]) for i=1:nrow(test)])\n",
    "insertcols!(test, 3, :SYMP2 =>[string(test[!,:SYMPTOM2][i])*\"_\"*string(test[!,:SYMPTOMVERSION2][i]) for i=1:nrow(test)])\n",
    "insertcols!(test, 4, :SYMP3 =>[string(test[!,:SYMPTOM3][i])*\"_\"*string(test[!,:SYMPTOMVERSION3][i]) for i=1:nrow(test)])\n",
    "insertcols!(test, 5, :SYMP4 =>[string(test[!,:SYMPTOM4][i])*\"_\"*string(test[!,:SYMPTOMVERSION4][i]) for i=1:nrow(test)])\n",
    "insertcols!(test, 6, :SYMP5 =>[string(test[!,:SYMPTOM5][i])*\"_\"*string(test[!,:SYMPTOMVERSION5][i]) for i=1:nrow(test)])\n",
    "=#"
   ]
  },
  {
   "cell_type": "code",
   "execution_count": 7,
   "metadata": {},
   "outputs": [
    {
     "data": {
      "text/html": [
       "<table class=\"data-frame\"><thead><tr><th></th><th>VAERS_ID</th><th>SYMPTOMS</th></tr><tr><th></th><th>Int64</th><th>Array…</th></tr></thead><tbody><p>173,701 rows × 2 columns</p><tr><th>1</th><td>794156</td><td>[\"Injected limb mobility decreased\", \"Injection site joint pain\"]</td></tr><tr><th>2</th><td>794157</td><td>[\"Apathy\", \"Arthralgia\", \"Asthenia\", \"Injection site erythema\", \"Injection site pain\"]</td></tr><tr><th>3</th><td>794157</td><td>[\"Injection site pruritus\", \"Injection site swelling\", \"Injection site warmth\", \"Listless\", \"Night sweats\"]</td></tr><tr><th>4</th><td>794158</td><td>[\"Chills\", \"Headache\", \"Nausea\", \"Pain\", \"Pyrexia\"]</td></tr><tr><th>5</th><td>794159</td><td>[\"Injection site erythema\", \"Injection site swelling\", \"Injection site warmth\", \"Pain\"]</td></tr><tr><th>6</th><td>794160</td><td>[\"Injection site swelling\", \"Lip blister\", \"Lip swelling\", \"Pain\"]</td></tr><tr><th>7</th><td>794160</td><td>[\"Asthenia\", \"Chills\", \"Fatigue\", \"Influenza like illness\", \"Injection site erythema\"]</td></tr><tr><th>8</th><td>794161</td><td>[\"Pyrexia\"]</td></tr><tr><th>9</th><td>794162</td><td>[\"Injection site erythema\", \"Injection site rash\", \"Injection site swelling\", \"Macule\", \"Rash papular\"]</td></tr><tr><th>10</th><td>794163</td><td>[\"Myalgia\", \"Nausea\", \"Pyrexia\"]</td></tr><tr><th>11</th><td>794163</td><td>[\"Abdominal pain\", \"Arthralgia\", \"Dizziness\", \"Fatigue\", \"Headache\"]</td></tr><tr><th>12</th><td>794164</td><td>[\"Injection site pain\"]</td></tr><tr><th>13</th><td>794165</td><td>[\"Extra dose administered\", \"No adverse event\"]</td></tr><tr><th>14</th><td>794166</td><td>[\"Bursitis\", \"Injection site reaction\"]</td></tr><tr><th>15</th><td>794168</td><td>[\"Vomiting\"]</td></tr><tr><th>16</th><td>794168</td><td>[\"Dizziness\", \"Ear pain\", \"Labyrinthitis\", \"Migraine\", \"Nausea\"]</td></tr><tr><th>17</th><td>794168</td><td>[\"Nuclear magnetic resonance imaging normal\", \"Tinnitus\", \"Vertigo\", \"Vestibular migraine\", \"Viral infection\"]</td></tr><tr><th>18</th><td>794169</td><td>[\"Chills\", \"Tremor\"]</td></tr><tr><th>19</th><td>794170</td><td>[\"Pyrexia\", \"Rash\", \"Rash generalised\", \"Rash macular\"]</td></tr><tr><th>20</th><td>794171</td><td>[\"Pain\", \"Urticaria\"]</td></tr><tr><th>21</th><td>794172</td><td>[\"Erythema\", \"Influenza like illness\", \"Peripheral swelling\", \"Pyrexia\"]</td></tr><tr><th>22</th><td>794174</td><td>[\"Chills\", \"Headache\", \"Myalgia\", \"Pyrexia\"]</td></tr><tr><th>23</th><td>794175</td><td>[\"Injected limb mobility decreased\", \"Injection site pain\", \"Loss of consciousness\"]</td></tr><tr><th>24</th><td>794175</td><td>[\"Cardiac monitoring normal\", \"Chills\", \"Electrocardiogram normal\", \"Fall\", \"Head injury\"]</td></tr><tr><th>25</th><td>794176</td><td>[\"Erythema\", \"Malaise\", \"Rash\", \"Skin discolouration\"]</td></tr><tr><th>26</th><td>794177</td><td>[\"Nausea\"]</td></tr><tr><th>27</th><td>794177</td><td>[\"Abdominal discomfort\", \"Chills\", \"Diarrhoea\", \"Dizziness\", \"Fatigue\"]</td></tr><tr><th>28</th><td>794178</td><td>[\"Biopsy skin\", \"Eczema\", \"Full blood count normal\", \"Generalised vaccinia\", \"HIV test negative\"]</td></tr><tr><th>29</th><td>794178</td><td>[\"Post inflammatory pigmentation change\", \"Rash\", \"Rash pustular\", \"Treponema test negative\", \"Viral test negative\"]</td></tr><tr><th>30</th><td>794179</td><td>[\"Pyrexia\"]</td></tr><tr><th>&vellip;</th><td>&vellip;</td><td>&vellip;</td></tr></tbody></table>"
      ],
      "text/latex": [
       "\\begin{tabular}{r|cc}\n",
       "\t& VAERS\\_ID & SYMPTOMS\\\\\n",
       "\t\\hline\n",
       "\t& Int64 & Array…\\\\\n",
       "\t\\hline\n",
       "\t1 & 794156 & [\"Injected limb mobility decreased\", \"Injection site joint pain\"] \\\\\n",
       "\t2 & 794157 & [\"Apathy\", \"Arthralgia\", \"Asthenia\", \"Injection site erythema\", \"Injection site pain\"] \\\\\n",
       "\t3 & 794157 & [\"Injection site pruritus\", \"Injection site swelling\", \"Injection site warmth\", \"Listless\", \"Night sweats\"] \\\\\n",
       "\t4 & 794158 & [\"Chills\", \"Headache\", \"Nausea\", \"Pain\", \"Pyrexia\"] \\\\\n",
       "\t5 & 794159 & [\"Injection site erythema\", \"Injection site swelling\", \"Injection site warmth\", \"Pain\"] \\\\\n",
       "\t6 & 794160 & [\"Injection site swelling\", \"Lip blister\", \"Lip swelling\", \"Pain\"] \\\\\n",
       "\t7 & 794160 & [\"Asthenia\", \"Chills\", \"Fatigue\", \"Influenza like illness\", \"Injection site erythema\"] \\\\\n",
       "\t8 & 794161 & [\"Pyrexia\"] \\\\\n",
       "\t9 & 794162 & [\"Injection site erythema\", \"Injection site rash\", \"Injection site swelling\", \"Macule\", \"Rash papular\"] \\\\\n",
       "\t10 & 794163 & [\"Myalgia\", \"Nausea\", \"Pyrexia\"] \\\\\n",
       "\t11 & 794163 & [\"Abdominal pain\", \"Arthralgia\", \"Dizziness\", \"Fatigue\", \"Headache\"] \\\\\n",
       "\t12 & 794164 & [\"Injection site pain\"] \\\\\n",
       "\t13 & 794165 & [\"Extra dose administered\", \"No adverse event\"] \\\\\n",
       "\t14 & 794166 & [\"Bursitis\", \"Injection site reaction\"] \\\\\n",
       "\t15 & 794168 & [\"Vomiting\"] \\\\\n",
       "\t16 & 794168 & [\"Dizziness\", \"Ear pain\", \"Labyrinthitis\", \"Migraine\", \"Nausea\"] \\\\\n",
       "\t17 & 794168 & [\"Nuclear magnetic resonance imaging normal\", \"Tinnitus\", \"Vertigo\", \"Vestibular migraine\", \"Viral infection\"] \\\\\n",
       "\t18 & 794169 & [\"Chills\", \"Tremor\"] \\\\\n",
       "\t19 & 794170 & [\"Pyrexia\", \"Rash\", \"Rash generalised\", \"Rash macular\"] \\\\\n",
       "\t20 & 794171 & [\"Pain\", \"Urticaria\"] \\\\\n",
       "\t21 & 794172 & [\"Erythema\", \"Influenza like illness\", \"Peripheral swelling\", \"Pyrexia\"] \\\\\n",
       "\t22 & 794174 & [\"Chills\", \"Headache\", \"Myalgia\", \"Pyrexia\"] \\\\\n",
       "\t23 & 794175 & [\"Injected limb mobility decreased\", \"Injection site pain\", \"Loss of consciousness\"] \\\\\n",
       "\t24 & 794175 & [\"Cardiac monitoring normal\", \"Chills\", \"Electrocardiogram normal\", \"Fall\", \"Head injury\"] \\\\\n",
       "\t25 & 794176 & [\"Erythema\", \"Malaise\", \"Rash\", \"Skin discolouration\"] \\\\\n",
       "\t26 & 794177 & [\"Nausea\"] \\\\\n",
       "\t27 & 794177 & [\"Abdominal discomfort\", \"Chills\", \"Diarrhoea\", \"Dizziness\", \"Fatigue\"] \\\\\n",
       "\t28 & 794178 & [\"Biopsy skin\", \"Eczema\", \"Full blood count normal\", \"Generalised vaccinia\", \"HIV test negative\"] \\\\\n",
       "\t29 & 794178 & [\"Post inflammatory pigmentation change\", \"Rash\", \"Rash pustular\", \"Treponema test negative\", \"Viral test negative\"] \\\\\n",
       "\t30 & 794179 & [\"Pyrexia\"] \\\\\n",
       "\t$\\dots$ & $\\dots$ & $\\dots$ \\\\\n",
       "\\end{tabular}\n"
      ],
      "text/plain": [
       "\u001b[1m173701×2 DataFrame\u001b[0m\n",
       "\u001b[1m    Row \u001b[0m│\u001b[1m VAERS_ID \u001b[0m\u001b[1m SYMPTOMS                          \u001b[0m\n",
       "\u001b[1m        \u001b[0m│\u001b[90m Int64    \u001b[0m\u001b[90m Array…                            \u001b[0m\n",
       "────────┼─────────────────────────────────────────────\n",
       "      1 │   794156  [\"Injected limb mobility decreas…\n",
       "      2 │   794157  [\"Apathy\", \"Arthralgia\", \"Asthen…\n",
       "      3 │   794157  [\"Injection site pruritus\", \"Inj…\n",
       "      4 │   794158  [\"Chills\", \"Headache\", \"Nausea\",…\n",
       "      5 │   794159  [\"Injection site erythema\", \"Inj…\n",
       "      6 │   794160  [\"Injection site swelling\", \"Lip…\n",
       "      7 │   794160  [\"Asthenia\", \"Chills\", \"Fatigue\"…\n",
       "      8 │   794161  [\"Pyrexia\"]\n",
       "      9 │   794162  [\"Injection site erythema\", \"Inj…\n",
       "     10 │   794163  [\"Myalgia\", \"Nausea\", \"Pyrexia\"]\n",
       "     11 │   794163  [\"Abdominal pain\", \"Arthralgia\",…\n",
       "   ⋮    │    ⋮                      ⋮\n",
       " 173692 │  1134819  [\"Resuscitation\", \"Troponin incr…\n",
       " 173693 │  1134819  [\"Brain natriuretic peptide\", \"C…\n",
       " 173694 │  1134819  [\"Dyspnoea\", \"Echocardiogram abn…\n",
       " 173695 │  1135429  [\"Anaphylactic reaction\", \"Full …\n",
       " 173696 │  1135949  [\"Wheezing\"]\n",
       " 173697 │  1135949  [\"Chest discomfort\", \"Pruritus\",…\n",
       " 173698 │  1136535  [\"Asthenia\", \"Myalgia\", \"Pyrexia…\n",
       " 173699 │  1136622  [\"Cardiac arrest\"]\n",
       " 173700 │  1136908  [\"Tremor\"]\n",
       " 173701 │  1136908  [\"Chills\", \"Gait disturbance\", \"…\n",
       "\u001b[36m                                   173680 rows omitted\u001b[0m"
      ]
     },
     "execution_count": 7,
     "metadata": {},
     "output_type": "execute_result"
    }
   ],
   "source": [
    "# Each row in the VAERSSYMPTOMS.csv is limited to 5 MedDRA terms so there could be multiple rows per VAERS ID\n",
    "# Collapse the columns so that we have a single column containing an array of symptoms\n",
    "\n",
    "test = copy(df_symp_appended);\n",
    "\n",
    "# rows with 1 symptom\n",
    "test1 = filter(row -> any(ismissing, row[names(test)[4:5]]), test);\n",
    "test1[!,:SYMPTOMS] = map(collect, zip(test1[!,:SYMPTOM1]));\n",
    "select!(test1, [:VAERS_ID, :SYMPTOMS])\n",
    "\n",
    "# rows with 2 symptoms\n",
    "test2 = filter(row -> !any(ismissing, row[names(test)[2:5]]) && any(ismissing, row[names(test)[6:7]]), test)\n",
    "test2[!,:SYMPTOMS] = map(collect, zip(test2[!,:SYMPTOM1], \n",
    "                                      test2[!,:SYMPTOM2]));\n",
    "select!(test2, [:VAERS_ID, :SYMPTOMS])\n",
    "\n",
    "# rows with 3 symptoms\n",
    "test3 = filter(row -> !any(ismissing, row[names(test)[2:7]]) && any(ismissing, row[names(test)[8:9]]), test)\n",
    "test3[!,:SYMPTOMS] = map(collect, zip(test3[!,:SYMPTOM1], \n",
    "                                      test3[!,:SYMPTOM2], \n",
    "                                      test3[!,:SYMPTOM3]));\n",
    "select!(test3, [:VAERS_ID, :SYMPTOMS])\n",
    "\n",
    "# rows with 4 symptoms\n",
    "test4 = filter(row -> !any(ismissing, row[names(test)[2:9]]) && any(ismissing, row[names(test)[10:11]]), test)\n",
    "test4[!,:SYMPTOMS] = map(collect, zip(test4[!,:SYMPTOM1], \n",
    "                                      test4[!,:SYMPTOM2], \n",
    "                                      test4[!,:SYMPTOM3], \n",
    "                                      test4[!,:SYMPTOM4]));\n",
    "select!(test4, [:VAERS_ID, :SYMPTOMS])\n",
    "\n",
    "# rows with 5 symptoms (no missing symptoms)\n",
    "test5 = filter(row -> !any(ismissing, row[names(test)[2:11]]), test);\n",
    "test5[!,:SYMPTOMS] = map(collect, zip(test5[!,:SYMPTOM1], \n",
    "                                      test5[!,:SYMPTOM2], \n",
    "                                      test5[!,:SYMPTOM3], \n",
    "                                      test5[!,:SYMPTOM4], \n",
    "                                      test5[!,:SYMPTOM5]));\n",
    "select!(test5, [:VAERS_ID, :SYMPTOMS]);\n",
    "\n",
    "# append and sort\n",
    "test = reduce(vcat, [test1, test2, test3, test4, test5]);\n",
    "sort!(test, :VAERS_ID)"
   ]
  },
  {
   "cell_type": "code",
   "execution_count": null,
   "metadata": {},
   "outputs": [],
   "source": [
    "#combine(groupby(test, :VAERS_ID), :SYMPTOMS => join)"
   ]
  },
  {
   "cell_type": "code",
   "execution_count": 5,
   "metadata": {},
   "outputs": [
    {
     "data": {
      "text/plain": [
       "6470-element Vector{String}:\n",
       " \"Injected limb mobility decreased\"\n",
       " \"Injection site joint pain\"\n",
       " \"Apathy\"\n",
       " \"Arthralgia\"\n",
       " \"Asthenia\"\n",
       " \"Injection site erythema\"\n",
       " \"Injection site pain\"\n",
       " \"Injection site pruritus\"\n",
       " \"Injection site swelling\"\n",
       " \"Injection site warmth\"\n",
       " \"Listless\"\n",
       " \"Night sweats\"\n",
       " \"Chills\"\n",
       " ⋮\n",
       " \"Therapy cessation\"\n",
       " \"Cheyne-Stokes respiration\"\n",
       " \"Nephrostomy\"\n",
       " \"Gastrointestinal bacterial infection\"\n",
       " \"Nail injury\"\n",
       " \"Vertebral artery stenosis\"\n",
       " \"Bladder mass\"\n",
       " \"Gallbladder mass\"\n",
       " \"Mini-tracheostomy\"\n",
       " \"Scan myocardial perfusion abnormal\"\n",
       " \"Eosinophils urine\"\n",
       " \"Flight of ideas\""
      ]
     },
     "execution_count": 5,
     "metadata": {},
     "output_type": "execute_result"
    }
   ],
   "source": [
    "# Unique list of symptoms across all VAERS reports\n",
    "list_symptoms = unique(reduce(vcat, test.SYMPTOMS))"
   ]
  },
  {
   "cell_type": "code",
   "execution_count": 6,
   "metadata": {},
   "outputs": [
    {
     "data": {
      "text/html": [
       "<table class=\"data-frame\"><thead><tr><th></th><th>VAERS_ID</th><th>SYMPTOMS</th></tr><tr><th></th><th>Int64</th><th>Array…</th></tr></thead><tbody><p>173,701 rows × 6,472 columns (omitted printing of 6470 columns)</p><tr><th>1</th><td>794156</td><td>[\"Injected limb mobility decreased\", \"Injection site joint pain\"]</td></tr><tr><th>2</th><td>794157</td><td>[\"Apathy\", \"Arthralgia\", \"Asthenia\", \"Injection site erythema\", \"Injection site pain\"]</td></tr><tr><th>3</th><td>794157</td><td>[\"Injection site pruritus\", \"Injection site swelling\", \"Injection site warmth\", \"Listless\", \"Night sweats\"]</td></tr><tr><th>4</th><td>794158</td><td>[\"Chills\", \"Headache\", \"Nausea\", \"Pain\", \"Pyrexia\"]</td></tr><tr><th>5</th><td>794159</td><td>[\"Injection site erythema\", \"Injection site swelling\", \"Injection site warmth\", \"Pain\"]</td></tr><tr><th>6</th><td>794160</td><td>[\"Injection site swelling\", \"Lip blister\", \"Lip swelling\", \"Pain\"]</td></tr><tr><th>7</th><td>794160</td><td>[\"Asthenia\", \"Chills\", \"Fatigue\", \"Influenza like illness\", \"Injection site erythema\"]</td></tr><tr><th>8</th><td>794161</td><td>[\"Pyrexia\"]</td></tr><tr><th>9</th><td>794162</td><td>[\"Injection site erythema\", \"Injection site rash\", \"Injection site swelling\", \"Macule\", \"Rash papular\"]</td></tr><tr><th>10</th><td>794163</td><td>[\"Myalgia\", \"Nausea\", \"Pyrexia\"]</td></tr><tr><th>11</th><td>794163</td><td>[\"Abdominal pain\", \"Arthralgia\", \"Dizziness\", \"Fatigue\", \"Headache\"]</td></tr><tr><th>12</th><td>794164</td><td>[\"Injection site pain\"]</td></tr><tr><th>13</th><td>794165</td><td>[\"Extra dose administered\", \"No adverse event\"]</td></tr><tr><th>14</th><td>794166</td><td>[\"Bursitis\", \"Injection site reaction\"]</td></tr><tr><th>15</th><td>794168</td><td>[\"Vomiting\"]</td></tr><tr><th>16</th><td>794168</td><td>[\"Dizziness\", \"Ear pain\", \"Labyrinthitis\", \"Migraine\", \"Nausea\"]</td></tr><tr><th>17</th><td>794168</td><td>[\"Nuclear magnetic resonance imaging normal\", \"Tinnitus\", \"Vertigo\", \"Vestibular migraine\", \"Viral infection\"]</td></tr><tr><th>18</th><td>794169</td><td>[\"Chills\", \"Tremor\"]</td></tr><tr><th>19</th><td>794170</td><td>[\"Pyrexia\", \"Rash\", \"Rash generalised\", \"Rash macular\"]</td></tr><tr><th>20</th><td>794171</td><td>[\"Pain\", \"Urticaria\"]</td></tr><tr><th>21</th><td>794172</td><td>[\"Erythema\", \"Influenza like illness\", \"Peripheral swelling\", \"Pyrexia\"]</td></tr><tr><th>22</th><td>794174</td><td>[\"Chills\", \"Headache\", \"Myalgia\", \"Pyrexia\"]</td></tr><tr><th>23</th><td>794175</td><td>[\"Injected limb mobility decreased\", \"Injection site pain\", \"Loss of consciousness\"]</td></tr><tr><th>24</th><td>794175</td><td>[\"Cardiac monitoring normal\", \"Chills\", \"Electrocardiogram normal\", \"Fall\", \"Head injury\"]</td></tr><tr><th>25</th><td>794176</td><td>[\"Erythema\", \"Malaise\", \"Rash\", \"Skin discolouration\"]</td></tr><tr><th>26</th><td>794177</td><td>[\"Nausea\"]</td></tr><tr><th>27</th><td>794177</td><td>[\"Abdominal discomfort\", \"Chills\", \"Diarrhoea\", \"Dizziness\", \"Fatigue\"]</td></tr><tr><th>28</th><td>794178</td><td>[\"Biopsy skin\", \"Eczema\", \"Full blood count normal\", \"Generalised vaccinia\", \"HIV test negative\"]</td></tr><tr><th>29</th><td>794178</td><td>[\"Post inflammatory pigmentation change\", \"Rash\", \"Rash pustular\", \"Treponema test negative\", \"Viral test negative\"]</td></tr><tr><th>30</th><td>794179</td><td>[\"Pyrexia\"]</td></tr><tr><th>&vellip;</th><td>&vellip;</td><td>&vellip;</td></tr></tbody></table>"
      ],
      "text/latex": [
       "\\begin{tabular}{r|ccc}\n",
       "\t& VAERS\\_ID & SYMPTOMS & \\\\\n",
       "\t\\hline\n",
       "\t& Int64 & Array… & \\\\\n",
       "\t\\hline\n",
       "\t1 & 794156 & [\"Injected limb mobility decreased\", \"Injection site joint pain\"] & $\\dots$ \\\\\n",
       "\t2 & 794157 & [\"Apathy\", \"Arthralgia\", \"Asthenia\", \"Injection site erythema\", \"Injection site pain\"] & $\\dots$ \\\\\n",
       "\t3 & 794157 & [\"Injection site pruritus\", \"Injection site swelling\", \"Injection site warmth\", \"Listless\", \"Night sweats\"] & $\\dots$ \\\\\n",
       "\t4 & 794158 & [\"Chills\", \"Headache\", \"Nausea\", \"Pain\", \"Pyrexia\"] & $\\dots$ \\\\\n",
       "\t5 & 794159 & [\"Injection site erythema\", \"Injection site swelling\", \"Injection site warmth\", \"Pain\"] & $\\dots$ \\\\\n",
       "\t6 & 794160 & [\"Injection site swelling\", \"Lip blister\", \"Lip swelling\", \"Pain\"] & $\\dots$ \\\\\n",
       "\t7 & 794160 & [\"Asthenia\", \"Chills\", \"Fatigue\", \"Influenza like illness\", \"Injection site erythema\"] & $\\dots$ \\\\\n",
       "\t8 & 794161 & [\"Pyrexia\"] & $\\dots$ \\\\\n",
       "\t9 & 794162 & [\"Injection site erythema\", \"Injection site rash\", \"Injection site swelling\", \"Macule\", \"Rash papular\"] & $\\dots$ \\\\\n",
       "\t10 & 794163 & [\"Myalgia\", \"Nausea\", \"Pyrexia\"] & $\\dots$ \\\\\n",
       "\t11 & 794163 & [\"Abdominal pain\", \"Arthralgia\", \"Dizziness\", \"Fatigue\", \"Headache\"] & $\\dots$ \\\\\n",
       "\t12 & 794164 & [\"Injection site pain\"] & $\\dots$ \\\\\n",
       "\t13 & 794165 & [\"Extra dose administered\", \"No adverse event\"] & $\\dots$ \\\\\n",
       "\t14 & 794166 & [\"Bursitis\", \"Injection site reaction\"] & $\\dots$ \\\\\n",
       "\t15 & 794168 & [\"Vomiting\"] & $\\dots$ \\\\\n",
       "\t16 & 794168 & [\"Dizziness\", \"Ear pain\", \"Labyrinthitis\", \"Migraine\", \"Nausea\"] & $\\dots$ \\\\\n",
       "\t17 & 794168 & [\"Nuclear magnetic resonance imaging normal\", \"Tinnitus\", \"Vertigo\", \"Vestibular migraine\", \"Viral infection\"] & $\\dots$ \\\\\n",
       "\t18 & 794169 & [\"Chills\", \"Tremor\"] & $\\dots$ \\\\\n",
       "\t19 & 794170 & [\"Pyrexia\", \"Rash\", \"Rash generalised\", \"Rash macular\"] & $\\dots$ \\\\\n",
       "\t20 & 794171 & [\"Pain\", \"Urticaria\"] & $\\dots$ \\\\\n",
       "\t21 & 794172 & [\"Erythema\", \"Influenza like illness\", \"Peripheral swelling\", \"Pyrexia\"] & $\\dots$ \\\\\n",
       "\t22 & 794174 & [\"Chills\", \"Headache\", \"Myalgia\", \"Pyrexia\"] & $\\dots$ \\\\\n",
       "\t23 & 794175 & [\"Injected limb mobility decreased\", \"Injection site pain\", \"Loss of consciousness\"] & $\\dots$ \\\\\n",
       "\t24 & 794175 & [\"Cardiac monitoring normal\", \"Chills\", \"Electrocardiogram normal\", \"Fall\", \"Head injury\"] & $\\dots$ \\\\\n",
       "\t25 & 794176 & [\"Erythema\", \"Malaise\", \"Rash\", \"Skin discolouration\"] & $\\dots$ \\\\\n",
       "\t26 & 794177 & [\"Nausea\"] & $\\dots$ \\\\\n",
       "\t27 & 794177 & [\"Abdominal discomfort\", \"Chills\", \"Diarrhoea\", \"Dizziness\", \"Fatigue\"] & $\\dots$ \\\\\n",
       "\t28 & 794178 & [\"Biopsy skin\", \"Eczema\", \"Full blood count normal\", \"Generalised vaccinia\", \"HIV test negative\"] & $\\dots$ \\\\\n",
       "\t29 & 794178 & [\"Post inflammatory pigmentation change\", \"Rash\", \"Rash pustular\", \"Treponema test negative\", \"Viral test negative\"] & $\\dots$ \\\\\n",
       "\t30 & 794179 & [\"Pyrexia\"] & $\\dots$ \\\\\n",
       "\t$\\dots$ & $\\dots$ & $\\dots$ &  \\\\\n",
       "\\end{tabular}\n"
      ],
      "text/plain": [
       "\u001b[1m173701×6472 DataFrame\u001b[0m\n",
       "\u001b[1m    Row \u001b[0m│\u001b[1m VAERS_ID \u001b[0m\u001b[1m SYMPTOMS                          \u001b[0m\u001b[1m SYMPTOMS_Injected limb \u001b[0m ⋯\n",
       "\u001b[1m        \u001b[0m│\u001b[90m Int64    \u001b[0m\u001b[90m Array…                            \u001b[0m\u001b[90m Bool                   \u001b[0m ⋯\n",
       "────────┼───────────────────────────────────────────────────────────────────────\n",
       "      1 │   794156  [\"Injected limb mobility decreas…                          ⋯\n",
       "      2 │   794157  [\"Apathy\", \"Arthralgia\", \"Asthen…\n",
       "      3 │   794157  [\"Injection site pruritus\", \"Inj…\n",
       "      4 │   794158  [\"Chills\", \"Headache\", \"Nausea\",…\n",
       "      5 │   794159  [\"Injection site erythema\", \"Inj…                          ⋯\n",
       "      6 │   794160  [\"Injection site swelling\", \"Lip…\n",
       "      7 │   794160  [\"Asthenia\", \"Chills\", \"Fatigue\"…\n",
       "      8 │   794161  [\"Pyrexia\"]\n",
       "      9 │   794162  [\"Injection site erythema\", \"Inj…                          ⋯\n",
       "     10 │   794163  [\"Myalgia\", \"Nausea\", \"Pyrexia\"]\n",
       "     11 │   794163  [\"Abdominal pain\", \"Arthralgia\",…\n",
       "   ⋮    │    ⋮                      ⋮                                      ⋮   ⋱\n",
       " 173692 │  1134819  [\"Resuscitation\", \"Troponin incr…\n",
       " 173693 │  1134819  [\"Brain natriuretic peptide\", \"C…                          ⋯\n",
       " 173694 │  1134819  [\"Dyspnoea\", \"Echocardiogram abn…\n",
       " 173695 │  1135429  [\"Anaphylactic reaction\", \"Full …\n",
       " 173696 │  1135949  [\"Wheezing\"]\n",
       " 173697 │  1135949  [\"Chest discomfort\", \"Pruritus\",…                          ⋯\n",
       " 173698 │  1136535  [\"Asthenia\", \"Myalgia\", \"Pyrexia…\n",
       " 173699 │  1136622  [\"Cardiac arrest\"]\n",
       " 173700 │  1136908  [\"Tremor\"]\n",
       " 173701 │  1136908  [\"Chills\", \"Gait disturbance\", \"…                          ⋯\n",
       "\u001b[36m                                            6470 columns and 173680 rows omitted\u001b[0m"
      ]
     },
     "execution_count": 6,
     "metadata": {},
     "output_type": "execute_result"
    }
   ],
   "source": [
    "# One hot encode by the array of symptoms in :SYMPTOMS\n",
    "test_onehot = transform(test, :SYMPTOMS .=> [ByRow(v -> x in v) for x in list_symptoms] .=> Symbol.(:SYMPTOMS_, list_symptoms))"
   ]
  },
  {
   "cell_type": "code",
   "execution_count": 8,
   "metadata": {},
   "outputs": [],
   "source": [
    "# write to dev\n",
    "CSV.write(joinpath(path_dev,\"19-21VAERSSYMPTOMS_dev.csv\"), test);\n",
    "CSV.write(joinpath(path_dev,\"19-21VAERSSYMPTOMS_dev_onehot.csv\"), test_onehot);"
   ]
  },
  {
   "cell_type": "code",
   "execution_count": null,
   "metadata": {},
   "outputs": [],
   "source": []
  }
 ],
 "metadata": {
  "kernelspec": {
   "display_name": "Julia 1.6.0",
   "language": "julia",
   "name": "julia-1.6"
  },
  "language_info": {
   "file_extension": ".jl",
   "mimetype": "application/julia",
   "name": "julia",
   "version": "1.6.0"
  }
 },
 "nbformat": 4,
 "nbformat_minor": 4
}
