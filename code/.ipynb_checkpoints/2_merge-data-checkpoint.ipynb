{
 "cells": [
  {
   "cell_type": "markdown",
   "metadata": {},
   "source": [
    "Setup"
   ]
  },
  {
   "cell_type": "code",
   "execution_count": null,
   "metadata": {},
   "outputs": [],
   "source": [
    "# install packages\n",
    "import Pkg;\n",
    "Pkg.add(\"CSV\");\n",
    "Pkg.add(\"DataFrames\");"
   ]
  },
  {
   "cell_type": "code",
   "execution_count": 1,
   "metadata": {},
   "outputs": [],
   "source": [
    "# load packages\n",
    "using CSV;\n",
    "using DataFrames;"
   ]
  },
  {
   "cell_type": "code",
   "execution_count": 2,
   "metadata": {},
   "outputs": [],
   "source": [
    "# setup filepaths\n",
    "path_source = string(@__DIR__,\"\\\\..\\\\source\");\n",
    "path_dev = string(@__DIR__,\"\\\\..\\\\dev\");"
   ]
  },
  {
   "cell_type": "markdown",
   "metadata": {},
   "source": [
    "Merge files"
   ]
  },
  {
   "cell_type": "code",
   "execution_count": 5,
   "metadata": {},
   "outputs": [],
   "source": [
    "df_data_appended = CSV.read(joinpath(path_dev,\"19-21VAERSDATA.csv\"), DataFrame);\n",
    "df_vax_appended = CSV.read(joinpath(path_dev,\"19-21VAERSVAX.csv\"), DataFrame);\n",
    "df_symp_appended = CSV.read(joinpath(path_dev,\"19-21VAERSSYMPTOMS_dev2.csv\"), DataFrame);"
   ]
  },
  {
   "cell_type": "code",
   "execution_count": 8,
   "metadata": {},
   "outputs": [
    {
     "data": {
      "text/html": [
       "<table class=\"data-frame\"><thead><tr><th></th><th>VAERS_ID</th><th>SYMPTOMS</th></tr><tr><th></th><th>Int64</th><th>String</th></tr></thead><tbody><p>135,054 rows × 2 columns</p><tr><th>1</th><td>794156</td><td>[\"Injected limb mobility decreased\", \"Injection site joint pain\"]</td></tr><tr><th>2</th><td>794157</td><td>[\"Apathy\", \"Arthralgia\", \"Asthenia\", \"Injection site erythema\", \"Injection site pain\", \"Injection site pruritus\", \"Injection site swelling\", \"Injection site warmth\", \"Listless\", \"Night sweats\"]</td></tr><tr><th>3</th><td>794158</td><td>[\"Chills\", \"Headache\", \"Nausea\", \"Pain\", \"Pyrexia\"]</td></tr><tr><th>4</th><td>794159</td><td>[\"Injection site erythema\", \"Injection site swelling\", \"Injection site warmth\", \"Pain\"]</td></tr><tr><th>5</th><td>794160</td><td>[\"Asthenia\", \"Chills\", \"Fatigue\", \"Influenza like illness\", \"Injection site erythema\", \"Injection site swelling\", \"Lip blister\", \"Lip swelling\", \"Pain\"]</td></tr><tr><th>6</th><td>794161</td><td>[\"Pyrexia\"]</td></tr><tr><th>7</th><td>794162</td><td>[\"Injection site erythema\", \"Injection site rash\", \"Injection site swelling\", \"Macule\", \"Rash papular\"]</td></tr><tr><th>8</th><td>794163</td><td>[\"Abdominal pain\", \"Arthralgia\", \"Dizziness\", \"Fatigue\", \"Headache\", \"Myalgia\", \"Nausea\", \"Pyrexia\"]</td></tr><tr><th>9</th><td>794164</td><td>[\"Injection site pain\"]</td></tr><tr><th>10</th><td>794165</td><td>[\"Extra dose administered\", \"No adverse event\"]</td></tr><tr><th>11</th><td>794166</td><td>[\"Bursitis\", \"Injection site reaction\"]</td></tr><tr><th>12</th><td>794168</td><td>[\"Dizziness\", \"Ear pain\", \"Labyrinthitis\", \"Migraine\", \"Nausea\", \"Vomiting\", \"Nuclear magnetic resonance imaging normal\", \"Tinnitus\", \"Vertigo\", \"Vestibular migraine\", \"Viral infection\"]</td></tr><tr><th>13</th><td>794169</td><td>[\"Chills\", \"Tremor\"]</td></tr><tr><th>14</th><td>794170</td><td>[\"Pyrexia\", \"Rash\", \"Rash generalised\", \"Rash macular\"]</td></tr><tr><th>15</th><td>794171</td><td>[\"Pain\", \"Urticaria\"]</td></tr><tr><th>16</th><td>794172</td><td>[\"Erythema\", \"Influenza like illness\", \"Peripheral swelling\", \"Pyrexia\"]</td></tr><tr><th>17</th><td>794174</td><td>[\"Chills\", \"Headache\", \"Myalgia\", \"Pyrexia\"]</td></tr><tr><th>18</th><td>794175</td><td>[\"Injected limb mobility decreased\", \"Injection site pain\", \"Loss of consciousness\", \"Cardiac monitoring normal\", \"Chills\", \"Electrocardiogram normal\", \"Fall\", \"Head injury\"]</td></tr><tr><th>19</th><td>794176</td><td>[\"Erythema\", \"Malaise\", \"Rash\", \"Skin discolouration\"]</td></tr><tr><th>20</th><td>794177</td><td>[\"Nausea\", \"Abdominal discomfort\", \"Chills\", \"Diarrhoea\", \"Dizziness\", \"Fatigue\"]</td></tr><tr><th>21</th><td>794178</td><td>[\"Biopsy skin\", \"Eczema\", \"Full blood count normal\", \"Generalised vaccinia\", \"HIV test negative\", \"Post inflammatory pigmentation change\", \"Rash\", \"Rash pustular\", \"Treponema test negative\", \"Viral test negative\"]</td></tr><tr><th>22</th><td>794179</td><td>[\"Pyrexia\", \"Chills\", \"Headache\", \"Influenza like illness\", \"Injection site pain\", \"Myalgia\"]</td></tr><tr><th>23</th><td>794180</td><td>[\"Loss of consciousness\", \"Syncope\"]</td></tr><tr><th>24</th><td>794181</td><td>[\"Chills\", \"Influenza like illness\", \"Pain\", \"Pyrexia\"]</td></tr><tr><th>25</th><td>794189</td><td>[\"Expired product administered\", \"No adverse event\"]</td></tr><tr><th>26</th><td>794190</td><td>[\"Herpes zoster\"]</td></tr><tr><th>27</th><td>794191</td><td>[\"Herpes zoster\"]</td></tr><tr><th>28</th><td>794192</td><td>[\"Arthralgia\", \"Gait inability\", \"Mobility decreased\", \"Pain\", \"Pain in extremity\"]</td></tr><tr><th>29</th><td>794193</td><td>[\"No adverse event\", \"Product storage error\"]</td></tr><tr><th>30</th><td>794194</td><td>[\"No adverse event\", \"Product storage error\"]</td></tr><tr><th>&vellip;</th><td>&vellip;</td><td>&vellip;</td></tr></tbody></table>"
      ],
      "text/latex": [
       "\\begin{tabular}{r|cc}\n",
       "\t& VAERS\\_ID & SYMPTOMS\\\\\n",
       "\t\\hline\n",
       "\t& Int64 & String\\\\\n",
       "\t\\hline\n",
       "\t1 & 794156 & [\"Injected limb mobility decreased\", \"Injection site joint pain\"] \\\\\n",
       "\t2 & 794157 & [\"Apathy\", \"Arthralgia\", \"Asthenia\", \"Injection site erythema\", \"Injection site pain\", \"Injection site pruritus\", \"Injection site swelling\", \"Injection site warmth\", \"Listless\", \"Night sweats\"] \\\\\n",
       "\t3 & 794158 & [\"Chills\", \"Headache\", \"Nausea\", \"Pain\", \"Pyrexia\"] \\\\\n",
       "\t4 & 794159 & [\"Injection site erythema\", \"Injection site swelling\", \"Injection site warmth\", \"Pain\"] \\\\\n",
       "\t5 & 794160 & [\"Asthenia\", \"Chills\", \"Fatigue\", \"Influenza like illness\", \"Injection site erythema\", \"Injection site swelling\", \"Lip blister\", \"Lip swelling\", \"Pain\"] \\\\\n",
       "\t6 & 794161 & [\"Pyrexia\"] \\\\\n",
       "\t7 & 794162 & [\"Injection site erythema\", \"Injection site rash\", \"Injection site swelling\", \"Macule\", \"Rash papular\"] \\\\\n",
       "\t8 & 794163 & [\"Abdominal pain\", \"Arthralgia\", \"Dizziness\", \"Fatigue\", \"Headache\", \"Myalgia\", \"Nausea\", \"Pyrexia\"] \\\\\n",
       "\t9 & 794164 & [\"Injection site pain\"] \\\\\n",
       "\t10 & 794165 & [\"Extra dose administered\", \"No adverse event\"] \\\\\n",
       "\t11 & 794166 & [\"Bursitis\", \"Injection site reaction\"] \\\\\n",
       "\t12 & 794168 & [\"Dizziness\", \"Ear pain\", \"Labyrinthitis\", \"Migraine\", \"Nausea\", \"Vomiting\", \"Nuclear magnetic resonance imaging normal\", \"Tinnitus\", \"Vertigo\", \"Vestibular migraine\", \"Viral infection\"] \\\\\n",
       "\t13 & 794169 & [\"Chills\", \"Tremor\"] \\\\\n",
       "\t14 & 794170 & [\"Pyrexia\", \"Rash\", \"Rash generalised\", \"Rash macular\"] \\\\\n",
       "\t15 & 794171 & [\"Pain\", \"Urticaria\"] \\\\\n",
       "\t16 & 794172 & [\"Erythema\", \"Influenza like illness\", \"Peripheral swelling\", \"Pyrexia\"] \\\\\n",
       "\t17 & 794174 & [\"Chills\", \"Headache\", \"Myalgia\", \"Pyrexia\"] \\\\\n",
       "\t18 & 794175 & [\"Injected limb mobility decreased\", \"Injection site pain\", \"Loss of consciousness\", \"Cardiac monitoring normal\", \"Chills\", \"Electrocardiogram normal\", \"Fall\", \"Head injury\"] \\\\\n",
       "\t19 & 794176 & [\"Erythema\", \"Malaise\", \"Rash\", \"Skin discolouration\"] \\\\\n",
       "\t20 & 794177 & [\"Nausea\", \"Abdominal discomfort\", \"Chills\", \"Diarrhoea\", \"Dizziness\", \"Fatigue\"] \\\\\n",
       "\t21 & 794178 & [\"Biopsy skin\", \"Eczema\", \"Full blood count normal\", \"Generalised vaccinia\", \"HIV test negative\", \"Post inflammatory pigmentation change\", \"Rash\", \"Rash pustular\", \"Treponema test negative\", \"Viral test negative\"] \\\\\n",
       "\t22 & 794179 & [\"Pyrexia\", \"Chills\", \"Headache\", \"Influenza like illness\", \"Injection site pain\", \"Myalgia\"] \\\\\n",
       "\t23 & 794180 & [\"Loss of consciousness\", \"Syncope\"] \\\\\n",
       "\t24 & 794181 & [\"Chills\", \"Influenza like illness\", \"Pain\", \"Pyrexia\"] \\\\\n",
       "\t25 & 794189 & [\"Expired product administered\", \"No adverse event\"] \\\\\n",
       "\t26 & 794190 & [\"Herpes zoster\"] \\\\\n",
       "\t27 & 794191 & [\"Herpes zoster\"] \\\\\n",
       "\t28 & 794192 & [\"Arthralgia\", \"Gait inability\", \"Mobility decreased\", \"Pain\", \"Pain in extremity\"] \\\\\n",
       "\t29 & 794193 & [\"No adverse event\", \"Product storage error\"] \\\\\n",
       "\t30 & 794194 & [\"No adverse event\", \"Product storage error\"] \\\\\n",
       "\t$\\dots$ & $\\dots$ & $\\dots$ \\\\\n",
       "\\end{tabular}\n"
      ],
      "text/plain": [
       "\u001b[1m135054×2 DataFrame\u001b[0m\n",
       "\u001b[1m    Row \u001b[0m│\u001b[1m VAERS_ID \u001b[0m\u001b[1m SYMPTOMS                          \u001b[0m\n",
       "\u001b[1m        \u001b[0m│\u001b[90m Int64    \u001b[0m\u001b[90m String                            \u001b[0m\n",
       "────────┼─────────────────────────────────────────────\n",
       "      1 │   794156  [\"Injected limb mobility decreas…\n",
       "      2 │   794157  [\"Apathy\", \"Arthralgia\", \"Asthen…\n",
       "      3 │   794158  [\"Chills\", \"Headache\", \"Nausea\",…\n",
       "      4 │   794159  [\"Injection site erythema\", \"Inj…\n",
       "      5 │   794160  [\"Asthenia\", \"Chills\", \"Fatigue\"…\n",
       "      6 │   794161  [\"Pyrexia\"]\n",
       "      7 │   794162  [\"Injection site erythema\", \"Inj…\n",
       "      8 │   794163  [\"Abdominal pain\", \"Arthralgia\",…\n",
       "      9 │   794164  [\"Injection site pain\"]\n",
       "     10 │   794165  [\"Extra dose administered\", \"No …\n",
       "     11 │   794166  [\"Bursitis\", \"Injection site rea…\n",
       "   ⋮    │    ⋮                      ⋮\n",
       " 135045 │  1134437  [\"Bell\\\\'s palsy\", \"Computerised…\n",
       " 135046 │  1134439  [\"Blood test\", \"Chest X-ray\", \"D…\n",
       " 135047 │  1134651  [\"Death\", \"Haemorrhagic stroke\"]\n",
       " 135048 │  1134697  [\"Death\"]\n",
       " 135049 │  1134819  [\"Brain natriuretic peptide\", \"C…\n",
       " 135050 │  1135429  [\"Anaphylactic reaction\", \"Full …\n",
       " 135051 │  1135949  [\"Chest discomfort\", \"Pruritus\",…\n",
       " 135052 │  1136535  [\"Asthenia\", \"Myalgia\", \"Pyrexia…\n",
       " 135053 │  1136622  [\"Cardiac arrest\"]\n",
       " 135054 │  1136908  [\"Chills\", \"Gait disturbance\", \"…\n",
       "\u001b[36m                                   135033 rows omitted\u001b[0m"
      ]
     },
     "execution_count": 8,
     "metadata": {},
     "output_type": "execute_result"
    }
   ],
   "source": [
    "df_symp_appended"
   ]
  },
  {
   "cell_type": "code",
   "execution_count": 9,
   "metadata": {},
   "outputs": [
    {
     "name": "stdout",
     "output_type": "stream",
     "text": [
      "(135055, 36)(157781, 8)(157781, 43)"
     ]
    }
   ],
   "source": [
    "# merge (left-join) VAERS data, vaccine files\n",
    "print(size(df_data_appended));\n",
    "print(size(df_vax_appended));\n",
    "df_merged = leftjoin(df_data_appended, df_vax_appended, on = :VAERS_ID)\n",
    "print(size(df_merged));"
   ]
  },
  {
   "cell_type": "code",
   "execution_count": 10,
   "metadata": {},
   "outputs": [
    {
     "name": "stdout",
     "output_type": "stream",
     "text": [
      "(157781, 43)(135054, 2)(157781, 44)"
     ]
    }
   ],
   "source": [
    "# merge (left-join) VAERS data + vax, symptoms files\n",
    "print(size(df_merged));\n",
    "print(size(df_symp_appended));\n",
    "df_merged = leftjoin(df_merged, df_symp_appended, on = :VAERS_ID)\n",
    "print(size(df_merged));"
   ]
  },
  {
   "cell_type": "code",
   "execution_count": 11,
   "metadata": {},
   "outputs": [],
   "source": [
    "# write to dev\n",
    "CSV.write(joinpath(path_dev,\"19-21VAERSCOMB.csv\"), df_merged);"
   ]
  },
  {
   "cell_type": "code",
   "execution_count": null,
   "metadata": {},
   "outputs": [],
   "source": []
  }
 ],
 "metadata": {
  "kernelspec": {
   "display_name": "Julia 1.6.0",
   "language": "julia",
   "name": "julia-1.6"
  },
  "language_info": {
   "file_extension": ".jl",
   "mimetype": "application/julia",
   "name": "julia",
   "version": "1.6.0"
  }
 },
 "nbformat": 4,
 "nbformat_minor": 4
}
