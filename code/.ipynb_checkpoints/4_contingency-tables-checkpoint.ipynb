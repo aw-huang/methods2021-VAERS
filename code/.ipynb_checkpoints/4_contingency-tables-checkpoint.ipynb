{
 "cells": [
  {
   "cell_type": "code",
   "execution_count": null,
   "metadata": {},
   "outputs": [],
   "source": [
    "# install packages\n",
    "import Pkg;\n",
    "Pkg.add(\"CSV\");\n",
    "Pkg.add(\"DataFrames\");\n",
    "Pkg.add(\"FreqTables\");"
   ]
  },
  {
   "cell_type": "code",
   "execution_count": 1,
   "metadata": {},
   "outputs": [],
   "source": [
    "# load packages\n",
    "using CSV;\n",
    "using DataFrames;\n",
    "using FreqTables;"
   ]
  },
  {
   "cell_type": "code",
   "execution_count": 2,
   "metadata": {},
   "outputs": [],
   "source": [
    "# setup filepaths\n",
    "path_source = string(@__DIR__,\"\\\\..\\\\source\");\n",
    "path_dev = string(@__DIR__,\"\\\\..\\\\dev\");\n",
    "path_output = string(@__DIR__,\"\\\\..\\\\output\");"
   ]
  },
  {
   "cell_type": "code",
   "execution_count": 4,
   "metadata": {},
   "outputs": [
    {
     "data": {
      "text/html": [
       "<table class=\"data-frame\"><thead><tr><th></th><th>VAERS_ID</th><th>YEAR</th><th>RECVDATE</th><th>STATE</th><th>AGE_YRS</th><th>CAGE_YR</th><th>CAGE_MO</th><th>SEX</th><th>RPT_DATE</th></tr><tr><th></th><th>Int64</th><th>Int64</th><th>String</th><th>String?</th><th>Float64</th><th>Int64?</th><th>Float64?</th><th>String</th><th>String?</th></tr></thead><tbody><p>103,050 rows × 45 columns (omitted printing of 36 columns)</p><tr><th>1</th><td>794156</td><td>2019</td><td>01/01/2019</td><td><em>missing</em></td><td>69.0</td><td>69</td><td><em>missing</em></td><td>F</td><td><em>missing</em></td></tr><tr><th>2</th><td>794157</td><td>2019</td><td>01/01/2019</td><td>IL</td><td>68.0</td><td>68</td><td><em>missing</em></td><td>F</td><td><em>missing</em></td></tr><tr><th>3</th><td>794158</td><td>2019</td><td>01/01/2019</td><td>MA</td><td>62.0</td><td>62</td><td><em>missing</em></td><td>F</td><td><em>missing</em></td></tr><tr><th>4</th><td>794160</td><td>2019</td><td>01/01/2019</td><td>TX</td><td>79.0</td><td>79</td><td><em>missing</em></td><td>F</td><td><em>missing</em></td></tr><tr><th>5</th><td>794161</td><td>2019</td><td>01/01/2019</td><td>MN</td><td>57.0</td><td>57</td><td><em>missing</em></td><td>F</td><td><em>missing</em></td></tr><tr><th>6</th><td>794163</td><td>2019</td><td>01/01/2019</td><td>MA</td><td>65.0</td><td>65</td><td><em>missing</em></td><td>F</td><td><em>missing</em></td></tr><tr><th>7</th><td>794164</td><td>2019</td><td>01/01/2019</td><td>TX</td><td>57.0</td><td>57</td><td><em>missing</em></td><td>F</td><td><em>missing</em></td></tr><tr><th>8</th><td>794165</td><td>2019</td><td>01/01/2019</td><td>TX</td><td>80.0</td><td>80</td><td><em>missing</em></td><td>M</td><td><em>missing</em></td></tr><tr><th>9</th><td>794165</td><td>2019</td><td>01/01/2019</td><td>TX</td><td>80.0</td><td>80</td><td><em>missing</em></td><td>M</td><td><em>missing</em></td></tr><tr><th>10</th><td>794166</td><td>2019</td><td>01/01/2019</td><td>MD</td><td>36.0</td><td>36</td><td><em>missing</em></td><td>F</td><td><em>missing</em></td></tr><tr><th>11</th><td>794168</td><td>2019</td><td>01/01/2019</td><td>MA</td><td>43.0</td><td>43</td><td><em>missing</em></td><td>M</td><td><em>missing</em></td></tr><tr><th>12</th><td>794169</td><td>2019</td><td>01/01/2019</td><td><em>missing</em></td><td>53.0</td><td>53</td><td><em>missing</em></td><td>M</td><td><em>missing</em></td></tr><tr><th>13</th><td>794171</td><td>2019</td><td>01/01/2019</td><td>AZ</td><td>70.0</td><td>70</td><td><em>missing</em></td><td>F</td><td><em>missing</em></td></tr><tr><th>14</th><td>794172</td><td>2019</td><td>01/01/2019</td><td>CT</td><td>59.0</td><td>59</td><td><em>missing</em></td><td>F</td><td><em>missing</em></td></tr><tr><th>15</th><td>794174</td><td>2019</td><td>01/01/2019</td><td>KS</td><td>62.0</td><td>62</td><td><em>missing</em></td><td>F</td><td><em>missing</em></td></tr><tr><th>16</th><td>794175</td><td>2019</td><td>01/01/2019</td><td><em>missing</em></td><td>66.0</td><td>66</td><td><em>missing</em></td><td>F</td><td><em>missing</em></td></tr><tr><th>17</th><td>794176</td><td>2019</td><td>01/01/2019</td><td>CA</td><td>65.0</td><td>65</td><td><em>missing</em></td><td>F</td><td><em>missing</em></td></tr><tr><th>18</th><td>794177</td><td>2019</td><td>01/01/2019</td><td>CA</td><td>59.0</td><td>59</td><td><em>missing</em></td><td>F</td><td><em>missing</em></td></tr><tr><th>19</th><td>794178</td><td>2019</td><td>01/01/2019</td><td><em>missing</em></td><td>24.0</td><td>24</td><td><em>missing</em></td><td>M</td><td><em>missing</em></td></tr><tr><th>20</th><td>794178</td><td>2019</td><td>01/01/2019</td><td><em>missing</em></td><td>24.0</td><td>24</td><td><em>missing</em></td><td>M</td><td><em>missing</em></td></tr><tr><th>21</th><td>794178</td><td>2019</td><td>01/01/2019</td><td><em>missing</em></td><td>24.0</td><td>24</td><td><em>missing</em></td><td>M</td><td><em>missing</em></td></tr><tr><th>22</th><td>794179</td><td>2019</td><td>01/01/2019</td><td>AZ</td><td>51.0</td><td>51</td><td><em>missing</em></td><td>F</td><td><em>missing</em></td></tr><tr><th>23</th><td>794180</td><td>2019</td><td>01/02/2019</td><td>TX</td><td>17.0</td><td>17</td><td><em>missing</em></td><td>F</td><td><em>missing</em></td></tr><tr><th>24</th><td>794181</td><td>2019</td><td>01/02/2019</td><td>NC</td><td>56.0</td><td>56</td><td><em>missing</em></td><td>M</td><td><em>missing</em></td></tr><tr><th>25</th><td>794196</td><td>2019</td><td>01/02/2019</td><td><em>missing</em></td><td>74.0</td><td>74</td><td><em>missing</em></td><td>M</td><td><em>missing</em></td></tr><tr><th>26</th><td>794197</td><td>2019</td><td>01/02/2019</td><td>MN</td><td>56.0</td><td>56</td><td><em>missing</em></td><td>F</td><td><em>missing</em></td></tr><tr><th>27</th><td>794197</td><td>2019</td><td>01/02/2019</td><td>MN</td><td>56.0</td><td>56</td><td><em>missing</em></td><td>F</td><td><em>missing</em></td></tr><tr><th>28</th><td>794198</td><td>2019</td><td>01/02/2019</td><td>PA</td><td>64.0</td><td>64</td><td><em>missing</em></td><td>F</td><td><em>missing</em></td></tr><tr><th>29</th><td>794199</td><td>2019</td><td>01/02/2019</td><td>LA</td><td>62.0</td><td>62</td><td><em>missing</em></td><td>M</td><td><em>missing</em></td></tr><tr><th>30</th><td>794203</td><td>2019</td><td>01/02/2019</td><td><em>missing</em></td><td>66.0</td><td>66</td><td><em>missing</em></td><td>F</td><td><em>missing</em></td></tr><tr><th>&vellip;</th><td>&vellip;</td><td>&vellip;</td><td>&vellip;</td><td>&vellip;</td><td>&vellip;</td><td>&vellip;</td><td>&vellip;</td><td>&vellip;</td><td>&vellip;</td></tr></tbody></table>"
      ],
      "text/latex": [
       "\\begin{tabular}{r|cccccccccc}\n",
       "\t& VAERS\\_ID & YEAR & RECVDATE & STATE & AGE\\_YRS & CAGE\\_YR & CAGE\\_MO & SEX & RPT\\_DATE & \\\\\n",
       "\t\\hline\n",
       "\t& Int64 & Int64 & String & String? & Float64 & Int64? & Float64? & String & String? & \\\\\n",
       "\t\\hline\n",
       "\t1 & 794156 & 2019 & 01/01/2019 & \\emph{missing} & 69.0 & 69 & \\emph{missing} & F & \\emph{missing} & $\\dots$ \\\\\n",
       "\t2 & 794157 & 2019 & 01/01/2019 & IL & 68.0 & 68 & \\emph{missing} & F & \\emph{missing} & $\\dots$ \\\\\n",
       "\t3 & 794158 & 2019 & 01/01/2019 & MA & 62.0 & 62 & \\emph{missing} & F & \\emph{missing} & $\\dots$ \\\\\n",
       "\t4 & 794160 & 2019 & 01/01/2019 & TX & 79.0 & 79 & \\emph{missing} & F & \\emph{missing} & $\\dots$ \\\\\n",
       "\t5 & 794161 & 2019 & 01/01/2019 & MN & 57.0 & 57 & \\emph{missing} & F & \\emph{missing} & $\\dots$ \\\\\n",
       "\t6 & 794163 & 2019 & 01/01/2019 & MA & 65.0 & 65 & \\emph{missing} & F & \\emph{missing} & $\\dots$ \\\\\n",
       "\t7 & 794164 & 2019 & 01/01/2019 & TX & 57.0 & 57 & \\emph{missing} & F & \\emph{missing} & $\\dots$ \\\\\n",
       "\t8 & 794165 & 2019 & 01/01/2019 & TX & 80.0 & 80 & \\emph{missing} & M & \\emph{missing} & $\\dots$ \\\\\n",
       "\t9 & 794165 & 2019 & 01/01/2019 & TX & 80.0 & 80 & \\emph{missing} & M & \\emph{missing} & $\\dots$ \\\\\n",
       "\t10 & 794166 & 2019 & 01/01/2019 & MD & 36.0 & 36 & \\emph{missing} & F & \\emph{missing} & $\\dots$ \\\\\n",
       "\t11 & 794168 & 2019 & 01/01/2019 & MA & 43.0 & 43 & \\emph{missing} & M & \\emph{missing} & $\\dots$ \\\\\n",
       "\t12 & 794169 & 2019 & 01/01/2019 & \\emph{missing} & 53.0 & 53 & \\emph{missing} & M & \\emph{missing} & $\\dots$ \\\\\n",
       "\t13 & 794171 & 2019 & 01/01/2019 & AZ & 70.0 & 70 & \\emph{missing} & F & \\emph{missing} & $\\dots$ \\\\\n",
       "\t14 & 794172 & 2019 & 01/01/2019 & CT & 59.0 & 59 & \\emph{missing} & F & \\emph{missing} & $\\dots$ \\\\\n",
       "\t15 & 794174 & 2019 & 01/01/2019 & KS & 62.0 & 62 & \\emph{missing} & F & \\emph{missing} & $\\dots$ \\\\\n",
       "\t16 & 794175 & 2019 & 01/01/2019 & \\emph{missing} & 66.0 & 66 & \\emph{missing} & F & \\emph{missing} & $\\dots$ \\\\\n",
       "\t17 & 794176 & 2019 & 01/01/2019 & CA & 65.0 & 65 & \\emph{missing} & F & \\emph{missing} & $\\dots$ \\\\\n",
       "\t18 & 794177 & 2019 & 01/01/2019 & CA & 59.0 & 59 & \\emph{missing} & F & \\emph{missing} & $\\dots$ \\\\\n",
       "\t19 & 794178 & 2019 & 01/01/2019 & \\emph{missing} & 24.0 & 24 & \\emph{missing} & M & \\emph{missing} & $\\dots$ \\\\\n",
       "\t20 & 794178 & 2019 & 01/01/2019 & \\emph{missing} & 24.0 & 24 & \\emph{missing} & M & \\emph{missing} & $\\dots$ \\\\\n",
       "\t21 & 794178 & 2019 & 01/01/2019 & \\emph{missing} & 24.0 & 24 & \\emph{missing} & M & \\emph{missing} & $\\dots$ \\\\\n",
       "\t22 & 794179 & 2019 & 01/01/2019 & AZ & 51.0 & 51 & \\emph{missing} & F & \\emph{missing} & $\\dots$ \\\\\n",
       "\t23 & 794180 & 2019 & 01/02/2019 & TX & 17.0 & 17 & \\emph{missing} & F & \\emph{missing} & $\\dots$ \\\\\n",
       "\t24 & 794181 & 2019 & 01/02/2019 & NC & 56.0 & 56 & \\emph{missing} & M & \\emph{missing} & $\\dots$ \\\\\n",
       "\t25 & 794196 & 2019 & 01/02/2019 & \\emph{missing} & 74.0 & 74 & \\emph{missing} & M & \\emph{missing} & $\\dots$ \\\\\n",
       "\t26 & 794197 & 2019 & 01/02/2019 & MN & 56.0 & 56 & \\emph{missing} & F & \\emph{missing} & $\\dots$ \\\\\n",
       "\t27 & 794197 & 2019 & 01/02/2019 & MN & 56.0 & 56 & \\emph{missing} & F & \\emph{missing} & $\\dots$ \\\\\n",
       "\t28 & 794198 & 2019 & 01/02/2019 & PA & 64.0 & 64 & \\emph{missing} & F & \\emph{missing} & $\\dots$ \\\\\n",
       "\t29 & 794199 & 2019 & 01/02/2019 & LA & 62.0 & 62 & \\emph{missing} & M & \\emph{missing} & $\\dots$ \\\\\n",
       "\t30 & 794203 & 2019 & 01/02/2019 & \\emph{missing} & 66.0 & 66 & \\emph{missing} & F & \\emph{missing} & $\\dots$ \\\\\n",
       "\t$\\dots$ & $\\dots$ & $\\dots$ & $\\dots$ & $\\dots$ & $\\dots$ & $\\dots$ & $\\dots$ & $\\dots$ & $\\dots$ &  \\\\\n",
       "\\end{tabular}\n"
      ],
      "text/plain": [
       "\u001b[1m103050×45 DataFrame\u001b[0m\n",
       "\u001b[1m    Row \u001b[0m│\u001b[1m VAERS_ID \u001b[0m\u001b[1m YEAR  \u001b[0m\u001b[1m RECVDATE   \u001b[0m\u001b[1m STATE   \u001b[0m\u001b[1m AGE_YRS \u001b[0m\u001b[1m CAGE_YR \u001b[0m\u001b[1m CAGE_MO  \u001b[0m\u001b[1m SE\u001b[0m ⋯\n",
       "\u001b[1m        \u001b[0m│\u001b[90m Int64    \u001b[0m\u001b[90m Int64 \u001b[0m\u001b[90m String     \u001b[0m\u001b[90m String? \u001b[0m\u001b[90m Float64 \u001b[0m\u001b[90m Int64?  \u001b[0m\u001b[90m Float64? \u001b[0m\u001b[90m St\u001b[0m ⋯\n",
       "────────┼───────────────────────────────────────────────────────────────────────\n",
       "      1 │   794156   2019  01/01/2019 \u001b[90m missing \u001b[0m    69.0       69 \u001b[90m missing  \u001b[0m F  ⋯\n",
       "      2 │   794157   2019  01/01/2019  IL          68.0       68 \u001b[90m missing  \u001b[0m F\n",
       "      3 │   794158   2019  01/01/2019  MA          62.0       62 \u001b[90m missing  \u001b[0m F\n",
       "      4 │   794160   2019  01/01/2019  TX          79.0       79 \u001b[90m missing  \u001b[0m F\n",
       "      5 │   794161   2019  01/01/2019  MN          57.0       57 \u001b[90m missing  \u001b[0m F  ⋯\n",
       "      6 │   794163   2019  01/01/2019  MA          65.0       65 \u001b[90m missing  \u001b[0m F\n",
       "      7 │   794164   2019  01/01/2019  TX          57.0       57 \u001b[90m missing  \u001b[0m F\n",
       "      8 │   794165   2019  01/01/2019  TX          80.0       80 \u001b[90m missing  \u001b[0m M\n",
       "      9 │   794165   2019  01/01/2019  TX          80.0       80 \u001b[90m missing  \u001b[0m M  ⋯\n",
       "     10 │   794166   2019  01/01/2019  MD          36.0       36 \u001b[90m missing  \u001b[0m F\n",
       "     11 │   794168   2019  01/01/2019  MA          43.0       43 \u001b[90m missing  \u001b[0m M\n",
       "   ⋮    │    ⋮        ⋮        ⋮          ⋮        ⋮        ⋮        ⋮         ⋱\n",
       " 103041 │  1134437   2021  03/25/2021  MA          40.0       40 \u001b[90m missing  \u001b[0m F\n",
       " 103042 │  1134439   2021  03/25/2021  OK          48.0       48 \u001b[90m missing  \u001b[0m F  ⋯\n",
       " 103043 │  1134651   2021  03/25/2021  NC          63.0       63 \u001b[90m missing  \u001b[0m F\n",
       " 103044 │  1134697   2021  03/25/2021  TX          51.0       50 \u001b[90m missing  \u001b[0m M\n",
       " 103045 │  1134819   2021  03/25/2021  MD          51.0       51 \u001b[90m missing  \u001b[0m F\n",
       " 103046 │  1135429   2021  03/25/2021  IN          81.0       81 \u001b[90m missing  \u001b[0m F  ⋯\n",
       " 103047 │  1135949   2021  03/25/2021  WA          47.0       47 \u001b[90m missing  \u001b[0m F\n",
       " 103048 │  1136535   2021  03/26/2021  MA          72.0       72 \u001b[90m missing  \u001b[0m F\n",
       " 103049 │  1136622   2021  03/26/2021  NY          70.0       70 \u001b[90m missing  \u001b[0m M\n",
       " 103050 │  1136908   2021  03/26/2021  IN          41.0       41 \u001b[90m missing  \u001b[0m M  ⋯\n",
       "\u001b[36m                                              38 columns and 103029 rows omitted\u001b[0m"
      ]
     },
     "execution_count": 4,
     "metadata": {},
     "output_type": "execute_result"
    }
   ],
   "source": [
    "# read in combined VAERS file\n",
    "df = CSV.read(joinpath(path_dev,\"19-21VAERSCOMB_clean.csv\"), DataFrame)"
   ]
  },
  {
   "cell_type": "code",
   "execution_count": 5,
   "metadata": {},
   "outputs": [
    {
     "data": {
      "text/plain": [
       "45-element Vector{String}:\n",
       " \"VAERS_ID\"\n",
       " \"YEAR\"\n",
       " \"RECVDATE\"\n",
       " \"STATE\"\n",
       " \"AGE_YRS\"\n",
       " \"CAGE_YR\"\n",
       " \"CAGE_MO\"\n",
       " \"SEX\"\n",
       " \"RPT_DATE\"\n",
       " \"SYMPTOM_TEXT\"\n",
       " \"DIED\"\n",
       " \"DATEDIED\"\n",
       " \"L_THREAT\"\n",
       " \"ER_VISIT\"\n",
       " \"HOSPITAL\"\n",
       " \"HOSPDAYS\"\n",
       " \"X_STAY\"\n",
       " \"DISABLE\"\n",
       " \"RECOVD\"\n",
       " \"VAX_DATE\"\n",
       " \"ONSET_DATE\"\n",
       " \"NUMDAYS\"\n",
       " \"LAB_DATA\"\n",
       " \"V_ADMINBY\"\n",
       " \"V_FUNDBY\"\n",
       " \"OTHER_MEDS\"\n",
       " \"CUR_ILL\"\n",
       " \"HISTORY\"\n",
       " \"PRIOR_VAX\"\n",
       " \"SPLTTYPE\"\n",
       " \"FORM_VERS\"\n",
       " \"TODAYS_DATE\"\n",
       " \"BIRTH_DEFECT\"\n",
       " \"OFC_VISIT\"\n",
       " \"ER_ED_VISIT\"\n",
       " \"ALLERGIES\"\n",
       " \"VAX_TYPE\"\n",
       " \"VAX_MANU\"\n",
       " \"VAX_LOT\"\n",
       " \"VAX_DOSE_SERIES\"\n",
       " \"VAX_ROUTE\"\n",
       " \"VAX_SITE\"\n",
       " \"VAX_NAME\"\n",
       " \"SYMPTOMS\"\n",
       " \"SERIOUS_EVENT\""
      ]
     },
     "execution_count": 5,
     "metadata": {},
     "output_type": "execute_result"
    }
   ],
   "source": [
    "Base.displaysize() = (1000, 80)\n",
    "names(df)"
   ]
  },
  {
   "cell_type": "code",
   "execution_count": 6,
   "metadata": {},
   "outputs": [
    {
     "data": {
      "text/plain": [
       "112-element Named Vector{Int64}\n",
       "VAX_NAME                                                │ \n",
       "────────────────────────────────────────────────────────┼──────\n",
       "COVID19 (COVID19 (PFIZER-BIONTECH))                     │ 23630\n",
       "ZOSTER (SHINGRIX)                                       │ 21666\n",
       "COVID19 (COVID19 (MODERNA))                             │ 20815\n",
       "PNEUMO (PNEUMOVAX)                                      │  4810\n",
       "COVID19 (COVID19 (JANSSEN))                             │  2774\n",
       "INFLUENZA (SEASONAL) (FLUZONE QUADRIVALENT)             │  2154\n",
       "INFLUENZA (SEASONAL) (FLUZONE HIGH-DOSE)                │  2044\n",
       "INFLUENZA (SEASONAL) (FLUCELVAX QUADRIVALENT)           │  1912\n",
       "INFLUENZA (SEASONAL) (FLUZONE HIGH-DOSE QUADRIVALENT)   │  1819\n",
       "INFLUENZA (SEASONAL) (AFLURIA QUADRIVALENT)             │  1562\n",
       "INFLUENZA (SEASONAL) (FLUARIX QUADRIVALENT)             │  1531\n",
       "PNEUMO (PREVNAR13)                                      │  1408\n",
       "VACCINE NOT SPECIFIED (NO BRAND NAME)                   │  1286\n",
       "TDAP (BOOSTRIX)                                         │  1117\n",
       "HPV (GARDASIL 9)                                        │   993\n",
       "INFLUENZA (SEASONAL) (FLUBLOK QUADRIVALENT)             │   956\n",
       "INFLUENZA (SEASONAL) (FLUAD)                            │   939\n",
       "TDAP (ADACEL)                                           │   920\n",
       "MENINGOCOCCAL B (BEXSERO)                               │   841\n",
       "MEASLES + MUMPS + RUBELLA (MMR II)                      │   734\n",
       "MENINGOCOCCAL CONJUGATE (MENACTRA)                      │   708\n",
       "INFLUENZA (SEASONAL) (FLUAD QUADRIVALENT)               │   666\n",
       "INFLUENZA (SEASONAL) (FLULAVAL QUADRIVALENT)            │   661\n",
       "ZOSTER LIVE (ZOSTAVAX)                                  │   641\n",
       "VARICELLA (VARIVAX)                                     │   634\n",
       "HEP B (ENGERIX-B)                                       │   522\n",
       "HEP A (HAVRIX)                                          │   516\n",
       "MENINGOCOCCAL B (TRUMENBA)                              │   495\n",
       "INFLUENZA (SEASONAL) (NO BRAND NAME)                    │   448\n",
       "VACCINE NOT SPECIFIED (OTHER)                           │   390\n",
       "MENINGOCOCCAL CONJUGATE (MENVEO)                        │   306\n",
       "ANTHRAX (BIOTHRAX)                                      │   227\n",
       "HEP A (VAQTA)                                           │   221\n",
       "HEP A + HEP B (TWINRIX)                                 │   181\n",
       "TYPHOID VI POLYSACCHARIDE (TYPHIM VI)                   │   178\n",
       "HEP B (HEPLISAV-B)                                      │   165\n",
       "INFLUENZA (SEASONAL) (AFLURIA)                          │   156\n",
       "TD ADSORBED (TENIVAC)                                   │   146\n",
       "MEASLES + MUMPS + RUBELLA + VARICELLA (PROQUAD)         │   129\n",
       "SMALLPOX (ACAM2000)                                     │   128\n",
       "DTAP (DAPTACEL)                                         │   109\n",
       "POLIO VIRUS, INACT. (IPOL)                              │   108\n",
       "RABIES (RABAVERT)                                       │   107\n",
       "HPV (GARDASIL)                                          │    82\n",
       "JAPANESE ENCEPHALITIS (IXIARO)                          │    79\n",
       "RABIES (IMOVAX)                                         │    79\n",
       "TYPHOID LIVE ORAL TY21A (VIVOTIF)                       │    76\n",
       "ZOSTER (NO BRAND NAME)                                  │    75\n",
       "HEP B (RECOMBIVAX HB)                                   │    70\n",
       "PNEUMO (NO BRAND NAME)                                  │    70\n",
       "TDAP (NO BRAND NAME)                                    │    62\n",
       "YELLOW FEVER (STAMARIL)                                 │    53\n",
       "TD ADSORBED (NO BRAND NAME)                             │    49\n",
       "TD ADSORBED (TDVAX)                                     │    47\n",
       "INFLUENZA (SEASONAL) (FLUZONE)                          │    44\n",
       "YELLOW FEVER (YF-VAX)                                   │    39\n",
       "INFLUENZA (SEASONAL) (FLUZONE INTRADERMAL QUADRIVALENT) │    37\n",
       "INFLUENZA (SEASONAL) (FLUVIRIN)                         │    36\n",
       "INFLUENZA (SEASONAL) (FLUMIST QUADRIVALENT)             │    32\n",
       "COVID19 (COVID19 (UNKNOWN))                             │    28\n",
       "DTAP (INFANRIX)                                         │    27\n",
       "HEP A (NO BRAND NAME)                                   │    25\n",
       "PNEUMO (PREVNAR)                                        │    24\n",
       "TETANUS TOXOID (NO BRAND NAME)                          │    22\n",
       "MENINGOCOCCAL (NO BRAND NAME)                           │    18\n",
       "HEP B (NO BRAND NAME)                                   │    17\n",
       "DT ADSORBED (NO BRAND NAME)                             │    16\n",
       "CHOLERA (VAXCHORA)                                      │    14\n",
       "HIB (ACTHIB)                                            │    14\n",
       "DTP (NO BRAND NAME)                                     │    10\n",
       "ADENOVIRUS TYPES 4 & 7, LIVE, ORAL (NO BRAND NAME)      │     9\n",
       "INFLUENZA (SEASONAL) (FLUARIX)                          │     9\n",
       "INFLUENZA (SEASONAL) (FLUBLOK)                          │     9\n",
       "MEASLES + MUMPS + RUBELLA (NO BRAND NAME)               │     9\n",
       "HPV (NO BRAND NAME)                                     │     7\n",
       "VARICELLA (NO BRAND NAME)                               │     7\n",
       "DTAP (NO BRAND NAME)                                    │     6\n",
       "DTAP + IPV + HIB (PENTACEL)                             │     6\n",
       "HIB (PEDVAXHIB)                                         │     6\n",
       "RABIES (NO BRAND NAME)                                  │     6\n",
       "TETANUS DIPHTHERIA (NO BRAND NAME)                      │     6\n",
       "DTAP + HEPB + IPV (PEDIARIX)                            │     5\n",
       "DTAP + IPV (KINRIX)                                     │     5\n",
       "VARICELLA (VARILRIX)                                    │     5\n",
       "INFLUENZA (SEASONAL) (FLUCELVAX)                        │     4\n",
       "POLIO VIRUS, INACT. (NO BRAND NAME)                     │     4\n",
       "POLIO VIRUS, INACT. (POLIOVAX)                          │     4\n",
       "SMALLPOX (NO BRAND NAME)                                │     4\n",
       "VACCINE NOT SPECIFIED (FOREIGN)                         │     4\n",
       "ANTHRAX (NO BRAND NAME)                                 │     3\n",
       "HIB (HIBERIX)                                           │     3\n",
       "TYPHOID VI POLYSACCHARIDE (NO BRAND NAME)               │     3\n",
       "DTAP + IPV (QUADRACEL)                                  │     2\n",
       "INFLUENZA (SEASONAL) (FLULAVAL)                         │     2\n",
       "INFLUENZA (SEASONAL) (FLUMIST)                          │     2\n",
       "MEASLES (NO BRAND NAME)                                 │     2\n",
       "RABIES (RABIE-VAX)                                      │     2\n",
       "ROTAVIRUS (ROTARIX)                                     │     2\n",
       "ROTAVIRUS (ROTATEQ)                                     │     2\n",
       "TETANUS TOXOID (TEVAX)                                  │     2\n",
       "BCG (NO BRAND NAME)                                     │     1\n",
       "CHOLERA (NO BRAND NAME)                                 │     1\n",
       "HEP A + HEP B (NO BRAND NAME)                           │     1\n",
       "HIB (NO BRAND NAME)                                     │     1\n",
       "JAPANESE ENCEPHALITIS (JE-VAX)                          │     1\n",
       "MENINGOCOCCAL CONJUGATE (NO BRAND NAME)                 │     1\n",
       "MENINGOCOCCAL CONJUGATE + HIB (MENITORIX)               │     1\n",
       "PERTUSSIS (NO BRAND NAME)                               │     1\n",
       "PNEUMO (SYNFLORIX)                                      │     1\n",
       "POLIO VIRUS, ORAL (NO BRAND NAME)                       │     1\n",
       "TICK-BORNE ENCEPH (NO BRAND NAME)                       │     1\n",
       "YELLOW FEVER (NO BRAND NAME)                            │     1"
      ]
     },
     "execution_count": 6,
     "metadata": {},
     "output_type": "execute_result"
    }
   ],
   "source": [
    "# Frequency table of vaccines\n",
    "freq_vax = sort(freqtable(df, :VAX_NAME), rev=true);\n",
    "freq_vax"
   ]
  },
  {
   "cell_type": "code",
   "execution_count": 7,
   "metadata": {},
   "outputs": [
    {
     "data": {
      "text/plain": [
       "2-element Named Vector{Int64}\n",
       "SERIOUS_EVENT  │ \n",
       "───────────────┼──────\n",
       "0              │ 92996\n",
       "1              │ 10054"
      ]
     },
     "execution_count": 7,
     "metadata": {},
     "output_type": "execute_result"
    }
   ],
   "source": [
    "# Frequency table of serious events\n",
    "freq_serious = sort(freqtable(df, :SERIOUS_EVENT), rev=true);\n",
    "freq_serious"
   ]
  },
  {
   "cell_type": "code",
   "execution_count": 14,
   "metadata": {},
   "outputs": [
    {
     "data": {
      "text/plain": [
       "2×2 Named Matrix{Int64}\n",
       "COVID19_PFIZER ╲ SERIOUS_EVENT │     0      1\n",
       "───────────────────────────────┼─────────────\n",
       "false                          │ 72987   6433\n",
       "true                           │ 20009   3621"
      ]
     },
     "execution_count": 14,
     "metadata": {},
     "output_type": "execute_result"
    }
   ],
   "source": [
    "# Example contingency tables for VAX of interest = \"COVID19 (COVID19 (PFIZER-BIONTECH))\" and serious report\n",
    "df.COVID19_PFIZER = (df.VAX_NAME .== \"COVID19 (COVID19 (PFIZER-BIONTECH))\");\n",
    "tbl = freqtable(df, :COVID19_PFIZER, :SERIOUS_EVENT)"
   ]
  },
  {
   "cell_type": "code",
   "execution_count": 15,
   "metadata": {},
   "outputs": [
    {
     "data": {
      "text/plain": [
       "2×2 Named Matrix{Float64}\n",
       "COVID19_PFIZER ╲ SERIOUS_EVENT │         0          1\n",
       "───────────────────────────────┼─────────────────────\n",
       "false                          │  0.708268   0.062426\n",
       "true                           │  0.194168  0.0351383"
      ]
     },
     "execution_count": 15,
     "metadata": {},
     "output_type": "execute_result"
    }
   ],
   "source": [
    "prop(tbl)"
   ]
  },
  {
   "cell_type": "code",
   "execution_count": 19,
   "metadata": {},
   "outputs": [
    {
     "data": {
      "text/plain": [
       "2×2 Named Matrix{Int64}\n",
       "COVID19_MODERNA ╲ SERIOUS_EVENT │     0      1\n",
       "────────────────────────────────┼─────────────\n",
       "false                           │ 75792   6443\n",
       "true                            │ 17204   3611"
      ]
     },
     "execution_count": 19,
     "metadata": {},
     "output_type": "execute_result"
    }
   ],
   "source": [
    "df.COVID19_MODERNA = (df.VAX_NAME .== \"COVID19 (COVID19 (MODERNA))\");\n",
    "tbl = freqtable(df, :COVID19_MODERNA, :SERIOUS_EVENT)"
   ]
  },
  {
   "cell_type": "code",
   "execution_count": 20,
   "metadata": {},
   "outputs": [
    {
     "data": {
      "text/plain": [
       "2×2 Named Matrix{Float64}\n",
       "COVID19_MODERNA ╲ SERIOUS_EVENT │         0          1\n",
       "────────────────────────────────┼─────────────────────\n",
       "false                           │  0.735488   0.062523\n",
       "true                            │  0.166948  0.0350412"
      ]
     },
     "execution_count": 20,
     "metadata": {},
     "output_type": "execute_result"
    }
   ],
   "source": [
    "prop(tbl)"
   ]
  },
  {
   "cell_type": "code",
   "execution_count": 21,
   "metadata": {},
   "outputs": [
    {
     "data": {
      "text/plain": [
       "2×2 Named Matrix{Int64}\n",
       "COVID19_JANSSEN ╲ SERIOUS_EVENT │     0      1\n",
       "────────────────────────────────┼─────────────\n",
       "false                           │ 90376   9900\n",
       "true                            │  2620    154"
      ]
     },
     "execution_count": 21,
     "metadata": {},
     "output_type": "execute_result"
    }
   ],
   "source": [
    "df.COVID19_JANSSEN = (df.VAX_NAME .== \"COVID19 (COVID19 (JANSSEN))\");\n",
    "tbl = freqtable(df, :COVID19_JANSSEN, :SERIOUS_EVENT)"
   ]
  },
  {
   "cell_type": "code",
   "execution_count": 22,
   "metadata": {},
   "outputs": [
    {
     "data": {
      "text/plain": [
       "2×2 Named Matrix{Float64}\n",
       "COVID19_JANSSEN ╲ SERIOUS_EVENT │          0           1\n",
       "────────────────────────────────┼───────────────────────\n",
       "false                           │   0.877011   0.0960699\n",
       "true                            │  0.0254246  0.00149442"
      ]
     },
     "execution_count": 22,
     "metadata": {},
     "output_type": "execute_result"
    }
   ],
   "source": [
    "prop(tbl)"
   ]
  },
  {
   "cell_type": "code",
   "execution_count": null,
   "metadata": {},
   "outputs": [],
   "source": []
  }
 ],
 "metadata": {
  "kernelspec": {
   "display_name": "Julia 1.6.0",
   "language": "julia",
   "name": "julia-1.6"
  },
  "language_info": {
   "file_extension": ".jl",
   "mimetype": "application/julia",
   "name": "julia",
   "version": "1.6.0"
  }
 },
 "nbformat": 4,
 "nbformat_minor": 4
}
