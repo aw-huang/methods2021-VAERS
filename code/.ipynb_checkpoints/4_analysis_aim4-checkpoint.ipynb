{
 "cells": [
  {
   "cell_type": "markdown",
   "metadata": {},
   "source": [
    "### Setup"
   ]
  },
  {
   "cell_type": "code",
   "execution_count": null,
   "metadata": {},
   "outputs": [],
   "source": [
    "# install packages\n",
    "import Pkg;\n",
    "Pkg.add(\"CSV\");\n",
    "Pkg.add(\"DataFrames\");\n",
    "Pkg.add(\"FreqTables\");\n",
    "Pkg.add(\"StatsBase\");"
   ]
  },
  {
   "cell_type": "code",
   "execution_count": 171,
   "metadata": {},
   "outputs": [],
   "source": [
    "# load packages\n",
    "using CSV;\n",
    "using DataFrames;\n",
    "using FreqTables;\n",
    "using StatsBase;"
   ]
  },
  {
   "cell_type": "code",
   "execution_count": 173,
   "metadata": {},
   "outputs": [],
   "source": [
    "# setup filepaths\n",
    "path_source = string(@__DIR__,\"\\\\..\\\\source\");\n",
    "path_dev = string(@__DIR__,\"\\\\..\\\\dev\");\n",
    "path_output = string(@__DIR__,\"\\\\..\\\\output\");"
   ]
  },
  {
   "cell_type": "markdown",
   "metadata": {},
   "source": [
    "### Read in dataset"
   ]
  },
  {
   "cell_type": "code",
   "execution_count": 174,
   "metadata": {},
   "outputs": [
    {
     "data": {
      "text/plain": [
       "8-element Vector{String}:\n",
       " \"VAERS_ID\"\n",
       " \"RECVDATE\"\n",
       " \"AGE_YRS\"\n",
       " \"VAX_NAME\"\n",
       " \"VAX_TYPE\"\n",
       " \"VAX_MANU\"\n",
       " \"SYMPTOMS\"\n",
       " \"SERIOUS_EVENT\""
      ]
     },
     "execution_count": 174,
     "metadata": {},
     "output_type": "execute_result"
    }
   ],
   "source": [
    "# read in cleaned combined VAERS file\n",
    "df = CSV.read(joinpath(path_dev,\"19-21VAERSCOMB_clean.csv\"), DataFrame);\n",
    "names(df)"
   ]
  },
  {
   "cell_type": "code",
   "execution_count": 175,
   "metadata": {},
   "outputs": [
    {
     "data": {
      "text/plain": [
       "(103050, 8)"
      ]
     },
     "execution_count": 175,
     "metadata": {},
     "output_type": "execute_result"
    }
   ],
   "source": [
    "size(df)"
   ]
  },
  {
   "cell_type": "code",
   "execution_count": 176,
   "metadata": {},
   "outputs": [
    {
     "data": {
      "text/html": [
       "<table class=\"data-frame\"><thead><tr><th></th><th>VAERS_ID</th><th>VAX_NAME</th><th>SYMPTOMS</th></tr><tr><th></th><th>Int64</th><th>String</th><th>String</th></tr></thead><tbody><p>10 rows × 4 columns (omitted printing of 1 columns)</p><tr><th>1</th><td>794156</td><td>INFLUENZA (SEASONAL) (FLUARIX QUADRIVALENT)</td><td>Set([\"Injection site joint pain\", \"Injected limb mobility decreased\"])</td></tr><tr><th>2</th><td>794157</td><td>ZOSTER (SHINGRIX)</td><td>Set([\"Apathy\", \"Injection site pain\", \"Injection site pruritus\", \"Asthenia\", \"Arthralgia\", \"Injection site erythema\", \"Injection site warmth\", \"Injection site swelling\", \"Night sweats\", \"Listless\"])</td></tr><tr><th>3</th><td>794158</td><td>ZOSTER (SHINGRIX)</td><td>Set([\"Pain\", \"Headache\", \"Nausea\", \"Pyrexia\", \"Chills\"])</td></tr><tr><th>4</th><td>794160</td><td>ZOSTER (SHINGRIX)</td><td>Set([\"Lip swelling\", \"Lip blister\", \"Pain\", \"Influenza like illness\", \"Asthenia\", \"Injection site erythema\", \"Fatigue\", \"Injection site swelling\", \"Chills\"])</td></tr><tr><th>5</th><td>794161</td><td>ZOSTER (SHINGRIX)</td><td>Set([\"Pyrexia\"])</td></tr><tr><th>6</th><td>794163</td><td>ZOSTER (SHINGRIX)</td><td>Set([\"Abdominal pain\", \"Nausea\", \"Pyrexia\", \"Headache\", \"Arthralgia\", \"Fatigue\", \"Dizziness\", \"Myalgia\"])</td></tr><tr><th>7</th><td>794164</td><td>ZOSTER (SHINGRIX)</td><td>Set([\"Injection site pain\"])</td></tr><tr><th>8</th><td>794165</td><td>INFLUENZA (SEASONAL) (FLUZONE HIGH-DOSE)</td><td>Set([\"Extra dose administered\", \"No adverse event\"])</td></tr><tr><th>9</th><td>794165</td><td>PNEUMO (PREVNAR13)</td><td>Set([\"Extra dose administered\", \"No adverse event\"])</td></tr><tr><th>10</th><td>794166</td><td>INFLUENZA (SEASONAL) (FLUCELVAX QUADRIVALENT)</td><td>Set([\"Bursitis\", \"Injection site reaction\"])</td></tr></tbody></table>"
      ],
      "text/latex": [
       "\\begin{tabular}{r|cccc}\n",
       "\t& VAERS\\_ID & VAX\\_NAME & SYMPTOMS & \\\\\n",
       "\t\\hline\n",
       "\t& Int64 & String & String & \\\\\n",
       "\t\\hline\n",
       "\t1 & 794156 & INFLUENZA (SEASONAL) (FLUARIX QUADRIVALENT) & Set([\"Injection site joint pain\", \"Injected limb mobility decreased\"]) & $\\dots$ \\\\\n",
       "\t2 & 794157 & ZOSTER (SHINGRIX) & Set([\"Apathy\", \"Injection site pain\", \"Injection site pruritus\", \"Asthenia\", \"Arthralgia\", \"Injection site erythema\", \"Injection site warmth\", \"Injection site swelling\", \"Night sweats\", \"Listless\"]) & $\\dots$ \\\\\n",
       "\t3 & 794158 & ZOSTER (SHINGRIX) & Set([\"Pain\", \"Headache\", \"Nausea\", \"Pyrexia\", \"Chills\"]) & $\\dots$ \\\\\n",
       "\t4 & 794160 & ZOSTER (SHINGRIX) & Set([\"Lip swelling\", \"Lip blister\", \"Pain\", \"Influenza like illness\", \"Asthenia\", \"Injection site erythema\", \"Fatigue\", \"Injection site swelling\", \"Chills\"]) & $\\dots$ \\\\\n",
       "\t5 & 794161 & ZOSTER (SHINGRIX) & Set([\"Pyrexia\"]) & $\\dots$ \\\\\n",
       "\t6 & 794163 & ZOSTER (SHINGRIX) & Set([\"Abdominal pain\", \"Nausea\", \"Pyrexia\", \"Headache\", \"Arthralgia\", \"Fatigue\", \"Dizziness\", \"Myalgia\"]) & $\\dots$ \\\\\n",
       "\t7 & 794164 & ZOSTER (SHINGRIX) & Set([\"Injection site pain\"]) & $\\dots$ \\\\\n",
       "\t8 & 794165 & INFLUENZA (SEASONAL) (FLUZONE HIGH-DOSE) & Set([\"Extra dose administered\", \"No adverse event\"]) & $\\dots$ \\\\\n",
       "\t9 & 794165 & PNEUMO (PREVNAR13) & Set([\"Extra dose administered\", \"No adverse event\"]) & $\\dots$ \\\\\n",
       "\t10 & 794166 & INFLUENZA (SEASONAL) (FLUCELVAX QUADRIVALENT) & Set([\"Bursitis\", \"Injection site reaction\"]) & $\\dots$ \\\\\n",
       "\\end{tabular}\n"
      ],
      "text/plain": [
       "\u001b[1m10×4 DataFrame\u001b[0m\n",
       "\u001b[1m Row \u001b[0m│\u001b[1m VAERS_ID \u001b[0m\u001b[1m VAX_NAME                          \u001b[0m\u001b[1m SYMPTOMS                  \u001b[0m ⋯\n",
       "\u001b[1m     \u001b[0m│\u001b[90m Int64    \u001b[0m\u001b[90m String                            \u001b[0m\u001b[90m String                    \u001b[0m ⋯\n",
       "─────┼──────────────────────────────────────────────────────────────────────────\n",
       "   1 │   794156  INFLUENZA (SEASONAL) (FLUARIX QU…  Set([\"Injection site joint ⋯\n",
       "   2 │   794157  ZOSTER (SHINGRIX)                  Set([\"Apathy\", \"Injection\n",
       "   3 │   794158  ZOSTER (SHINGRIX)                  Set([\"Pain\", \"Headache\", \"\n",
       "   4 │   794160  ZOSTER (SHINGRIX)                  Set([\"Lip swelling\", \"Lip\n",
       "   5 │   794161  ZOSTER (SHINGRIX)                  Set([\"Pyrexia\"])           ⋯\n",
       "   6 │   794163  ZOSTER (SHINGRIX)                  Set([\"Abdominal pain\", \"Na\n",
       "   7 │   794164  ZOSTER (SHINGRIX)                  Set([\"Injection site pain\"\n",
       "   8 │   794165  INFLUENZA (SEASONAL) (FLUZONE HI…  Set([\"Extra dose administe\n",
       "   9 │   794165  PNEUMO (PREVNAR13)                 Set([\"Extra dose administe ⋯\n",
       "  10 │   794166  INFLUENZA (SEASONAL) (FLUCELVAX …  Set([\"Bursitis\", \"Injectio\n",
       "\u001b[36m                                                               2 columns omitted\u001b[0m"
      ]
     },
     "execution_count": 176,
     "metadata": {},
     "output_type": "execute_result"
    }
   ],
   "source": [
    "first(select(df, [\"VAERS_ID\", \"VAX_NAME\", \"SYMPTOMS\", \"SERIOUS_EVENT\"]), 10)"
   ]
  },
  {
   "cell_type": "code",
   "execution_count": 177,
   "metadata": {},
   "outputs": [
    {
     "data": {
      "text/html": [
       "<table class=\"data-frame\"><thead><tr><th></th><th>VAERS_ID</th><th>VAX_NAME</th><th>SYMPTOMS</th></tr><tr><th></th><th>Int64</th><th>String</th><th>Array…</th></tr></thead><tbody><p>10 rows × 4 columns (omitted printing of 1 columns)</p><tr><th>1</th><td>794156</td><td>INFLUENZA (SEASONAL) (FLUARIX QUADRIVALENT)</td><td>[\"Injection site joint pain\", \"Injected limb mobility decreased\"]</td></tr><tr><th>2</th><td>794157</td><td>ZOSTER (SHINGRIX)</td><td>[\"Apathy\", \"Injection site pain\", \"Injection site pruritus\", \"Asthenia\", \"Arthralgia\", \"Injection site erythema\", \"Injection site warmth\", \"Injection site swelling\", \"Night sweats\", \"Listless\"]</td></tr><tr><th>3</th><td>794158</td><td>ZOSTER (SHINGRIX)</td><td>[\"Pain\", \"Headache\", \"Nausea\", \"Pyrexia\", \"Chills\"]</td></tr><tr><th>4</th><td>794160</td><td>ZOSTER (SHINGRIX)</td><td>[\"Lip swelling\", \"Lip blister\", \"Pain\", \"Influenza like illness\", \"Asthenia\", \"Injection site erythema\", \"Fatigue\", \"Injection site swelling\", \"Chills\"]</td></tr><tr><th>5</th><td>794161</td><td>ZOSTER (SHINGRIX)</td><td>[\"Pyrexia\"]</td></tr><tr><th>6</th><td>794163</td><td>ZOSTER (SHINGRIX)</td><td>[\"Abdominal pain\", \"Nausea\", \"Pyrexia\", \"Headache\", \"Arthralgia\", \"Fatigue\", \"Dizziness\", \"Myalgia\"]</td></tr><tr><th>7</th><td>794164</td><td>ZOSTER (SHINGRIX)</td><td>[\"Injection site pain\"]</td></tr><tr><th>8</th><td>794165</td><td>INFLUENZA (SEASONAL) (FLUZONE HIGH-DOSE)</td><td>[\"Extra dose administered\", \"No adverse event\"]</td></tr><tr><th>9</th><td>794165</td><td>PNEUMO (PREVNAR13)</td><td>[\"Extra dose administered\", \"No adverse event\"]</td></tr><tr><th>10</th><td>794166</td><td>INFLUENZA (SEASONAL) (FLUCELVAX QUADRIVALENT)</td><td>[\"Bursitis\", \"Injection site reaction\"]</td></tr></tbody></table>"
      ],
      "text/latex": [
       "\\begin{tabular}{r|cccc}\n",
       "\t& VAERS\\_ID & VAX\\_NAME & SYMPTOMS & \\\\\n",
       "\t\\hline\n",
       "\t& Int64 & String & Array… & \\\\\n",
       "\t\\hline\n",
       "\t1 & 794156 & INFLUENZA (SEASONAL) (FLUARIX QUADRIVALENT) & [\"Injection site joint pain\", \"Injected limb mobility decreased\"] & $\\dots$ \\\\\n",
       "\t2 & 794157 & ZOSTER (SHINGRIX) & [\"Apathy\", \"Injection site pain\", \"Injection site pruritus\", \"Asthenia\", \"Arthralgia\", \"Injection site erythema\", \"Injection site warmth\", \"Injection site swelling\", \"Night sweats\", \"Listless\"] & $\\dots$ \\\\\n",
       "\t3 & 794158 & ZOSTER (SHINGRIX) & [\"Pain\", \"Headache\", \"Nausea\", \"Pyrexia\", \"Chills\"] & $\\dots$ \\\\\n",
       "\t4 & 794160 & ZOSTER (SHINGRIX) & [\"Lip swelling\", \"Lip blister\", \"Pain\", \"Influenza like illness\", \"Asthenia\", \"Injection site erythema\", \"Fatigue\", \"Injection site swelling\", \"Chills\"] & $\\dots$ \\\\\n",
       "\t5 & 794161 & ZOSTER (SHINGRIX) & [\"Pyrexia\"] & $\\dots$ \\\\\n",
       "\t6 & 794163 & ZOSTER (SHINGRIX) & [\"Abdominal pain\", \"Nausea\", \"Pyrexia\", \"Headache\", \"Arthralgia\", \"Fatigue\", \"Dizziness\", \"Myalgia\"] & $\\dots$ \\\\\n",
       "\t7 & 794164 & ZOSTER (SHINGRIX) & [\"Injection site pain\"] & $\\dots$ \\\\\n",
       "\t8 & 794165 & INFLUENZA (SEASONAL) (FLUZONE HIGH-DOSE) & [\"Extra dose administered\", \"No adverse event\"] & $\\dots$ \\\\\n",
       "\t9 & 794165 & PNEUMO (PREVNAR13) & [\"Extra dose administered\", \"No adverse event\"] & $\\dots$ \\\\\n",
       "\t10 & 794166 & INFLUENZA (SEASONAL) (FLUCELVAX QUADRIVALENT) & [\"Bursitis\", \"Injection site reaction\"] & $\\dots$ \\\\\n",
       "\\end{tabular}\n"
      ],
      "text/plain": [
       "\u001b[1m10×4 DataFrame\u001b[0m\n",
       "\u001b[1m Row \u001b[0m│\u001b[1m VAERS_ID \u001b[0m\u001b[1m VAX_NAME                          \u001b[0m\u001b[1m SYMPTOMS                  \u001b[0m ⋯\n",
       "\u001b[1m     \u001b[0m│\u001b[90m Int64    \u001b[0m\u001b[90m String                            \u001b[0m\u001b[90m Array…                    \u001b[0m ⋯\n",
       "─────┼──────────────────────────────────────────────────────────────────────────\n",
       "   1 │   794156  INFLUENZA (SEASONAL) (FLUARIX QU…  Any[\"Injection site joint  ⋯\n",
       "   2 │   794157  ZOSTER (SHINGRIX)                  Any[\"Apathy\", \"Injection s\n",
       "   3 │   794158  ZOSTER (SHINGRIX)                  Any[\"Pain\", \"Headache\", \"N\n",
       "   4 │   794160  ZOSTER (SHINGRIX)                  Any[\"Lip swelling\", \"Lip b\n",
       "   5 │   794161  ZOSTER (SHINGRIX)                  Any[\"Pyrexia\"]             ⋯\n",
       "   6 │   794163  ZOSTER (SHINGRIX)                  Any[\"Abdominal pain\", \"Nau\n",
       "   7 │   794164  ZOSTER (SHINGRIX)                  Any[\"Injection site pain\"]\n",
       "   8 │   794165  INFLUENZA (SEASONAL) (FLUZONE HI…  Any[\"Extra dose administer\n",
       "   9 │   794165  PNEUMO (PREVNAR13)                 Any[\"Extra dose administer ⋯\n",
       "  10 │   794166  INFLUENZA (SEASONAL) (FLUCELVAX …  Any[\"Bursitis\", \"Injection\n",
       "\u001b[36m                                                               2 columns omitted\u001b[0m"
      ]
     },
     "execution_count": 177,
     "metadata": {},
     "output_type": "execute_result"
    }
   ],
   "source": [
    "# Convert SYMPTOMS strings back to arrays of strings\n",
    "a = fill([], size(df,1));\n",
    "\n",
    "for rownumber in 1:size(df, 1)\n",
    "    str_symptoms = df[rownumber,:SYMPTOMS]\n",
    "    str_index_start = findfirst(isequal('['), str_symptoms)+2\n",
    "    str_index_end = findfirst(isequal(']'), str_symptoms)-2\n",
    "    a[rownumber] = split(df[rownumber,:SYMPTOMS][str_index_start:str_index_end], \"\\\", \\\"\")\n",
    "end;\n",
    "\n",
    "df.SYMPTOMS = a;\n",
    "first(select(df, [\"VAERS_ID\", \"VAX_NAME\", \"SYMPTOMS\", \"SERIOUS_EVENT\"]), 10)"
   ]
  },
  {
   "cell_type": "markdown",
   "metadata": {},
   "source": [
    "### Exploratory Data Analysis"
   ]
  },
  {
   "cell_type": "code",
   "execution_count": 178,
   "metadata": {},
   "outputs": [
    {
     "data": {
      "text/plain": [
       "112-element Named Vector{Int64}\n",
       "VAX_NAME                                                │ \n",
       "────────────────────────────────────────────────────────┼──────\n",
       "COVID19 (COVID19 (PFIZER-BIONTECH))                     │ 23630\n",
       "ZOSTER (SHINGRIX)                                       │ 21666\n",
       "COVID19 (COVID19 (MODERNA))                             │ 20815\n",
       "PNEUMO (PNEUMOVAX)                                      │  4810\n",
       "COVID19 (COVID19 (JANSSEN))                             │  2774\n",
       "INFLUENZA (SEASONAL) (FLUZONE QUADRIVALENT)             │  2154\n",
       "INFLUENZA (SEASONAL) (FLUZONE HIGH-DOSE)                │  2044\n",
       "INFLUENZA (SEASONAL) (FLUCELVAX QUADRIVALENT)           │  1912\n",
       "INFLUENZA (SEASONAL) (FLUZONE HIGH-DOSE QUADRIVALENT)   │  1819\n",
       "INFLUENZA (SEASONAL) (AFLURIA QUADRIVALENT)             │  1562\n",
       "INFLUENZA (SEASONAL) (FLUARIX QUADRIVALENT)             │  1531\n",
       "PNEUMO (PREVNAR13)                                      │  1408\n",
       "⋮                                                             ⋮\n",
       "BCG (NO BRAND NAME)                                     │     1\n",
       "CHOLERA (NO BRAND NAME)                                 │     1\n",
       "HEP A + HEP B (NO BRAND NAME)                           │     1\n",
       "HIB (NO BRAND NAME)                                     │     1\n",
       "JAPANESE ENCEPHALITIS (JE-VAX)                          │     1\n",
       "MENINGOCOCCAL CONJUGATE (NO BRAND NAME)                 │     1\n",
       "MENINGOCOCCAL CONJUGATE + HIB (MENITORIX)               │     1\n",
       "PERTUSSIS (NO BRAND NAME)                               │     1\n",
       "PNEUMO (SYNFLORIX)                                      │     1\n",
       "POLIO VIRUS, ORAL (NO BRAND NAME)                       │     1\n",
       "TICK-BORNE ENCEPH (NO BRAND NAME)                       │     1\n",
       "YELLOW FEVER (NO BRAND NAME)                            │     1"
      ]
     },
     "execution_count": 178,
     "metadata": {},
     "output_type": "execute_result"
    }
   ],
   "source": [
    "# Frequency table of vaccines\n",
    "freq_vax = sort(freqtable(df, :VAX_NAME), rev=true);\n",
    "freq_vax"
   ]
  },
  {
   "cell_type": "code",
   "execution_count": 179,
   "metadata": {},
   "outputs": [
    {
     "data": {
      "text/plain": [
       "Dict{String, Set{String}} with 112 entries:\n",
       "  \"PNEUMO (PREVNAR)\"        => Set([\"Laboratory test\", \"Pyrexia\", \"Tenderness\",…\n",
       "  \"RABIES (RABIE-VAX)\"      => Set([\"Blood magnesium normal\", \"Red blood cell s…\n",
       "  \"INFLUENZA (SEASONAL) (F… => Set([\"Sinus headache\", \"Pregnancy\", \"Cellulitis\"…\n",
       "  \"INFLUENZA (SEASONAL) (F… => Set([\"Oropharyngeal pain\", \"Pyrexia\", \"Injection…\n",
       "  \"DT ADSORBED (NO BRAND N… => Set([\"Burning sensation\", \"Dry mouth\", \"Cellulit…\n",
       "  \"YELLOW FEVER (NO BRAND … => Set([\"Pain\", \"Mobility decreased\", \"Muscle disor…\n",
       "  \"COVID19 (COVID19 (UNKNO… => Set([\"Tachypnoea\", \"Full blood count\", \"Troponin…\n",
       "  \"ANTHRAX (NO BRAND NAME)\" => Set([\"Arteriogram coronary normal\", \"Stevens-Joh…\n",
       "  \"MENINGOCOCCAL B (TRUMEN… => Set([\"Abdominal pain lower\", \"Computerised tomog…\n",
       "  \"HEP A (NO BRAND NAME)\"   => Set([\"Burning sensation\", \"Electrocardiogram nor…\n",
       "  \"TD ADSORBED (TDVAX)\"     => Set([\"Full blood count\", \"Abdominal pain\", \"Irri…\n",
       "  \"HEP B (NO BRAND NAME)\"   => Set([\"Burning sensation\", \"Product storage error…\n",
       "  \"HPV (GARDASIL)\"          => Set([\"Full blood count\", \"Burning sensation\", \"O…\n",
       "  \"HPV (GARDASIL 9)\"        => Set([\"Product storage error\", \"Housebound\", \"Hyp…\n",
       "  \"RABIES (IMOVAX)\"         => Set([\"Tonsillitis\", \"Troponin I\", \"Asthenia\", \"H…\n",
       "  \"VACCINE NOT SPECIFIED (… => Set([\"Product storage error\", \"Skin test positiv…\n",
       "  \"INFLUENZA (SEASONAL) (F… => Set([\"Oropharyngeal pain\", \"Nerve injury\", \"Elec…\n",
       "  \"INFLUENZA (SEASONAL) (N… => Set([\"Delivery\", \"Hyperhidrosis\", \"Brain natriur…\n",
       "  \"POLIO VIRUS, ORAL (NO B… => Set([\"Electrocardiogram abnormal\", \"Electrocardi…\n",
       "  \"CHOLERA (VAXCHORA)\"      => Set([\"Contraindication to vaccination\", \"Malaise…\n",
       "  \"JAPANESE ENCEPHALITIS (… => Set([\"Headache\", \"Nausea\", \"Pruritus\", \"Dizzines…\n",
       "  \"VACCINE NOT SPECIFIED (… => Set([\"Pyrexia\", \"Injection site pain\", \"Pain in …\n",
       "  \"PNEUMO (SYNFLORIX)\"      => Set([\"Rash\", \"Anaphylactic reaction\"])\n",
       "  \"SMALLPOX (ACAM2000)\"     => Set([\"Arteriogram coronary normal\", \"Limb injury…\n",
       "  \"ZOSTER LIVE (ZOSTAVAX)\"  => Set([\"Product storage error\", \"Ear congestion\", …\n",
       "  ⋮                         => ⋮"
      ]
     },
     "execution_count": 179,
     "metadata": {},
     "output_type": "execute_result"
    }
   ],
   "source": [
    "# Create dictionary for VAX_NAME:SYMPTOM\n",
    "# Step 1: create the dict \n",
    "vax_to_symptoms_dict = Dict{String, Set{String}}()\n",
    "# Step 2: populate the keys (VAERS_ID) of the dict\n",
    "for rownumber in 1:size(df, 1)\n",
    "    vax_name = df[rownumber, :VAX_NAME]\n",
    "    if !haskey(vax_to_symptoms_dict, vax_name)\n",
    "        # this is the set where we will store all of the symptoms for this VAX_NAME\n",
    "        vax_to_symptoms_dict[vax_name] = Set{String}()\n",
    "    end\n",
    "end\n",
    "# Step 3: populate the values (SYMPTOMS) of the dict\n",
    "for rownumber in 1:size(df, 1)\n",
    "    vax_name = df[rownumber, :VAX_NAME]\n",
    "    symptoms = df[rownumber, :SYMPTOMS]\n",
    "    for symptom in symptoms \n",
    "        push!(vax_to_symptoms_dict[vax_name], symptom)\n",
    "    end\n",
    "end\n",
    "# View dict\n",
    "vax_to_symptoms_dict"
   ]
  },
  {
   "cell_type": "markdown",
   "metadata": {},
   "source": [
    "### Among all 112 vaccines, what are the top reported symptoms:"
   ]
  },
  {
   "cell_type": "code",
   "execution_count": 242,
   "metadata": {},
   "outputs": [
    {
     "data": {
      "text/plain": [
       "5565×2 Matrix{Any}:\n",
       " \"Headache\"                                    18880\n",
       " \"Pyrexia\"                                     18160\n",
       " \"Pain\"                                        16730\n",
       " \"Chills\"                                      15906\n",
       " \"Fatigue\"                                     14091\n",
       " \"Injection site pain\"                         13350\n",
       " \"Pain in extremity\"                           12820\n",
       " \"Nausea\"                                      11764\n",
       " \"Injection site erythema\"                     10178\n",
       " \"Dizziness\"                                    9515\n",
       " \"Myalgia\"                                      8116\n",
       " \"Injection site swelling\"                      7972\n",
       " \"Erythema\"                                     7401\n",
       " ⋮                                             \n",
       " \"Therapy cessation\"                               1\n",
       " \"Gastric haemorrhage\"                             1\n",
       " \"Progressive multifocal leukoencephalopathy\"      1\n",
       " \"Nephrostomy\"                                     1\n",
       " \"Nail injury\"                                     1\n",
       " \"Vertebral artery stenosis\"                       1\n",
       " \"Mini-tracheostomy\"                               1\n",
       " \"Bladder mass\"                                    1\n",
       " \"Gallbladder mass\"                                1\n",
       " \"Scan myocardial perfusion abnormal\"              1\n",
       " \"Eosinophils urine\"                               1\n",
       " \"Flight of ideas\"                                 1"
      ]
     },
     "execution_count": 242,
     "metadata": {},
     "output_type": "execute_result"
    }
   ],
   "source": [
    "# Create dict of most reported symptoms for all 112 vaccines\n",
    "symptoms_all_dupes = reduce(vcat, df.SYMPTOMS)\n",
    "symptoms_freq_dict = StatsBase.countmap(symptoms_all_dupes)\n",
    "list_symptoms = unique(reduce(vcat, df.SYMPTOMS))\n",
    "freq_per_symptom = [symptoms_freq_dict[val] for val in list_symptoms]\n",
    "\n",
    "# print table\n",
    "tbl_symptoms_freq = hcat(list_symptoms, freq_per_symptom)\n",
    "tbl_symptoms_freq[sortperm(tbl_symptoms_freq[:, 2]; rev=true), :]"
   ]
  },
  {
   "cell_type": "markdown",
   "metadata": {},
   "source": [
    "### Among the 3 COVID-19 vaccines, what are the top reported symptoms:"
   ]
  },
  {
   "cell_type": "code",
   "execution_count": 243,
   "metadata": {},
   "outputs": [
    {
     "data": {
      "text/plain": [
       "4347×2 Matrix{Any}:\n",
       " \"Headache\"                            11075\n",
       " \"Pyrexia\"                              8528\n",
       " \"Chills\"                               8365\n",
       " \"Fatigue\"                              7976\n",
       " \"Pain\"                                 7370\n",
       " \"Nausea\"                               6494\n",
       " \"Dizziness\"                            5751\n",
       " \"Injection site pain\"                  4466\n",
       " \"Pain in extremity\"                    4399\n",
       " \"Myalgia\"                              4073\n",
       " \"Injection site erythema\"              3055\n",
       " \"Arthralgia\"                           3015\n",
       " \"Dyspnoea\"                             2936\n",
       " ⋮                                     \n",
       " \"Pancreatitis chronic\"                    1\n",
       " \"Escherichia sepsis\"                      1\n",
       " \"Axillary nerve injury\"                   1\n",
       " \"Nail injury\"                             1\n",
       " \"Vertebral artery stenosis\"               1\n",
       " \"Mini-tracheostomy\"                       1\n",
       " \"Bladder mass\"                            1\n",
       " \"Gallbladder mass\"                        1\n",
       " \"Scan myocardial perfusion abnormal\"      1\n",
       " \"Eosinophils urine\"                       1\n",
       " \"Flight of ideas\"                         1\n",
       " \"Tilt table test positive\"                1"
      ]
     },
     "execution_count": 243,
     "metadata": {},
     "output_type": "execute_result"
    }
   ],
   "source": [
    "# Create dict of most reported symptoms for COVID vaccines\n",
    "df_covid19 = filter(row -> row.VAX_TYPE in [\"COVID19\"], df)\n",
    "\n",
    "symptoms_all_dupes = reduce(vcat, df_covid19.SYMPTOMS)\n",
    "symptoms_freq_dict = StatsBase.countmap(symptoms_all_dupes)\n",
    "list_symptoms = unique(reduce(vcat, df_covid19.SYMPTOMS))\n",
    "freq_per_symptom = [symptoms_freq_dict[val] for val in list_symptoms]\n",
    "\n",
    "# print table\n",
    "tbl_symptoms_freq = hcat(list_symptoms, freq_per_symptom)\n",
    "tbl_symptoms_freq[sortperm(tbl_symptoms_freq[:, 2]; rev=true), :]"
   ]
  },
  {
   "cell_type": "markdown",
   "metadata": {},
   "source": [
    "### Contingency tables of Serious Events"
   ]
  },
  {
   "cell_type": "code",
   "execution_count": 6,
   "metadata": {},
   "outputs": [
    {
     "data": {
      "text/plain": [
       "2-element Named Vector{Int64}\n",
       "SERIOUS_EVENT  │ \n",
       "───────────────┼──────\n",
       "0              │ 92996\n",
       "1              │ 10054"
      ]
     },
     "execution_count": 6,
     "metadata": {},
     "output_type": "execute_result"
    }
   ],
   "source": [
    "# Frequency table of serious events\n",
    "freq_serious = sort(freqtable(df, :SERIOUS_EVENT), rev=true);\n",
    "freq_serious"
   ]
  },
  {
   "cell_type": "code",
   "execution_count": 299,
   "metadata": {},
   "outputs": [
    {
     "data": {
      "text/plain": [
       "2×2 Named Matrix{Int64}\n",
       "COVID19_PFIZER ╲ SERIOUS_EVENT │     0      1\n",
       "───────────────────────────────┼─────────────\n",
       "false                          │ 72987   6433\n",
       "true                           │ 20009   3621"
      ]
     },
     "execution_count": 299,
     "metadata": {},
     "output_type": "execute_result"
    }
   ],
   "source": [
    "# Example contingency tables for VAX of interest = \"COVID19 (COVID19 (PFIZER-BIONTECH))\" and serious report\n",
    "df.COVID19_PFIZER = (df.VAX_NAME .== \"COVID19 (COVID19 (PFIZER-BIONTECH))\");\n",
    "tbl = freqtable(df, :COVID19_PFIZER, :SERIOUS_EVENT)"
   ]
  },
  {
   "cell_type": "code",
   "execution_count": 300,
   "metadata": {},
   "outputs": [
    {
     "data": {
      "text/plain": [
       "1.8918257590414533"
      ]
     },
     "execution_count": 300,
     "metadata": {},
     "output_type": "execute_result"
    }
   ],
   "source": [
    "get_PRR(tbl)"
   ]
  },
  {
   "cell_type": "code",
   "execution_count": 301,
   "metadata": {},
   "outputs": [
    {
     "data": {
      "text/plain": [
       "2×2 Named Matrix{Int64}\n",
       "COVID19_MODERNA ╲ SERIOUS_EVENT │     0      1\n",
       "────────────────────────────────┼─────────────\n",
       "false                           │ 75792   6443\n",
       "true                            │ 17204   3611"
      ]
     },
     "execution_count": 301,
     "metadata": {},
     "output_type": "execute_result"
    }
   ],
   "source": [
    "df.COVID19_MODERNA = (df.VAX_NAME .== \"COVID19 (COVID19 (MODERNA))\");\n",
    "tbl = freqtable(df, :COVID19_MODERNA, :SERIOUS_EVENT)"
   ]
  },
  {
   "cell_type": "code",
   "execution_count": 302,
   "metadata": {},
   "outputs": [
    {
     "data": {
      "text/plain": [
       "2.214214235673132"
      ]
     },
     "execution_count": 302,
     "metadata": {},
     "output_type": "execute_result"
    }
   ],
   "source": [
    "get_PRR(tbl)"
   ]
  },
  {
   "cell_type": "code",
   "execution_count": 303,
   "metadata": {},
   "outputs": [
    {
     "data": {
      "text/plain": [
       "2×2 Named Matrix{Int64}\n",
       "COVID19_JANSSEN ╲ SERIOUS_EVENT │     0      1\n",
       "────────────────────────────────┼─────────────\n",
       "false                           │ 90376   9900\n",
       "true                            │  2620    154"
      ]
     },
     "execution_count": 303,
     "metadata": {},
     "output_type": "execute_result"
    }
   ],
   "source": [
    "df.COVID19_JANSSEN = (df.VAX_NAME .== \"COVID19 (COVID19 (JANSSEN))\");\n",
    "tbl = freqtable(df, :COVID19_JANSSEN, :SERIOUS_EVENT)"
   ]
  },
  {
   "cell_type": "code",
   "execution_count": 304,
   "metadata": {},
   "outputs": [
    {
     "data": {
      "text/plain": [
       "0.5623103420652087"
      ]
     },
     "execution_count": 304,
     "metadata": {},
     "output_type": "execute_result"
    }
   ],
   "source": [
    "get_PRR(tbl)"
   ]
  },
  {
   "cell_type": "markdown",
   "metadata": {},
   "source": [
    "### Define functions for AIM analysis"
   ]
  },
  {
   "cell_type": "code",
   "execution_count": 221,
   "metadata": {},
   "outputs": [],
   "source": [
    "function get_freqtable(df, vax_name_str, symptom_str)\n",
    "    test = select(df, [\"VAX_NAME\", \"SYMPTOMS\"])\n",
    "    # Create dummy variable for vax_name\n",
    "    test.VAX_IND = (test.VAX_NAME .== vax_name_str)\n",
    "    # Create dummy variable for symptom\n",
    "    test.SYMPTOM_IND = zeros(size(test, 1))\n",
    "    for rownumber in 1:size(test, 1)\n",
    "        if symptom_str in test[rownumber,:SYMPTOMS]\n",
    "            test[rownumber,:SYMPTOM_IND] = 1\n",
    "        end\n",
    "    end\n",
    "    \n",
    "    # Create frequency table\n",
    "    tbl = freqtable(test, :VAX_IND, :SYMPTOM_IND)\n",
    "    return tbl\n",
    "end;\n",
    "\n",
    "function get_PRR(tbl)\n",
    "    # Calculate PRR\n",
    "    a = tbl[2,2]\n",
    "    b = tbl[2,1]\n",
    "    c = tbl[1,2]\n",
    "    d = tbl[1,1]\n",
    "    PRR = (a/(a+b))/(c/(c+d))\n",
    "    \n",
    "    return PRR\n",
    "end;"
   ]
  },
  {
   "cell_type": "code",
   "execution_count": 222,
   "metadata": {},
   "outputs": [
    {
     "data": {
      "text/plain": [
       "2×2 Named Matrix{Int64}\n",
       "VAX_IND ╲ SYMPTOM_IND │   0.0    1.0\n",
       "──────────────────────┼─────────────\n",
       "false                 │ 66105  13315\n",
       "true                  │ 18065   5565"
      ]
     },
     "execution_count": 222,
     "metadata": {},
     "output_type": "execute_result"
    }
   ],
   "source": [
    "get_freqtable(df, \"COVID19 (COVID19 (PFIZER-BIONTECH))\", \"Headache\")"
   ]
  },
  {
   "cell_type": "code",
   "execution_count": 223,
   "metadata": {},
   "outputs": [
    {
     "data": {
      "text/plain": [
       "1.404721271689326"
      ]
     },
     "execution_count": 223,
     "metadata": {},
     "output_type": "execute_result"
    }
   ],
   "source": [
    "get_PRR(get_freqtable(df, \"COVID19 (COVID19 (PFIZER-BIONTECH))\", \"Headache\"))"
   ]
  },
  {
   "cell_type": "code",
   "execution_count": 224,
   "metadata": {},
   "outputs": [
    {
     "data": {
      "text/plain": [
       "2×2 Named Matrix{Int64}\n",
       "VAX_IND ╲ SYMPTOM_IND │   0.0    1.0\n",
       "──────────────────────┼─────────────\n",
       "false                 │ 67741  14494\n",
       "true                  │ 16429   4386"
      ]
     },
     "execution_count": 224,
     "metadata": {},
     "output_type": "execute_result"
    }
   ],
   "source": [
    "get_freqtable(df, \"COVID19 (COVID19 (MODERNA))\", \"Headache\")"
   ]
  },
  {
   "cell_type": "code",
   "execution_count": 225,
   "metadata": {},
   "outputs": [
    {
     "data": {
      "text/plain": [
       "1.1955304771966409"
      ]
     },
     "execution_count": 225,
     "metadata": {},
     "output_type": "execute_result"
    }
   ],
   "source": [
    "get_PRR(get_freqtable(df, \"COVID19 (COVID19 (MODERNA))\", \"Headache\"))"
   ]
  },
  {
   "cell_type": "markdown",
   "metadata": {},
   "source": [
    "### Stratified analysis by Age Group"
   ]
  },
  {
   "cell_type": "code",
   "execution_count": 245,
   "metadata": {},
   "outputs": [
    {
     "data": {
      "text/plain": [
       "94-element Named Vector{Int64}\n",
       "AGE_YRS  │ \n",
       "─────────┼─────\n",
       "16.0     │ 1514\n",
       "17.0     │ 1447\n",
       "18.0     │ 1153\n",
       "19.0     │  680\n",
       "20.0     │  641\n",
       "21.0     │  670\n",
       "22.0     │  734\n",
       "23.0     │  886\n",
       "24.0     │  894\n",
       "25.0     │ 1053\n",
       "26.0     │ 1070\n",
       "27.0     │ 1162\n",
       "⋮             ⋮\n",
       "98.0     │   32\n",
       "99.0     │   19\n",
       "100.0    │   17\n",
       "101.0    │   14\n",
       "102.0    │   11\n",
       "103.0    │    6\n",
       "104.0    │    1\n",
       "105.0    │    2\n",
       "106.0    │    2\n",
       "111.0    │    2\n",
       "113.0    │    1\n",
       "115.0    │    4"
      ]
     },
     "execution_count": 245,
     "metadata": {},
     "output_type": "execute_result"
    }
   ],
   "source": [
    "freqtable(df, :AGE_YRS)"
   ]
  },
  {
   "cell_type": "code",
   "execution_count": 278,
   "metadata": {},
   "outputs": [],
   "source": [
    "# Create the following age bins, following RI eligibility groups\n",
    "# 16 to 39\n",
    "df.AGE_16to39 = (df.AGE_YRS .>= 16) .& (df.AGE_YRS .<= 39);\n",
    "\n",
    "# 40 to 49\n",
    "df.AGE_40to49 = (df.AGE_YRS .>= 40) .& (df.AGE_YRS .<= 49);\n",
    "\n",
    "# 50 to 59\n",
    "df.AGE_50to59 = (df.AGE_YRS .>= 50) .& (df.AGE_YRS .<= 59);\n",
    "\n",
    "# 60 to 64\n",
    "df.AGE_60to64 = (df.AGE_YRS .>= 60) .& (df.AGE_YRS .<= 64);\n",
    "\n",
    "# 65 to 74\n",
    "df.AGE_65to74 = (df.AGE_YRS .>= 65) .& (df.AGE_YRS .<= 74);\n",
    "\n",
    "# 75+\n",
    "df.AGE_75ovr = (df.AGE_YRS .>= 75);"
   ]
  },
  {
   "cell_type": "code",
   "execution_count": 306,
   "metadata": {},
   "outputs": [
    {
     "data": {
      "text/plain": [
       "6×4 Matrix{Any}:\n",
       " \"AGE_16to39\"  1.05614  1.04346  0.485031\n",
       " \"AGE_40to49\"  1.01937  1.19241  0.628195\n",
       " \"AGE_50to59\"  1.62568  2.14038  0.5954\n",
       " \"AGE_60to64\"  2.15655  2.69577  0.877504\n",
       " \"AGE_65to74\"  4.29741  4.47161  0.973273\n",
       " \"AGE_75ovr\"   2.919    3.07623  1.38702"
      ]
     },
     "execution_count": 306,
     "metadata": {},
     "output_type": "execute_result"
    }
   ],
   "source": [
    "# Create PRRs for SERIOUS_EVENT, stratified by COVID vax, stratified by AGE GROUP\n",
    "AGE_GROUP = [\"AGE_16to39\", \"AGE_40to49\", \"AGE_50to59\", \"AGE_60to64\", \"AGE_65to74\", \"AGE_75ovr\"];\n",
    "\n",
    "# Pfizer\n",
    "COVID19_PFIZER_PRR = zeros(0);\n",
    "push!(COVID19_PFIZER_PRR, get_PRR(freqtable(df[df.AGE_16to39,:], :COVID19_PFIZER, :SERIOUS_EVENT)));\n",
    "push!(COVID19_PFIZER_PRR, get_PRR(freqtable(df[df.AGE_40to49,:], :COVID19_PFIZER, :SERIOUS_EVENT)));\n",
    "push!(COVID19_PFIZER_PRR, get_PRR(freqtable(df[df.AGE_50to59,:], :COVID19_PFIZER, :SERIOUS_EVENT)));\n",
    "push!(COVID19_PFIZER_PRR, get_PRR(freqtable(df[df.AGE_60to64,:], :COVID19_PFIZER, :SERIOUS_EVENT)));\n",
    "push!(COVID19_PFIZER_PRR, get_PRR(freqtable(df[df.AGE_65to74,:], :COVID19_PFIZER, :SERIOUS_EVENT)));\n",
    "push!(COVID19_PFIZER_PRR, get_PRR(freqtable(df[df.AGE_75ovr,:], :COVID19_PFIZER, :SERIOUS_EVENT)));\n",
    "\n",
    "# Moderna\n",
    "COVID19_MODERNA_PRR = zeros(0);\n",
    "push!(COVID19_MODERNA_PRR, get_PRR(freqtable(df[df.AGE_16to39,:], :COVID19_MODERNA, :SERIOUS_EVENT)));\n",
    "push!(COVID19_MODERNA_PRR, get_PRR(freqtable(df[df.AGE_40to49,:], :COVID19_MODERNA, :SERIOUS_EVENT)));\n",
    "push!(COVID19_MODERNA_PRR, get_PRR(freqtable(df[df.AGE_50to59,:], :COVID19_MODERNA, :SERIOUS_EVENT)));\n",
    "push!(COVID19_MODERNA_PRR, get_PRR(freqtable(df[df.AGE_60to64,:], :COVID19_MODERNA, :SERIOUS_EVENT)));\n",
    "push!(COVID19_MODERNA_PRR, get_PRR(freqtable(df[df.AGE_65to74,:], :COVID19_MODERNA, :SERIOUS_EVENT)));\n",
    "push!(COVID19_MODERNA_PRR, get_PRR(freqtable(df[df.AGE_75ovr,:], :COVID19_MODERNA, :SERIOUS_EVENT)));\n",
    "\n",
    "# Janssen\n",
    "COVID19_JANSSEN_PRR = zeros(0);\n",
    "push!(COVID19_JANSSEN_PRR, get_PRR(freqtable(df[df.AGE_16to39,:], :COVID19_JANSSEN, :SERIOUS_EVENT)));\n",
    "push!(COVID19_JANSSEN_PRR, get_PRR(freqtable(df[df.AGE_40to49,:], :COVID19_JANSSEN, :SERIOUS_EVENT)));\n",
    "push!(COVID19_JANSSEN_PRR, get_PRR(freqtable(df[df.AGE_50to59,:], :COVID19_JANSSEN, :SERIOUS_EVENT)));\n",
    "push!(COVID19_JANSSEN_PRR, get_PRR(freqtable(df[df.AGE_60to64,:], :COVID19_JANSSEN, :SERIOUS_EVENT)));\n",
    "push!(COVID19_JANSSEN_PRR, get_PRR(freqtable(df[df.AGE_65to74,:], :COVID19_JANSSEN, :SERIOUS_EVENT)));\n",
    "push!(COVID19_JANSSEN_PRR, get_PRR(freqtable(df[df.AGE_75ovr,:], :COVID19_JANSSEN, :SERIOUS_EVENT)));\n",
    "\n",
    "tbl_aim4 = hcat(AGE_GROUP, COVID19_PFIZER_PRR, COVID19_MODERNA_PRR, COVID19_JANSSEN_PRR)"
   ]
  },
  {
   "cell_type": "code",
   "execution_count": 282,
   "metadata": {},
   "outputs": [
    {
     "data": {
      "text/plain": [
       "1.0561385116039366"
      ]
     },
     "execution_count": 282,
     "metadata": {},
     "output_type": "execute_result"
    }
   ],
   "source": [
    "# write to output folder\n",
    "CSV.write(joinpath(path_output,\"aim4.csv\"), tbl_aim4);"
   ]
  },
  {
   "cell_type": "code",
   "execution_count": null,
   "metadata": {},
   "outputs": [],
   "source": []
  }
 ],
 "metadata": {
  "kernelspec": {
   "display_name": "Julia 1.6.0",
   "language": "julia",
   "name": "julia-1.6"
  },
  "language_info": {
   "file_extension": ".jl",
   "mimetype": "application/julia",
   "name": "julia",
   "version": "1.6.0"
  }
 },
 "nbformat": 4,
 "nbformat_minor": 4
}
