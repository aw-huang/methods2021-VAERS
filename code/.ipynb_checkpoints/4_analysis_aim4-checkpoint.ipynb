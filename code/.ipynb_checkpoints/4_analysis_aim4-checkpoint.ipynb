{
 "cells": [
  {
   "cell_type": "markdown",
   "metadata": {},
   "source": [
    "Setup"
   ]
  },
  {
   "cell_type": "code",
   "execution_count": null,
   "metadata": {},
   "outputs": [],
   "source": [
    "# install packages\n",
    "import Pkg;\n",
    "Pkg.add(\"CSV\");\n",
    "Pkg.add(\"DataFrames\");\n",
    "Pkg.add(\"FreqTables\");"
   ]
  },
  {
   "cell_type": "code",
   "execution_count": 2,
   "metadata": {},
   "outputs": [],
   "source": [
    "# load packages\n",
    "using CSV;\n",
    "using DataFrames;\n",
    "using FreqTables;"
   ]
  },
  {
   "cell_type": "code",
   "execution_count": 3,
   "metadata": {},
   "outputs": [],
   "source": [
    "# setup filepaths\n",
    "path_source = string(@__DIR__,\"\\\\..\\\\source\");\n",
    "path_dev = string(@__DIR__,\"\\\\..\\\\dev\");\n",
    "path_output = string(@__DIR__,\"\\\\..\\\\output\");"
   ]
  },
  {
   "cell_type": "markdown",
   "metadata": {},
   "source": [
    "Read in dataset"
   ]
  },
  {
   "cell_type": "code",
   "execution_count": 4,
   "metadata": {},
   "outputs": [
    {
     "data": {
      "text/plain": [
       "103050-element CSV.File{false}:\n",
       " CSV.Row: (VAERS_ID = 794156, RECVDATE = Dates.Date(\"2019-01-01\"), AGE_YRS = 69.0, VAX_NAME = \"INFLUENZA (SEASONAL) (FLUARIX QUADRIVALENT)\", VAX_TYPE = \"FLU4\", VAX_MANU = \"GLAXOSMITHKLINE BIOLOGICALS\", SYMPTOMS = \"Set([\\\"Injection site joint pain\\\", \\\"Injected limb mobility decreased\\\"])\", SERIOUS_EVENT = 0)\n",
       " CSV.Row: (VAERS_ID = 794157, RECVDATE = Dates.Date(\"2019-01-01\"), AGE_YRS = 68.0, VAX_NAME = \"ZOSTER (SHINGRIX)\", VAX_TYPE = \"VARZOS\", VAX_MANU = \"GLAXOSMITHKLINE BIOLOGICALS\", SYMPTOMS = \"Set([\\\"Apathy\\\", \\\"Injection site pain\\\", \\\"Injection site pruritus\\\", \\\"Asthenia\\\", \\\"Arthralgia\\\", \\\"Injection site erythema\\\", \\\"Injection site warmth\\\", \\\"Injection site swelling\\\", \\\"Night sweats\\\", \\\"Listless\\\"])\", SERIOUS_EVENT = 0)\n",
       " CSV.Row: (VAERS_ID = 794158, RECVDATE = Dates.Date(\"2019-01-01\"), AGE_YRS = 62.0, VAX_NAME = \"ZOSTER (SHINGRIX)\", VAX_TYPE = \"VARZOS\", VAX_MANU = \"GLAXOSMITHKLINE BIOLOGICALS\", SYMPTOMS = \"Set([\\\"Pain\\\", \\\"Headache\\\", \\\"Nausea\\\", \\\"Pyrexia\\\", \\\"Chills\\\"])\", SERIOUS_EVENT = 0)\n",
       " CSV.Row: (VAERS_ID = 794160, RECVDATE = Dates.Date(\"2019-01-01\"), AGE_YRS = 79.0, VAX_NAME = \"ZOSTER (SHINGRIX)\", VAX_TYPE = \"VARZOS\", VAX_MANU = \"GLAXOSMITHKLINE BIOLOGICALS\", SYMPTOMS = \"Set([\\\"Lip swelling\\\", \\\"Lip blister\\\", \\\"Pain\\\", \\\"Influenza like illness\\\", \\\"Asthenia\\\", \\\"Injection site erythema\\\", \\\"Fatigue\\\", \\\"Injection site swelling\\\", \\\"Chills\\\"])\", SERIOUS_EVENT = 0)\n",
       " CSV.Row: (VAERS_ID = 794161, RECVDATE = Dates.Date(\"2019-01-01\"), AGE_YRS = 57.0, VAX_NAME = \"ZOSTER (SHINGRIX)\", VAX_TYPE = \"VARZOS\", VAX_MANU = \"GLAXOSMITHKLINE BIOLOGICALS\", SYMPTOMS = \"Set([\\\"Pyrexia\\\"])\", SERIOUS_EVENT = 0)\n",
       " CSV.Row: (VAERS_ID = 794163, RECVDATE = Dates.Date(\"2019-01-01\"), AGE_YRS = 65.0, VAX_NAME = \"ZOSTER (SHINGRIX)\", VAX_TYPE = \"VARZOS\", VAX_MANU = \"GLAXOSMITHKLINE BIOLOGICALS\", SYMPTOMS = \"Set([\\\"Abdominal pain\\\", \\\"Nausea\\\", \\\"Pyrexia\\\", \\\"Headache\\\", \\\"Arthralgia\\\", \\\"Fatigue\\\", \\\"Dizziness\\\", \\\"Myalgia\\\"])\", SERIOUS_EVENT = 0)\n",
       " CSV.Row: (VAERS_ID = 794164, RECVDATE = Dates.Date(\"2019-01-01\"), AGE_YRS = 57.0, VAX_NAME = \"ZOSTER (SHINGRIX)\", VAX_TYPE = \"VARZOS\", VAX_MANU = \"GLAXOSMITHKLINE BIOLOGICALS\", SYMPTOMS = \"Set([\\\"Injection site pain\\\"])\", SERIOUS_EVENT = 0)\n",
       " CSV.Row: (VAERS_ID = 794165, RECVDATE = Dates.Date(\"2019-01-01\"), AGE_YRS = 80.0, VAX_NAME = \"INFLUENZA (SEASONAL) (FLUZONE HIGH-DOSE)\", VAX_TYPE = \"FLU3\", VAX_MANU = \"SANOFI PASTEUR\", SYMPTOMS = \"Set([\\\"Extra dose administered\\\", \\\"No adverse event\\\"])\", SERIOUS_EVENT = 0)\n",
       " CSV.Row: (VAERS_ID = 794165, RECVDATE = Dates.Date(\"2019-01-01\"), AGE_YRS = 80.0, VAX_NAME = \"PNEUMO (PREVNAR13)\", VAX_TYPE = \"PNC13\", VAX_MANU = \"PFIZER\\\\WYETH\", SYMPTOMS = \"Set([\\\"Extra dose administered\\\", \\\"No adverse event\\\"])\", SERIOUS_EVENT = 0)\n",
       " CSV.Row: (VAERS_ID = 794166, RECVDATE = Dates.Date(\"2019-01-01\"), AGE_YRS = 36.0, VAX_NAME = \"INFLUENZA (SEASONAL) (FLUCELVAX QUADRIVALENT)\", VAX_TYPE = \"FLUC4\", VAX_MANU = \"SEQIRUS, INC.\", SYMPTOMS = \"Set([\\\"Bursitis\\\", \\\"Injection site reaction\\\"])\", SERIOUS_EVENT = 0)\n",
       " CSV.Row: (VAERS_ID = 794168, RECVDATE = Dates.Date(\"2019-01-01\"), AGE_YRS = 43.0, VAX_NAME = \"INFLUENZA (SEASONAL) (NO BRAND NAME)\", VAX_TYPE = \"FLUX\", VAX_MANU = \"UNKNOWN MANUFACTURER\", SYMPTOMS = \"Set([\\\"Vestibular migraine\\\", \\\"Dizziness\\\", \\\"Migraine\\\", \\\"Nausea\\\", \\\"Ear pain\\\", \\\"Vertigo\\\", \\\"Nuclear magnetic resonance imaging normal\\\", \\\"Labyrinthitis\\\", \\\"Viral infection\\\", \\\"Tinnitus\\\", \\\"Vomiting\\\"])\", SERIOUS_EVENT = 0)\n",
       " CSV.Row: (VAERS_ID = 794169, RECVDATE = Dates.Date(\"2019-01-01\"), AGE_YRS = 53.0, VAX_NAME = \"ZOSTER (SHINGRIX)\", VAX_TYPE = \"VARZOS\", VAX_MANU = \"GLAXOSMITHKLINE BIOLOGICALS\", SYMPTOMS = \"Set([\\\"Tremor\\\", \\\"Chills\\\"])\", SERIOUS_EVENT = 0)\n",
       " CSV.Row: (VAERS_ID = 794171, RECVDATE = Dates.Date(\"2019-01-01\"), AGE_YRS = 70.0, VAX_NAME = \"PNEUMO (PNEUMOVAX)\", VAX_TYPE = \"PPV\", VAX_MANU = \"MERCK & CO. INC.\", SYMPTOMS = \"Set([\\\"Pain\\\", \\\"Urticaria\\\"])\", SERIOUS_EVENT = 0)\n",
       " ⋮\n",
       " CSV.Row: (VAERS_ID = 1134120, RECVDATE = Dates.Date(\"2021-03-25\"), AGE_YRS = 42.0, VAX_NAME = \"COVID19 (COVID19 (JANSSEN))\", VAX_TYPE = \"COVID19\", VAX_MANU = \"JANSSEN\", SYMPTOMS = \"Set([\\\"Pyrexia\\\", \\\"Tenderness\\\", \\\"Erythema\\\", \\\"Monocyte count increased\\\", \\\"Gait disturbance\\\", \\\"Chills\\\", \\\"Joint swelling\\\", \\\"Pain\\\", \\\"Headache\\\", \\\"Bursitis\\\", \\\"Myalgia\\\"])\", SERIOUS_EVENT = 1)\n",
       " CSV.Row: (VAERS_ID = 1134203, RECVDATE = Dates.Date(\"2021-03-25\"), AGE_YRS = 55.0, VAX_NAME = \"COVID19 (COVID19 (JANSSEN))\", VAX_TYPE = \"COVID19\", VAX_MANU = \"JANSSEN\", SYMPTOMS = \"Set([\\\"Computerised tomogram head normal\\\", \\\"Computerised tomogram spine\\\", \\\"Lumbar puncture\\\", \\\"CSF neutrophil count increased\\\", \\\"CSF glucose normal\\\", \\\"CSF protein increased\\\", \\\"CSF white blood cell count\\\", \\\"Guillain-Barre syndrome\\\", \\\"CSF lymphocyte count normal\\\"])\", SERIOUS_EVENT = 1)\n",
       " CSV.Row: (VAERS_ID = 1134437, RECVDATE = Dates.Date(\"2021-03-25\"), AGE_YRS = 40.0, VAX_NAME = \"COVID19 (COVID19 (JANSSEN))\", VAX_TYPE = \"COVID19\", VAX_MANU = \"JANSSEN\", SYMPTOMS = \"Set([\\\"Bell's palsy\\\", \\\"Computerised tomogram head normal\\\", \\\"Magnetic resonance imaging head normal\\\"])\", SERIOUS_EVENT = 1)\n",
       " CSV.Row: (VAERS_ID = 1134439, RECVDATE = Dates.Date(\"2021-03-25\"), AGE_YRS = 48.0, VAX_NAME = \"COVID19 (COVID19 (JANSSEN))\", VAX_TYPE = \"COVID19\", VAX_MANU = \"JANSSEN\", SYMPTOMS = \"Set([\\\"Chest X-ray\\\", \\\"Blood test\\\", \\\"Dysstasia\\\", \\\"Hypertension\\\", \\\"Magnetic resonance imaging\\\", \\\"Seizure\\\", \\\"Dizziness\\\", \\\"Sensory disturbance\\\", \\\"Heart rate increased\\\", \\\"Electrocardiogram\\\"])\", SERIOUS_EVENT = 1)\n",
       " CSV.Row: (VAERS_ID = 1134651, RECVDATE = Dates.Date(\"2021-03-25\"), AGE_YRS = 63.0, VAX_NAME = \"COVID19 (COVID19 (JANSSEN))\", VAX_TYPE = \"COVID19\", VAX_MANU = \"JANSSEN\", SYMPTOMS = \"Set([\\\"Death\\\", \\\"Haemorrhagic stroke\\\"])\", SERIOUS_EVENT = 1)\n",
       " CSV.Row: (VAERS_ID = 1134697, RECVDATE = Dates.Date(\"2021-03-25\"), AGE_YRS = 51.0, VAX_NAME = \"COVID19 (COVID19 (JANSSEN))\", VAX_TYPE = \"COVID19\", VAX_MANU = \"JANSSEN\", SYMPTOMS = \"Set([\\\"Death\\\"])\", SERIOUS_EVENT = 1)\n",
       " CSV.Row: (VAERS_ID = 1134819, RECVDATE = Dates.Date(\"2021-03-25\"), AGE_YRS = 51.0, VAX_NAME = \"COVID19 (COVID19 (JANSSEN))\", VAX_TYPE = \"COVID19\", VAX_MANU = \"JANSSEN\", SYMPTOMS = \"Set([\\\"Pulmonary embolism\\\", \\\"Echocardiogram abnormal\\\", \\\"Death\\\", \\\"Resuscitation\\\", \\\"Dyspnoea\\\", \\\"Brain natriuretic peptide\\\", \\\"Computerised tomogram abnormal\\\", \\\"Cardiac failure\\\", \\\"Troponin increased\\\", \\\"Condition aggravated\\\", \\\"Pulse absent\\\", \\\"Myocardial strain\\\"])\", SERIOUS_EVENT = 1)\n",
       " CSV.Row: (VAERS_ID = 1135429, RECVDATE = Dates.Date(\"2021-03-25\"), AGE_YRS = 81.0, VAX_NAME = \"COVID19 (COVID19 (JANSSEN))\", VAX_TYPE = \"COVID19\", VAX_MANU = \"JANSSEN\", SYMPTOMS = \"Set([\\\"Lip swelling\\\", \\\"Full blood count normal\\\", \\\"Metabolic function test normal\\\", \\\"Swollen tongue\\\", \\\"Anaphylactic reaction\\\"])\", SERIOUS_EVENT = 1)\n",
       " CSV.Row: (VAERS_ID = 1135949, RECVDATE = Dates.Date(\"2021-03-25\"), AGE_YRS = 47.0, VAX_NAME = \"COVID19 (COVID19 (JANSSEN))\", VAX_TYPE = \"COVID19\", VAX_MANU = \"JANSSEN\", SYMPTOMS = \"Set([\\\"Rash\\\", \\\"Wheezing\\\", \\\"Pruritus\\\", \\\"Respiratory disorder\\\", \\\"Chest discomfort\\\", \\\"Urticaria\\\"])\", SERIOUS_EVENT = 1)\n",
       " CSV.Row: (VAERS_ID = 1136535, RECVDATE = Dates.Date(\"2021-03-26\"), AGE_YRS = 72.0, VAX_NAME = \"COVID19 (COVID19 (JANSSEN))\", VAX_TYPE = \"COVID19\", VAX_MANU = \"JANSSEN\", SYMPTOMS = \"Set([\\\"Pyrexia\\\", \\\"Asthenia\\\", \\\"Myalgia\\\"])\", SERIOUS_EVENT = 1)\n",
       " CSV.Row: (VAERS_ID = 1136622, RECVDATE = Dates.Date(\"2021-03-26\"), AGE_YRS = 70.0, VAX_NAME = \"COVID19 (COVID19 (JANSSEN))\", VAX_TYPE = \"COVID19\", VAX_MANU = \"JANSSEN\", SYMPTOMS = \"Set([\\\"Cardiac arrest\\\"])\", SERIOUS_EVENT = 1)\n",
       " CSV.Row: (VAERS_ID = 1136908, RECVDATE = Dates.Date(\"2021-03-26\"), AGE_YRS = 41.0, VAX_NAME = \"COVID19 (COVID19 (JANSSEN))\", VAX_TYPE = \"COVID19\", VAX_MANU = \"JANSSEN\", SYMPTOMS = \"Set([\\\"Headache\\\", \\\"Tremor\\\", \\\"Gait disturbance\\\", \\\"Monoplegia\\\", \\\"Pyrexia\\\", \\\"Chills\\\"])\", SERIOUS_EVENT = 1)"
      ]
     },
     "execution_count": 4,
     "metadata": {},
     "output_type": "execute_result"
    }
   ],
   "source": [
    "CSV.File(joinpath(path_dev,\"19-21VAERSCOMB_clean.csv\"); types=[Int, String, Int, String, String, String, Set{String}])"
   ]
  },
  {
   "cell_type": "code",
   "execution_count": 6,
   "metadata": {},
   "outputs": [
    {
     "data": {
      "text/plain": [
       "8-element Vector{String}:\n",
       " \"VAERS_ID\"\n",
       " \"RECVDATE\"\n",
       " \"AGE_YRS\"\n",
       " \"VAX_NAME\"\n",
       " \"VAX_TYPE\"\n",
       " \"VAX_MANU\"\n",
       " \"SYMPTOMS\"\n",
       " \"SERIOUS_EVENT\""
      ]
     },
     "execution_count": 6,
     "metadata": {},
     "output_type": "execute_result"
    }
   ],
   "source": [
    "# read in cleaned combined VAERS file\n",
    "df = CSV.read(joinpath(path_dev,\"19-21VAERSCOMB_clean.csv\"), DataFrame);\n",
    "names(df)"
   ]
  },
  {
   "cell_type": "code",
   "execution_count": 7,
   "metadata": {},
   "outputs": [
    {
     "data": {
      "text/html": [
       "<table class=\"data-frame\"><thead><tr><th></th><th>VAERS_ID</th><th>VAX_NAME</th><th>SYMPTOMS</th></tr><tr><th></th><th>Int64</th><th>String</th><th>String</th></tr></thead><tbody><p>10 rows × 4 columns (omitted printing of 1 columns)</p><tr><th>1</th><td>794156</td><td>INFLUENZA (SEASONAL) (FLUARIX QUADRIVALENT)</td><td>Set([\"Injection site joint pain\", \"Injected limb mobility decreased\"])</td></tr><tr><th>2</th><td>794157</td><td>ZOSTER (SHINGRIX)</td><td>Set([\"Apathy\", \"Injection site pain\", \"Injection site pruritus\", \"Asthenia\", \"Arthralgia\", \"Injection site erythema\", \"Injection site warmth\", \"Injection site swelling\", \"Night sweats\", \"Listless\"])</td></tr><tr><th>3</th><td>794158</td><td>ZOSTER (SHINGRIX)</td><td>Set([\"Pain\", \"Headache\", \"Nausea\", \"Pyrexia\", \"Chills\"])</td></tr><tr><th>4</th><td>794160</td><td>ZOSTER (SHINGRIX)</td><td>Set([\"Lip swelling\", \"Lip blister\", \"Pain\", \"Influenza like illness\", \"Asthenia\", \"Injection site erythema\", \"Fatigue\", \"Injection site swelling\", \"Chills\"])</td></tr><tr><th>5</th><td>794161</td><td>ZOSTER (SHINGRIX)</td><td>Set([\"Pyrexia\"])</td></tr><tr><th>6</th><td>794163</td><td>ZOSTER (SHINGRIX)</td><td>Set([\"Abdominal pain\", \"Nausea\", \"Pyrexia\", \"Headache\", \"Arthralgia\", \"Fatigue\", \"Dizziness\", \"Myalgia\"])</td></tr><tr><th>7</th><td>794164</td><td>ZOSTER (SHINGRIX)</td><td>Set([\"Injection site pain\"])</td></tr><tr><th>8</th><td>794165</td><td>INFLUENZA (SEASONAL) (FLUZONE HIGH-DOSE)</td><td>Set([\"Extra dose administered\", \"No adverse event\"])</td></tr><tr><th>9</th><td>794165</td><td>PNEUMO (PREVNAR13)</td><td>Set([\"Extra dose administered\", \"No adverse event\"])</td></tr><tr><th>10</th><td>794166</td><td>INFLUENZA (SEASONAL) (FLUCELVAX QUADRIVALENT)</td><td>Set([\"Bursitis\", \"Injection site reaction\"])</td></tr></tbody></table>"
      ],
      "text/latex": [
       "\\begin{tabular}{r|cccc}\n",
       "\t& VAERS\\_ID & VAX\\_NAME & SYMPTOMS & \\\\\n",
       "\t\\hline\n",
       "\t& Int64 & String & String & \\\\\n",
       "\t\\hline\n",
       "\t1 & 794156 & INFLUENZA (SEASONAL) (FLUARIX QUADRIVALENT) & Set([\"Injection site joint pain\", \"Injected limb mobility decreased\"]) & $\\dots$ \\\\\n",
       "\t2 & 794157 & ZOSTER (SHINGRIX) & Set([\"Apathy\", \"Injection site pain\", \"Injection site pruritus\", \"Asthenia\", \"Arthralgia\", \"Injection site erythema\", \"Injection site warmth\", \"Injection site swelling\", \"Night sweats\", \"Listless\"]) & $\\dots$ \\\\\n",
       "\t3 & 794158 & ZOSTER (SHINGRIX) & Set([\"Pain\", \"Headache\", \"Nausea\", \"Pyrexia\", \"Chills\"]) & $\\dots$ \\\\\n",
       "\t4 & 794160 & ZOSTER (SHINGRIX) & Set([\"Lip swelling\", \"Lip blister\", \"Pain\", \"Influenza like illness\", \"Asthenia\", \"Injection site erythema\", \"Fatigue\", \"Injection site swelling\", \"Chills\"]) & $\\dots$ \\\\\n",
       "\t5 & 794161 & ZOSTER (SHINGRIX) & Set([\"Pyrexia\"]) & $\\dots$ \\\\\n",
       "\t6 & 794163 & ZOSTER (SHINGRIX) & Set([\"Abdominal pain\", \"Nausea\", \"Pyrexia\", \"Headache\", \"Arthralgia\", \"Fatigue\", \"Dizziness\", \"Myalgia\"]) & $\\dots$ \\\\\n",
       "\t7 & 794164 & ZOSTER (SHINGRIX) & Set([\"Injection site pain\"]) & $\\dots$ \\\\\n",
       "\t8 & 794165 & INFLUENZA (SEASONAL) (FLUZONE HIGH-DOSE) & Set([\"Extra dose administered\", \"No adverse event\"]) & $\\dots$ \\\\\n",
       "\t9 & 794165 & PNEUMO (PREVNAR13) & Set([\"Extra dose administered\", \"No adverse event\"]) & $\\dots$ \\\\\n",
       "\t10 & 794166 & INFLUENZA (SEASONAL) (FLUCELVAX QUADRIVALENT) & Set([\"Bursitis\", \"Injection site reaction\"]) & $\\dots$ \\\\\n",
       "\\end{tabular}\n"
      ],
      "text/plain": [
       "\u001b[1m10×4 DataFrame\u001b[0m\n",
       "\u001b[1m Row \u001b[0m│\u001b[1m VAERS_ID \u001b[0m\u001b[1m VAX_NAME                          \u001b[0m\u001b[1m SYMPTOMS                  \u001b[0m ⋯\n",
       "\u001b[1m     \u001b[0m│\u001b[90m Int64    \u001b[0m\u001b[90m String                            \u001b[0m\u001b[90m String                    \u001b[0m ⋯\n",
       "─────┼──────────────────────────────────────────────────────────────────────────\n",
       "   1 │   794156  INFLUENZA (SEASONAL) (FLUARIX QU…  Set([\"Injection site joint ⋯\n",
       "   2 │   794157  ZOSTER (SHINGRIX)                  Set([\"Apathy\", \"Injection\n",
       "   3 │   794158  ZOSTER (SHINGRIX)                  Set([\"Pain\", \"Headache\", \"\n",
       "   4 │   794160  ZOSTER (SHINGRIX)                  Set([\"Lip swelling\", \"Lip\n",
       "   5 │   794161  ZOSTER (SHINGRIX)                  Set([\"Pyrexia\"])           ⋯\n",
       "   6 │   794163  ZOSTER (SHINGRIX)                  Set([\"Abdominal pain\", \"Na\n",
       "   7 │   794164  ZOSTER (SHINGRIX)                  Set([\"Injection site pain\"\n",
       "   8 │   794165  INFLUENZA (SEASONAL) (FLUZONE HI…  Set([\"Extra dose administe\n",
       "   9 │   794165  PNEUMO (PREVNAR13)                 Set([\"Extra dose administe ⋯\n",
       "  10 │   794166  INFLUENZA (SEASONAL) (FLUCELVAX …  Set([\"Bursitis\", \"Injectio\n",
       "\u001b[36m                                                               2 columns omitted\u001b[0m"
      ]
     },
     "execution_count": 7,
     "metadata": {},
     "output_type": "execute_result"
    }
   ],
   "source": [
    "first(select(df, [\"VAERS_ID\", \"VAX_NAME\", \"SYMPTOMS\", \"SERIOUS_EVENT\"]), 10)"
   ]
  },
  {
   "cell_type": "markdown",
   "metadata": {},
   "source": [
    "EDA"
   ]
  },
  {
   "cell_type": "code",
   "execution_count": 5,
   "metadata": {},
   "outputs": [
    {
     "data": {
      "text/plain": [
       "112-element Named Vector{Int64}\n",
       "VAX_NAME                                                │ \n",
       "────────────────────────────────────────────────────────┼──────\n",
       "COVID19 (COVID19 (PFIZER-BIONTECH))                     │ 23630\n",
       "ZOSTER (SHINGRIX)                                       │ 21666\n",
       "COVID19 (COVID19 (MODERNA))                             │ 20815\n",
       "PNEUMO (PNEUMOVAX)                                      │  4810\n",
       "COVID19 (COVID19 (JANSSEN))                             │  2774\n",
       "INFLUENZA (SEASONAL) (FLUZONE QUADRIVALENT)             │  2154\n",
       "INFLUENZA (SEASONAL) (FLUZONE HIGH-DOSE)                │  2044\n",
       "INFLUENZA (SEASONAL) (FLUCELVAX QUADRIVALENT)           │  1912\n",
       "INFLUENZA (SEASONAL) (FLUZONE HIGH-DOSE QUADRIVALENT)   │  1819\n",
       "INFLUENZA (SEASONAL) (AFLURIA QUADRIVALENT)             │  1562\n",
       "INFLUENZA (SEASONAL) (FLUARIX QUADRIVALENT)             │  1531\n",
       "PNEUMO (PREVNAR13)                                      │  1408\n",
       "VACCINE NOT SPECIFIED (NO BRAND NAME)                   │  1286\n",
       "TDAP (BOOSTRIX)                                         │  1117\n",
       "HPV (GARDASIL 9)                                        │   993\n",
       "INFLUENZA (SEASONAL) (FLUBLOK QUADRIVALENT)             │   956\n",
       "INFLUENZA (SEASONAL) (FLUAD)                            │   939\n",
       "TDAP (ADACEL)                                           │   920\n",
       "MENINGOCOCCAL B (BEXSERO)                               │   841\n",
       "MEASLES + MUMPS + RUBELLA (MMR II)                      │   734\n",
       "MENINGOCOCCAL CONJUGATE (MENACTRA)                      │   708\n",
       "INFLUENZA (SEASONAL) (FLUAD QUADRIVALENT)               │   666\n",
       "INFLUENZA (SEASONAL) (FLULAVAL QUADRIVALENT)            │   661\n",
       "ZOSTER LIVE (ZOSTAVAX)                                  │   641\n",
       "VARICELLA (VARIVAX)                                     │   634\n",
       "HEP B (ENGERIX-B)                                       │   522\n",
       "HEP A (HAVRIX)                                          │   516\n",
       "MENINGOCOCCAL B (TRUMENBA)                              │   495\n",
       "INFLUENZA (SEASONAL) (NO BRAND NAME)                    │   448\n",
       "VACCINE NOT SPECIFIED (OTHER)                           │   390\n",
       "MENINGOCOCCAL CONJUGATE (MENVEO)                        │   306\n",
       "ANTHRAX (BIOTHRAX)                                      │   227\n",
       "HEP A (VAQTA)                                           │   221\n",
       "HEP A + HEP B (TWINRIX)                                 │   181\n",
       "TYPHOID VI POLYSACCHARIDE (TYPHIM VI)                   │   178\n",
       "HEP B (HEPLISAV-B)                                      │   165\n",
       "INFLUENZA (SEASONAL) (AFLURIA)                          │   156\n",
       "TD ADSORBED (TENIVAC)                                   │   146\n",
       "MEASLES + MUMPS + RUBELLA + VARICELLA (PROQUAD)         │   129\n",
       "SMALLPOX (ACAM2000)                                     │   128\n",
       "DTAP (DAPTACEL)                                         │   109\n",
       "POLIO VIRUS, INACT. (IPOL)                              │   108\n",
       "RABIES (RABAVERT)                                       │   107\n",
       "HPV (GARDASIL)                                          │    82\n",
       "JAPANESE ENCEPHALITIS (IXIARO)                          │    79\n",
       "RABIES (IMOVAX)                                         │    79\n",
       "TYPHOID LIVE ORAL TY21A (VIVOTIF)                       │    76\n",
       "ZOSTER (NO BRAND NAME)                                  │    75\n",
       "HEP B (RECOMBIVAX HB)                                   │    70\n",
       "PNEUMO (NO BRAND NAME)                                  │    70\n",
       "TDAP (NO BRAND NAME)                                    │    62\n",
       "YELLOW FEVER (STAMARIL)                                 │    53\n",
       "TD ADSORBED (NO BRAND NAME)                             │    49\n",
       "TD ADSORBED (TDVAX)                                     │    47\n",
       "INFLUENZA (SEASONAL) (FLUZONE)                          │    44\n",
       "YELLOW FEVER (YF-VAX)                                   │    39\n",
       "INFLUENZA (SEASONAL) (FLUZONE INTRADERMAL QUADRIVALENT) │    37\n",
       "INFLUENZA (SEASONAL) (FLUVIRIN)                         │    36\n",
       "INFLUENZA (SEASONAL) (FLUMIST QUADRIVALENT)             │    32\n",
       "COVID19 (COVID19 (UNKNOWN))                             │    28\n",
       "DTAP (INFANRIX)                                         │    27\n",
       "HEP A (NO BRAND NAME)                                   │    25\n",
       "PNEUMO (PREVNAR)                                        │    24\n",
       "TETANUS TOXOID (NO BRAND NAME)                          │    22\n",
       "MENINGOCOCCAL (NO BRAND NAME)                           │    18\n",
       "HEP B (NO BRAND NAME)                                   │    17\n",
       "DT ADSORBED (NO BRAND NAME)                             │    16\n",
       "CHOLERA (VAXCHORA)                                      │    14\n",
       "HIB (ACTHIB)                                            │    14\n",
       "DTP (NO BRAND NAME)                                     │    10\n",
       "ADENOVIRUS TYPES 4 & 7, LIVE, ORAL (NO BRAND NAME)      │     9\n",
       "INFLUENZA (SEASONAL) (FLUARIX)                          │     9\n",
       "INFLUENZA (SEASONAL) (FLUBLOK)                          │     9\n",
       "MEASLES + MUMPS + RUBELLA (NO BRAND NAME)               │     9\n",
       "HPV (NO BRAND NAME)                                     │     7\n",
       "VARICELLA (NO BRAND NAME)                               │     7\n",
       "DTAP (NO BRAND NAME)                                    │     6\n",
       "DTAP + IPV + HIB (PENTACEL)                             │     6\n",
       "HIB (PEDVAXHIB)                                         │     6\n",
       "RABIES (NO BRAND NAME)                                  │     6\n",
       "TETANUS DIPHTHERIA (NO BRAND NAME)                      │     6\n",
       "DTAP + HEPB + IPV (PEDIARIX)                            │     5\n",
       "DTAP + IPV (KINRIX)                                     │     5\n",
       "VARICELLA (VARILRIX)                                    │     5\n",
       "INFLUENZA (SEASONAL) (FLUCELVAX)                        │     4\n",
       "POLIO VIRUS, INACT. (NO BRAND NAME)                     │     4\n",
       "POLIO VIRUS, INACT. (POLIOVAX)                          │     4\n",
       "SMALLPOX (NO BRAND NAME)                                │     4\n",
       "VACCINE NOT SPECIFIED (FOREIGN)                         │     4\n",
       "ANTHRAX (NO BRAND NAME)                                 │     3\n",
       "HIB (HIBERIX)                                           │     3\n",
       "TYPHOID VI POLYSACCHARIDE (NO BRAND NAME)               │     3\n",
       "DTAP + IPV (QUADRACEL)                                  │     2\n",
       "INFLUENZA (SEASONAL) (FLULAVAL)                         │     2\n",
       "INFLUENZA (SEASONAL) (FLUMIST)                          │     2\n",
       "MEASLES (NO BRAND NAME)                                 │     2\n",
       "RABIES (RABIE-VAX)                                      │     2\n",
       "ROTAVIRUS (ROTARIX)                                     │     2\n",
       "ROTAVIRUS (ROTATEQ)                                     │     2\n",
       "TETANUS TOXOID (TEVAX)                                  │     2\n",
       "BCG (NO BRAND NAME)                                     │     1\n",
       "CHOLERA (NO BRAND NAME)                                 │     1\n",
       "HEP A + HEP B (NO BRAND NAME)                           │     1\n",
       "HIB (NO BRAND NAME)                                     │     1\n",
       "JAPANESE ENCEPHALITIS (JE-VAX)                          │     1\n",
       "MENINGOCOCCAL CONJUGATE (NO BRAND NAME)                 │     1\n",
       "MENINGOCOCCAL CONJUGATE + HIB (MENITORIX)               │     1\n",
       "PERTUSSIS (NO BRAND NAME)                               │     1\n",
       "PNEUMO (SYNFLORIX)                                      │     1\n",
       "POLIO VIRUS, ORAL (NO BRAND NAME)                       │     1\n",
       "TICK-BORNE ENCEPH (NO BRAND NAME)                       │     1\n",
       "YELLOW FEVER (NO BRAND NAME)                            │     1"
      ]
     },
     "execution_count": 5,
     "metadata": {},
     "output_type": "execute_result"
    }
   ],
   "source": [
    "# Frequency table of vaccines\n",
    "freq_vax = sort(freqtable(df, :VAX_NAME), rev=true);\n",
    "freq_vax"
   ]
  },
  {
   "cell_type": "code",
   "execution_count": 6,
   "metadata": {},
   "outputs": [
    {
     "data": {
      "text/plain": [
       "2-element Named Vector{Int64}\n",
       "SERIOUS_EVENT  │ \n",
       "───────────────┼──────\n",
       "0              │ 92996\n",
       "1              │ 10054"
      ]
     },
     "execution_count": 6,
     "metadata": {},
     "output_type": "execute_result"
    }
   ],
   "source": [
    "# Frequency table of serious events\n",
    "freq_serious = sort(freqtable(df, :SERIOUS_EVENT), rev=true);\n",
    "freq_serious"
   ]
  },
  {
   "cell_type": "code",
   "execution_count": 7,
   "metadata": {},
   "outputs": [
    {
     "data": {
      "text/plain": [
       "2×2 Named Matrix{Int64}\n",
       "SERIOUS_EVENT ╲ COVID19_PFIZER │ false   true\n",
       "───────────────────────────────┼─────────────\n",
       "0                              │ 72987  20009\n",
       "1                              │  6433   3621"
      ]
     },
     "execution_count": 7,
     "metadata": {},
     "output_type": "execute_result"
    }
   ],
   "source": [
    "# Example contingency tables for VAX of interest = \"COVID19 (COVID19 (PFIZER-BIONTECH))\" and serious report\n",
    "df.COVID19_PFIZER = (df.VAX_NAME .== \"COVID19 (COVID19 (PFIZER-BIONTECH))\");\n",
    "tbl = freqtable(df, :SERIOUS_EVENT, :COVID19_PFIZER)"
   ]
  },
  {
   "cell_type": "code",
   "execution_count": 8,
   "metadata": {},
   "outputs": [
    {
     "data": {
      "text/plain": [
       "2×2 Named Matrix{Float64}\n",
       "SERIOUS_EVENT ╲ COVID19_PFIZER │     false       true\n",
       "───────────────────────────────┼─────────────────────\n",
       "0                              │  0.708268   0.194168\n",
       "1                              │  0.062426  0.0351383"
      ]
     },
     "execution_count": 8,
     "metadata": {},
     "output_type": "execute_result"
    }
   ],
   "source": [
    "prop(tbl)"
   ]
  },
  {
   "cell_type": "code",
   "execution_count": 9,
   "metadata": {},
   "outputs": [
    {
     "data": {
      "text/plain": [
       "2×2 Named Matrix{Int64}\n",
       "SERIOUS_EVENT ╲ COVID19_MODERNA │ false   true\n",
       "────────────────────────────────┼─────────────\n",
       "0                               │ 75792  17204\n",
       "1                               │  6443   3611"
      ]
     },
     "execution_count": 9,
     "metadata": {},
     "output_type": "execute_result"
    }
   ],
   "source": [
    "df.COVID19_MODERNA = (df.VAX_NAME .== \"COVID19 (COVID19 (MODERNA))\");\n",
    "tbl = freqtable(df, :SERIOUS_EVENT, :COVID19_MODERNA)"
   ]
  },
  {
   "cell_type": "code",
   "execution_count": 10,
   "metadata": {},
   "outputs": [
    {
     "data": {
      "text/plain": [
       "2×2 Named Matrix{Float64}\n",
       "SERIOUS_EVENT ╲ COVID19_MODERNA │     false       true\n",
       "────────────────────────────────┼─────────────────────\n",
       "0                               │  0.735488   0.166948\n",
       "1                               │  0.062523  0.0350412"
      ]
     },
     "execution_count": 10,
     "metadata": {},
     "output_type": "execute_result"
    }
   ],
   "source": [
    "prop(tbl)"
   ]
  },
  {
   "cell_type": "code",
   "execution_count": 11,
   "metadata": {},
   "outputs": [
    {
     "data": {
      "text/plain": [
       "2×2 Named Matrix{Int64}\n",
       "SERIOUS_EVENT ╲ COVID19_JANSSEN │ false   true\n",
       "────────────────────────────────┼─────────────\n",
       "0                               │ 90376   2620\n",
       "1                               │  9900    154"
      ]
     },
     "execution_count": 11,
     "metadata": {},
     "output_type": "execute_result"
    }
   ],
   "source": [
    "df.COVID19_JANSSEN = (df.VAX_NAME .== \"COVID19 (COVID19 (JANSSEN))\");\n",
    "tbl = freqtable(df, :SERIOUS_EVENT, :COVID19_JANSSEN)"
   ]
  },
  {
   "cell_type": "code",
   "execution_count": 12,
   "metadata": {},
   "outputs": [
    {
     "data": {
      "text/plain": [
       "2×2 Named Matrix{Float64}\n",
       "SERIOUS_EVENT ╲ COVID19_JANSSEN │      false        true\n",
       "────────────────────────────────┼───────────────────────\n",
       "0                               │   0.877011   0.0254246\n",
       "1                               │  0.0960699  0.00149442"
      ]
     },
     "execution_count": 12,
     "metadata": {},
     "output_type": "execute_result"
    }
   ],
   "source": [
    "prop(tbl)"
   ]
  },
  {
   "cell_type": "code",
   "execution_count": null,
   "metadata": {},
   "outputs": [],
   "source": []
  }
 ],
 "metadata": {
  "kernelspec": {
   "display_name": "Julia 1.6.0",
   "language": "julia",
   "name": "julia-1.6"
  },
  "language_info": {
   "file_extension": ".jl",
   "mimetype": "application/julia",
   "name": "julia",
   "version": "1.6.0"
  }
 },
 "nbformat": 4,
 "nbformat_minor": 4
}
