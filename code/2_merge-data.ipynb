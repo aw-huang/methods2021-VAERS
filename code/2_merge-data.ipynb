{
 "cells": [
  {
   "cell_type": "markdown",
   "metadata": {},
   "source": [
    "Setup"
   ]
  },
  {
   "cell_type": "code",
   "execution_count": null,
   "metadata": {},
   "outputs": [],
   "source": [
    "# install packages\n",
    "import Pkg;\n",
    "Pkg.add(\"CSV\");\n",
    "Pkg.add(\"DataFrames\");"
   ]
  },
  {
   "cell_type": "code",
   "execution_count": 1,
   "metadata": {},
   "outputs": [],
   "source": [
    "# load packages\n",
    "using CSV;\n",
    "using DataFrames;"
   ]
  },
  {
   "cell_type": "code",
   "execution_count": 2,
   "metadata": {},
   "outputs": [],
   "source": [
    "# setup filepaths\n",
    "path_source = string(@__DIR__,\"\\\\..\\\\source\");\n",
    "path_dev = string(@__DIR__,\"\\\\..\\\\dev\");"
   ]
  },
  {
   "cell_type": "markdown",
   "metadata": {},
   "source": [
    "Merge files"
   ]
  },
  {
   "cell_type": "code",
   "execution_count": 3,
   "metadata": {},
   "outputs": [],
   "source": [
    "df_data_appended = CSV.read(joinpath(path_dev,\"19-21VAERSDATA.csv\"), DataFrame);\n",
    "df_vax_appended = CSV.read(joinpath(path_dev,\"19-21VAERSVAX.csv\"), DataFrame);\n",
    "df_symp_appended = CSV.read(joinpath(path_dev,\"19-21VAERSSYMPTOMS_dev.csv\"), DataFrame);"
   ]
  },
  {
   "cell_type": "code",
   "execution_count": 5,
   "metadata": {},
   "outputs": [
    {
     "data": {
      "text/html": [
       "<table class=\"data-frame\"><thead><tr><th></th><th>VAERS_ID</th><th>SYMPTOMS</th></tr><tr><th></th><th>Int64</th><th>String</th></tr></thead><tbody><p>135,054 rows × 2 columns</p><tr><th>1</th><td>870067</td><td>Set([\"Platelet count decreased\"])</td></tr><tr><th>2</th><td>1043880</td><td>Set([\"Aspiration\", \"Death\", \"Insomnia\", \"Seizure\"])</td></tr><tr><th>3</th><td>900301</td><td>Set([\"Coronavirus infection\", \"Cough\", \"Dyspnoea\"])</td></tr><tr><th>4</th><td>905057</td><td>Set([\"Influenza\"])</td></tr><tr><th>5</th><td>818452</td><td>Set([\"Abdominal distension\", \"Flatulence\", \"Abdominal pain upper\", \"Muscle spasms\"])</td></tr><tr><th>6</th><td>870391</td><td>Set([\"Product storage error\"])</td></tr><tr><th>7</th><td>1051588</td><td>Set([\"Paraesthesia\"])</td></tr><tr><th>8</th><td>1048923</td><td>Set([\"Pain\", \"Pyrexia\", \"Pain in extremity\"])</td></tr><tr><th>9</th><td>802732</td><td>Set([\"Pain\", \"Injection site pain\"])</td></tr><tr><th>10</th><td>876141</td><td>Set([\"Expired product administered\"])</td></tr><tr><th>11</th><td>816542</td><td>Set([\"Herpes zoster\"])</td></tr><tr><th>12</th><td>864692</td><td>Set([\"Malaise\", \"Pain\", \"Pyrexia\", \"Pruritus\", \"Skin warm\", \"Erythema\", \"Pain in extremity\", \"Peripheral swelling\"])</td></tr><tr><th>13</th><td>888531</td><td>Set([\"Tenderness\", \"Pain in extremity\", \"Peripheral swelling\"])</td></tr><tr><th>14</th><td>925270</td><td>Set([\"Muscle fatigue\"])</td></tr><tr><th>15</th><td>926039</td><td>Set([\"Nausea\", \"Skin warm\", \"Arthralgia\", \"Erythema\", \"Neck pain\", \"Peripheral swelling\", \"Pain in extremity\"])</td></tr><tr><th>16</th><td>844734</td><td>Set([\"Cough\", \"Diarrhoea\", \"Headache\", \"Lethargy\"])</td></tr><tr><th>17</th><td>898563</td><td>Set([\"Mobility decreased\", \"Product administered at inappropriate site\", \"Quality of life decreased\", \"Pain in extremity\"])</td></tr><tr><th>18</th><td>903750</td><td>Set([\"Urticaria\"])</td></tr><tr><th>19</th><td>1052848</td><td>Set([\"Dyspnoea\", \"Asthenia\", \"SARS-CoV-2 test positive\", \"COVID-19 pneumonia\", \"COVID-19\", \"Chest X-ray abnormal\", \"Pneumonia\"])</td></tr><tr><th>20</th><td>864253</td><td>Set([\"Rash\"])</td></tr><tr><th>21</th><td>843235</td><td>Set([\"Malaise\", \"Pyrexia\", \"Urticaria\"])</td></tr><tr><th>22</th><td>915819</td><td>Set([\"Nausea\", \"Vomiting\"])</td></tr><tr><th>23</th><td>1095664</td><td>Set([\"Myalgia\", \"Pyrexia\", \"Nausea\", \"Arthralgia\", \"Fatigue\", \"Pain in extremity\", \"Muscle spasms\"])</td></tr><tr><th>24</th><td>851385</td><td>Set([\"No adverse event\", \"Product administered to patient of inappropriate age\"])</td></tr><tr><th>25</th><td>801830</td><td>Set([\"Asthenia\", \"Hyperhidrosis\", \"Chills\"])</td></tr><tr><th>26</th><td>813579</td><td>Set([\"Injection site warmth\", \"Injection site erythema\", \"Injection site rash\"])</td></tr><tr><th>27</th><td>1024131</td><td>Set([\"Appendicectomy\", \"Pain\", \"Headache\", \"Appendicitis\"])</td></tr><tr><th>28</th><td>893323</td><td>Set([\"Injection site pain\"])</td></tr><tr><th>29</th><td>810056</td><td>Set([\"Feeling cold\", \"Headache\", \"Injection site pain\", \"Arthralgia\", \"Decreased appetite\", \"Insomnia\", \"Nervousness\", \"Pain in extremity\"])</td></tr><tr><th>30</th><td>1090478</td><td>Set([\"Hypertension\", \"SARS-CoV-2 test\", \"Blood pressure measurement\", \"Disease recurrence\", \"Pulmonary oedema\", \"Cardiac failure congestive\"])</td></tr><tr><th>&vellip;</th><td>&vellip;</td><td>&vellip;</td></tr></tbody></table>"
      ],
      "text/latex": [
       "\\begin{tabular}{r|cc}\n",
       "\t& VAERS\\_ID & SYMPTOMS\\\\\n",
       "\t\\hline\n",
       "\t& Int64 & String\\\\\n",
       "\t\\hline\n",
       "\t1 & 870067 & Set([\"Platelet count decreased\"]) \\\\\n",
       "\t2 & 1043880 & Set([\"Aspiration\", \"Death\", \"Insomnia\", \"Seizure\"]) \\\\\n",
       "\t3 & 900301 & Set([\"Coronavirus infection\", \"Cough\", \"Dyspnoea\"]) \\\\\n",
       "\t4 & 905057 & Set([\"Influenza\"]) \\\\\n",
       "\t5 & 818452 & Set([\"Abdominal distension\", \"Flatulence\", \"Abdominal pain upper\", \"Muscle spasms\"]) \\\\\n",
       "\t6 & 870391 & Set([\"Product storage error\"]) \\\\\n",
       "\t7 & 1051588 & Set([\"Paraesthesia\"]) \\\\\n",
       "\t8 & 1048923 & Set([\"Pain\", \"Pyrexia\", \"Pain in extremity\"]) \\\\\n",
       "\t9 & 802732 & Set([\"Pain\", \"Injection site pain\"]) \\\\\n",
       "\t10 & 876141 & Set([\"Expired product administered\"]) \\\\\n",
       "\t11 & 816542 & Set([\"Herpes zoster\"]) \\\\\n",
       "\t12 & 864692 & Set([\"Malaise\", \"Pain\", \"Pyrexia\", \"Pruritus\", \"Skin warm\", \"Erythema\", \"Pain in extremity\", \"Peripheral swelling\"]) \\\\\n",
       "\t13 & 888531 & Set([\"Tenderness\", \"Pain in extremity\", \"Peripheral swelling\"]) \\\\\n",
       "\t14 & 925270 & Set([\"Muscle fatigue\"]) \\\\\n",
       "\t15 & 926039 & Set([\"Nausea\", \"Skin warm\", \"Arthralgia\", \"Erythema\", \"Neck pain\", \"Peripheral swelling\", \"Pain in extremity\"]) \\\\\n",
       "\t16 & 844734 & Set([\"Cough\", \"Diarrhoea\", \"Headache\", \"Lethargy\"]) \\\\\n",
       "\t17 & 898563 & Set([\"Mobility decreased\", \"Product administered at inappropriate site\", \"Quality of life decreased\", \"Pain in extremity\"]) \\\\\n",
       "\t18 & 903750 & Set([\"Urticaria\"]) \\\\\n",
       "\t19 & 1052848 & Set([\"Dyspnoea\", \"Asthenia\", \"SARS-CoV-2 test positive\", \"COVID-19 pneumonia\", \"COVID-19\", \"Chest X-ray abnormal\", \"Pneumonia\"]) \\\\\n",
       "\t20 & 864253 & Set([\"Rash\"]) \\\\\n",
       "\t21 & 843235 & Set([\"Malaise\", \"Pyrexia\", \"Urticaria\"]) \\\\\n",
       "\t22 & 915819 & Set([\"Nausea\", \"Vomiting\"]) \\\\\n",
       "\t23 & 1095664 & Set([\"Myalgia\", \"Pyrexia\", \"Nausea\", \"Arthralgia\", \"Fatigue\", \"Pain in extremity\", \"Muscle spasms\"]) \\\\\n",
       "\t24 & 851385 & Set([\"No adverse event\", \"Product administered to patient of inappropriate age\"]) \\\\\n",
       "\t25 & 801830 & Set([\"Asthenia\", \"Hyperhidrosis\", \"Chills\"]) \\\\\n",
       "\t26 & 813579 & Set([\"Injection site warmth\", \"Injection site erythema\", \"Injection site rash\"]) \\\\\n",
       "\t27 & 1024131 & Set([\"Appendicectomy\", \"Pain\", \"Headache\", \"Appendicitis\"]) \\\\\n",
       "\t28 & 893323 & Set([\"Injection site pain\"]) \\\\\n",
       "\t29 & 810056 & Set([\"Feeling cold\", \"Headache\", \"Injection site pain\", \"Arthralgia\", \"Decreased appetite\", \"Insomnia\", \"Nervousness\", \"Pain in extremity\"]) \\\\\n",
       "\t30 & 1090478 & Set([\"Hypertension\", \"SARS-CoV-2 test\", \"Blood pressure measurement\", \"Disease recurrence\", \"Pulmonary oedema\", \"Cardiac failure congestive\"]) \\\\\n",
       "\t$\\dots$ & $\\dots$ & $\\dots$ \\\\\n",
       "\\end{tabular}\n"
      ],
      "text/plain": [
       "\u001b[1m135054×2 DataFrame\u001b[0m\n",
       "\u001b[1m    Row \u001b[0m│\u001b[1m VAERS_ID \u001b[0m\u001b[1m SYMPTOMS                          \u001b[0m\n",
       "\u001b[1m        \u001b[0m│\u001b[90m Int64    \u001b[0m\u001b[90m String                            \u001b[0m\n",
       "────────┼─────────────────────────────────────────────\n",
       "      1 │   870067  Set([\"Platelet count decreased\"])\n",
       "      2 │  1043880  Set([\"Aspiration\", \"Death\", \"Ins…\n",
       "      3 │   900301  Set([\"Coronavirus infection\", \"C…\n",
       "      4 │   905057  Set([\"Influenza\"])\n",
       "      5 │   818452  Set([\"Abdominal distension\", \"Fl…\n",
       "      6 │   870391  Set([\"Product storage error\"])\n",
       "      7 │  1051588  Set([\"Paraesthesia\"])\n",
       "      8 │  1048923  Set([\"Pain\", \"Pyrexia\", \"Pain in…\n",
       "      9 │   802732  Set([\"Pain\", \"Injection site pai…\n",
       "     10 │   876141  Set([\"Expired product administer…\n",
       "     11 │   816542  Set([\"Herpes zoster\"])\n",
       "   ⋮    │    ⋮                      ⋮\n",
       " 135045 │  1077014  Set([\"Death\"])\n",
       " 135046 │   892040  Set([\"Mobility decreased\", \"Skin…\n",
       " 135047 │   892123  Set([\"Discomfort\", \"Injection si…\n",
       " 135048 │   839999  Set([\"Mobility decreased\", \"Rash…\n",
       " 135049 │   883302  Set([\"Rash\", \"Syncope\", \"Chest d…\n",
       " 135050 │   877931  Set([\"Product storage error\"])\n",
       " 135051 │   898990  Set([\"Incomplete course of vacci…\n",
       " 135052 │   874150  Set([\"Underdose\", \"No adverse ev…\n",
       " 135053 │   916181  Set([\"Dysarthria\", \"Pyrexia\", \"A…\n",
       " 135054 │   809489  Set([\"Product storage error\", \"N…\n",
       "\u001b[36m                                   135033 rows omitted\u001b[0m"
      ]
     },
     "execution_count": 5,
     "metadata": {},
     "output_type": "execute_result"
    }
   ],
   "source": [
    "# rename colnames of df_symp_appended\n",
    "colnames = [\"VAERS_ID\", \"SYMPTOMS\"];\n",
    "rename!(df_symp_appended, colnames)"
   ]
  },
  {
   "cell_type": "code",
   "execution_count": 6,
   "metadata": {},
   "outputs": [
    {
     "name": "stdout",
     "output_type": "stream",
     "text": [
      "(135055, 36)(157781, 8)(157781, 43)"
     ]
    }
   ],
   "source": [
    "# merge (left-join) VAERS data, vaccine files\n",
    "print(size(df_data_appended));\n",
    "print(size(df_vax_appended));\n",
    "df_merged = leftjoin(df_data_appended, df_vax_appended, on = :VAERS_ID)\n",
    "print(size(df_merged));"
   ]
  },
  {
   "cell_type": "code",
   "execution_count": 7,
   "metadata": {},
   "outputs": [
    {
     "name": "stdout",
     "output_type": "stream",
     "text": [
      "(157781, 43)(135054, 2)(157781, 44)"
     ]
    }
   ],
   "source": [
    "# merge (left-join) VAERS data + vax, symptoms files\n",
    "print(size(df_merged));\n",
    "print(size(df_symp_appended));\n",
    "df_merged = leftjoin(df_merged, df_symp_appended, on = :VAERS_ID)\n",
    "print(size(df_merged));"
   ]
  },
  {
   "cell_type": "code",
   "execution_count": 8,
   "metadata": {},
   "outputs": [],
   "source": [
    "# write to dev\n",
    "CSV.write(joinpath(path_dev,\"19-21VAERSCOMB.csv\"), df_merged);"
   ]
  },
  {
   "cell_type": "code",
   "execution_count": null,
   "metadata": {},
   "outputs": [],
   "source": []
  }
 ],
 "metadata": {
  "kernelspec": {
   "display_name": "Julia 1.6.0",
   "language": "julia",
   "name": "julia-1.6"
  },
  "language_info": {
   "file_extension": ".jl",
   "mimetype": "application/julia",
   "name": "julia",
   "version": "1.6.0"
  }
 },
 "nbformat": 4,
 "nbformat_minor": 4
}
